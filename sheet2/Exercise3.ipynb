{
 "cells": [
  {
   "cell_type": "code",
   "execution_count": 1,
   "metadata": {},
   "outputs": [
    {
     "name": "stdout",
     "output_type": "stream",
     "text": [
      "\u001b[32m\u001b[1m    Updating\u001b[22m\u001b[39m registry at `C:\\Users\\Rubén Bautista\\.julia\\registries\\General`\n"
     ]
    },
    {
     "name": "stdout",
     "output_type": "stream",
     "text": [
      "\u001b[32m\u001b[1m    Updating\u001b[22m\u001b[39m git-repo `https://github.com/JuliaRegistries/General.git`\n"
     ]
    },
    {
     "name": "stdout",
     "output_type": "stream",
     "text": [
      "\u001b[32m\u001b[1m   Resolving\u001b[22m\u001b[39m package versions...\n"
     ]
    },
    {
     "name": "stdout",
     "output_type": "stream",
     "text": [
      "\u001b[32m\u001b[1m  No Changes\u001b[22m\u001b[39m to `C:\\Users\\Rubén Bautista\\.julia\\environments\\v1.6\\Project.toml`\n",
      "\u001b[32m\u001b[1m  No Changes\u001b[22m\u001b[39m to `C:\\Users\\Rubén Bautista\\.julia\\environments\\v1.6\\Manifest.toml`\n"
     ]
    },
    {
     "name": "stdout",
     "output_type": "stream",
     "text": [
      "\u001b[32m\u001b[1m   Resolving\u001b[22m\u001b[39m package versions..."
     ]
    },
    {
     "name": "stdout",
     "output_type": "stream",
     "text": [
      "\n",
      "\u001b[32m\u001b[1m  No Changes\u001b[22m\u001b[39m to `C:\\Users\\Rubén Bautista\\.julia\\environments\\v1.6\\Project.toml`\n",
      "\u001b[32m\u001b[1m  No Changes\u001b[22m\u001b[39m to `C:\\Users\\Rubén Bautista\\.julia\\environments\\v1.6\\Manifest.toml`\n"
     ]
    },
    {
     "name": "stdout",
     "output_type": "stream",
     "text": [
      "\u001b[32m\u001b[1m   Resolving\u001b[22m\u001b[39m package versions...\n"
     ]
    },
    {
     "name": "stdout",
     "output_type": "stream",
     "text": [
      "\u001b[32m\u001b[1m  No Changes\u001b[22m\u001b[39m to `C:\\Users\\Rubén Bautista\\.julia\\environments\\v1.6\\Project.toml`\n",
      "\u001b[32m\u001b[1m  No Changes\u001b[22m\u001b[39m to `C:\\Users\\Rubén Bautista\\.julia\\environments\\v1.6\\Manifest.toml`"
     ]
    },
    {
     "name": "stdout",
     "output_type": "stream",
     "text": [
      "\n"
     ]
    },
    {
     "name": "stdout",
     "output_type": "stream",
     "text": [
      "\u001b[32m\u001b[1m   Resolving\u001b[22m\u001b[39m package versions..."
     ]
    },
    {
     "name": "stdout",
     "output_type": "stream",
     "text": [
      "\n",
      "\u001b[32m\u001b[1m  No Changes\u001b[22m\u001b[39m to `C:\\Users\\Rubén Bautista\\.julia\\environments\\v1.6\\Project.toml`\n",
      "\u001b[32m\u001b[1m  No Changes\u001b[22m\u001b[39m to `C:\\Users\\Rubén Bautista\\.julia\\environments\\v1.6\\Manifest.toml`\n"
     ]
    },
    {
     "name": "stdout",
     "output_type": "stream",
     "text": [
      "\u001b[32m\u001b[1m   Resolving\u001b[22m\u001b[39m package versions..."
     ]
    },
    {
     "name": "stdout",
     "output_type": "stream",
     "text": [
      "\n",
      "\u001b[32m\u001b[1m  No Changes\u001b[22m\u001b[39m to `C:\\Users\\Rubén Bautista\\.julia\\environments\\v1.6\\Project.toml`\n",
      "\u001b[32m\u001b[1m  No Changes\u001b[22m\u001b[39m to `C:\\Users\\Rubén Bautista\\.julia\\environments\\v1.6\\Manifest.toml`"
     ]
    },
    {
     "name": "stdout",
     "output_type": "stream",
     "text": [
      "\n"
     ]
    },
    {
     "name": "stdout",
     "output_type": "stream",
     "text": [
      "\u001b[32m\u001b[1m   Resolving\u001b[22m\u001b[39m package versions...\n"
     ]
    },
    {
     "name": "stdout",
     "output_type": "stream",
     "text": [
      "\u001b[32m\u001b[1m  No Changes\u001b[22m\u001b[39m to `C:\\Users\\Rubén Bautista\\.julia\\environments\\v1.6\\Project.toml`\n",
      "\u001b[32m\u001b[1m  No Changes\u001b[22m\u001b[39m to `C:\\Users\\Rubén Bautista\\.julia\\environments\\v1.6\\Manifest.toml`"
     ]
    },
    {
     "name": "stdout",
     "output_type": "stream",
     "text": [
      "\n"
     ]
    },
    {
     "name": "stdout",
     "output_type": "stream",
     "text": [
      "\u001b[32m\u001b[1m   Resolving\u001b[22m\u001b[39m package versions...\n"
     ]
    },
    {
     "name": "stdout",
     "output_type": "stream",
     "text": [
      "\u001b[32m\u001b[1m   Installed\u001b[22m\u001b[39m Hodge ─ v0.1.0\n"
     ]
    },
    {
     "name": "stdout",
     "output_type": "stream",
     "text": [
      "\u001b[32m\u001b[1m    Updating\u001b[22m\u001b[39m `C:\\Users\\Rubén Bautista\\.julia\\environments\\v1.6\\Project.toml`\n",
      " "
     ]
    },
    {
     "name": "stdout",
     "output_type": "stream",
     "text": [
      "\u001b[90m [3c44080d] \u001b[39m\u001b[92m+ Hodge v0.1.0\u001b[39m\n",
      "\u001b[32m\u001b[1m    Updating\u001b[22m\u001b[39m `C:\\Users\\Rubén Bautista\\.julia\\environments\\v1.6\\Manifest.toml`\n",
      " \u001b[90m [3c44080d] \u001b[39m\u001b[92m+ Hodge v0.1.0\u001b[39m"
     ]
    },
    {
     "name": "stdout",
     "output_type": "stream",
     "text": [
      "\n",
      "\u001b[32m\u001b[1mPrecompiling\u001b[22m\u001b[39m"
     ]
    },
    {
     "name": "stdout",
     "output_type": "stream",
     "text": [
      " "
     ]
    },
    {
     "name": "stdout",
     "output_type": "stream",
     "text": [
      "project...\n"
     ]
    },
    {
     "name": "stdout",
     "output_type": "stream",
     "text": [
      "\u001b[32m  ✓ \u001b[39mHodge\n",
      "  1 dependency successfully precompiled in 5 seconds (81 already precompiled)"
     ]
    },
    {
     "name": "stdout",
     "output_type": "stream",
     "text": [
      "\n"
     ]
    }
   ],
   "source": [
    "using Pkg\n",
    "Pkg.add(\"LightGraphs\")\n",
    "Pkg.add(\"TikzGraphs\")\n",
    "Pkg.add(\"Combinatorics\")\n",
    "Pkg.add(\"GraphPlot\")\n",
    "Pkg.add(\"Compose\")\n",
    "Pkg.add(\"LaTeXStrings\")\n",
    "Pkg.add(\"Hodge\")"
   ]
  },
  {
   "cell_type": "code",
   "execution_count": 2,
   "metadata": {},
   "outputs": [],
   "source": [
    "using LightGraphs\n",
    "using TikzGraphs\n",
    "using Combinatorics\n",
    "using GraphPlot\n",
    "using LaTeXStrings\n",
    "using Hodge"
   ]
  },
  {
   "cell_type": "code",
   "execution_count": 3,
   "metadata": {},
   "outputs": [
    {
     "data": {
      "text/plain": [
       "get_splits (generic function with 1 method)"
      ]
     },
     "metadata": {},
     "output_type": "display_data"
    }
   ],
   "source": [
    "# n is the value of the labels, i.e, the n of T_n\n",
    "function get_splits(n)\n",
    "    rng = 0:n\n",
    "    rng_set = Set(rng)\n",
    "    # We use sets because with this approach is almost sure that we are generating duplicated splits\n",
    "    needed_subsets = map(dim -> map(Set, Combinatorics.combinations(rng, dim)), 2:ceil(Int, (n+1)/2))\n",
    "    splits = Set(map(subset -> Set([subset, symdiff(rng_set, subset)]), Iterators.flatten(needed_subsets)))\n",
    "    return splits\n",
    "end"
   ]
  },
  {
   "cell_type": "code",
   "execution_count": 4,
   "metadata": {},
   "outputs": [
    {
     "data": {
      "text/plain": [
       "generate_raw_simplicial_complex (generic function with 1 method)"
      ]
     },
     "metadata": {},
     "output_type": "display_data"
    }
   ],
   "source": [
    "function compatible_splits(split_1, split_2)\n",
    "    X_1, Y_1 = collect(split_1)\n",
    "    X_2, Y_2 = collect(split_2)\n",
    "    X_1_X_2 = intersect(X_1, X_2)\n",
    "    X_1_Y_2 = intersect(X_1, Y_2)\n",
    "    X_2_Y_1 = intersect(X_2, Y_1)\n",
    "    Y_1_Y_2 = intersect(Y_1, Y_2)\n",
    "    if length(X_1_X_2) == 0 || length(X_1_Y_2) == 0 || length(X_2_Y_1) == 0 || length(Y_1_Y_2) == 0\n",
    "        return true\n",
    "    end\n",
    "    return false\n",
    "end\n",
    "\n",
    "function generate_raw_simplicial_complex(splits)\n",
    "    table_of_compatibility = Dict()\n",
    "    s_complex = Dict()\n",
    "    vertex_combinations = Set(collect(Combinatorics.combinations(collect(splits), 2)))\n",
    "    for vertex_combination in vertex_combinations\n",
    "        split_1, split_2 = vertex_combination\n",
    "        push!(table_of_compatibility, Set(vertex_combination) => compatible_splits(split_1, split_2))\n",
    "    end\n",
    "    # First we add the vertices to the complex\n",
    "    push!(s_complex, 0 => Set(map(split -> Set([split]) , collect(splits))))\n",
    "    # Now we iterate through dimensions\n",
    "    previous_dimension = 0\n",
    "    added_simplices = true\n",
    "    while added_simplices\n",
    "        added_simplices = false\n",
    "        current_dimension = previous_dimension + 1\n",
    "        current_dimension_simplices = []\n",
    "        for split in splits\n",
    "            for simplex in s_complex[previous_dimension]\n",
    "                if !(split in simplex)\n",
    "                    all_compatible = true\n",
    "                    for vertex in simplex\n",
    "                        if !table_of_compatibility[Set([split, vertex])]\n",
    "                            all_compatible = false\n",
    "                            break\n",
    "                        end\n",
    "                    end\n",
    "                    if all_compatible\n",
    "                        added_simplices = true\n",
    "                        new_simplex = union(simplex, Set([split]))\n",
    "                        push!(current_dimension_simplices, new_simplex)\n",
    "                    end\n",
    "                end\n",
    "            end\n",
    "        end\n",
    "        if added_simplices\n",
    "            push!(s_complex, current_dimension => Set(current_dimension_simplices))\n",
    "        end\n",
    "        previous_dimension = current_dimension\n",
    "    end\n",
    "    return s_complex\n",
    "end"
   ]
  },
  {
   "cell_type": "code",
   "execution_count": 5,
   "metadata": {},
   "outputs": [
    {
     "data": {
      "text/plain": [
       "generate_abstract_simplicial_complex (generic function with 1 method)"
      ]
     },
     "metadata": {},
     "output_type": "display_data"
    }
   ],
   "source": [
    "function generate_abstract_simplicial_complex(simplicial_complex_raw)\n",
    "    dim_complex = length(simplicial_complex_raw) - 1\n",
    "    simplicial_complex = Dict()\n",
    "    map_vertices_to_integers = Dict(\n",
    "            map(enumerated_split -> (collect(enumerated_split[2])[1], enumerated_split[1]),\n",
    "            enumerate(simplicial_complex_raw[0])))\n",
    "    for dim in 0:dim_complex\n",
    "        simplices = []\n",
    "        simplices_raw = simplicial_complex_raw[dim]\n",
    "        for simplex_raw in simplices_raw\n",
    "            simplex = []\n",
    "            for vertex in simplex_raw\n",
    "                push!(simplex, map_vertices_to_integers[vertex])\n",
    "            end\n",
    "            push!(simplices, Set(simplex))\n",
    "        end\n",
    "        push!(simplicial_complex, dim => Set(simplices))\n",
    "    end\n",
    "    return simplicial_complex\n",
    "end"
   ]
  },
  {
   "cell_type": "code",
   "execution_count": 6,
   "metadata": {},
   "outputs": [
    {
     "data": {
      "text/plain": [
       "get_graph_from_simplicial_complex (generic function with 1 method)"
      ]
     },
     "metadata": {},
     "output_type": "display_data"
    }
   ],
   "source": [
    "function get_graph_from_simplicial_complex(simplicial_complex)\n",
    "    graph = LightGraphs.SimpleGraph(length(simplicial_complex[0]))\n",
    "    for edge in simplicial_complex[1]\n",
    "        e_1, e_2 = collect(edge)\n",
    "        add_edge!(graph, e_1, e_2)\n",
    "    end\n",
    "    return graph\n",
    "end"
   ]
  },
  {
   "cell_type": "code",
   "execution_count": 7,
   "metadata": {},
   "outputs": [
    {
     "data": {
      "text/plain": [
       "get_info_tree_n_from_simplicial_complex (generic function with 1 method)"
      ]
     },
     "metadata": {},
     "output_type": "display_data"
    }
   ],
   "source": [
    "function get_info_tree_n_from_simplicial_complex(simplicial_complex)\n",
    "    dim = length(keys(simplicial_complex)) - 1\n",
    "    println(\"Dimension of the simplicial complex: $dim\")\n",
    "    vertices = length(simplicial_complex[0])\n",
    "    println(\"Number of vertices: $vertices\")\n",
    "    if dim >= 1\n",
    "        edges = length(simplicial_complex[1])\n",
    "        println(\"Number of edges: $edges\")\n",
    "    end\n",
    "    if dim >= 2\n",
    "        triangles = length(simplicial_complex[2])\n",
    "        println(\"Number of triangles: $triangles\")\n",
    "    end\n",
    "end"
   ]
  },
  {
   "cell_type": "code",
   "execution_count": 30,
   "metadata": {},
   "outputs": [
    {
     "data": {
      "text/plain": [
       "get_homology_information (generic function with 1 method)"
      ]
     },
     "metadata": {},
     "output_type": "display_data"
    }
   ],
   "source": [
    "function get_simplicial_complex_without_dims(simplicial_complex_with_dims)\n",
    "    s_complex = []\n",
    "    for dim in keys(simplicial_complex_with_dims)\n",
    "        append!(s_complex, map(s_complex_dim -> collect(s_complex_dim), collect(simplicial_complex_with_dims[dim])))\n",
    "    end\n",
    "    return s_complex\n",
    "end\n",
    "function get_homology_information(simplicial_complex_with_dims)\n",
    "    s_complex =SimplicialComplex(get_simplicial_complex_without_dims(simplicial_complex_with_dims))\n",
    "    euler_c = euler_characteristic(s_complex)\n",
    "    bettis = betti(s_complex)\n",
    "    println(\"Euler characteristic: $euler_c\")\n",
    "    for dim in 0:(length(bettis)-1)\n",
    "        betti_dim = bettis[dim+1]\n",
    "        println(\"Betti number: $betti_dim\")\n",
    "    end\n",
    "    \n",
    "end"
   ]
  },
  {
   "cell_type": "code",
   "execution_count": 8,
   "metadata": {},
   "outputs": [
    {
     "data": {
      "text/plain": [
       "{10, 15} undirected simple Int64 graph"
      ]
     },
     "metadata": {},
     "output_type": "display_data"
    }
   ],
   "source": [
    "splits_t_4 = get_splits(4)\n",
    "s_complex_t_4_raw = generate_raw_simplicial_complex(splits_t_4)\n",
    "s_complex_t_4 = generate_abstract_simplicial_complex(s_complex_t_4_raw)\n",
    "graph_t_4 = get_graph_from_simplicial_complex(s_complex_t_4)"
   ]
  },
  {
   "cell_type": "code",
   "execution_count": 9,
   "metadata": {},
   "outputs": [
    {
     "data": {
      "image/svg+xml": "<?xml version=\"1.0\" encoding=\"UTF-8\"?>\n<svg xmlns=\"http://www.w3.org/2000/svg\" xmlns:xlink=\"http://www.w3.org/1999/xlink\" width=\"147.743pt\" height=\"155.118pt\" viewBox=\"0 0 147.743 155.118\" version=\"1.2\">\n<defs>\n<g>\n<symbol overflow=\"visible\" id=\"glyph-1633767678110000-0-0\">\n<path style=\"stroke:none;\" d=\"\"/>\n</symbol>\n<symbol overflow=\"visible\" id=\"glyph-1633767678110000-0-1\">\n<path style=\"stroke:none;\" d=\"M 4.15625 0 L 4.15625 -0.3125 L 3.828125 -0.3125 C 2.9375 -0.3125 2.90625 -0.421875 2.90625 -0.78125 L 2.90625 -6.34375 C 2.90625 -6.578125 2.90625 -6.59375 2.6875 -6.59375 C 2.078125 -5.96875 1.203125 -5.96875 0.875 -5.96875 L 0.875 -5.65625 C 1.078125 -5.65625 1.671875 -5.65625 2.171875 -5.90625 L 2.171875 -0.78125 C 2.171875 -0.421875 2.15625 -0.3125 1.265625 -0.3125 L 0.9375 -0.3125 L 0.9375 0 C 1.28125 -0.03125 2.15625 -0.03125 2.546875 -0.03125 C 2.9375 -0.03125 3.796875 -0.03125 4.15625 0 Z M 4.15625 0 \"/>\n</symbol>\n<symbol overflow=\"visible\" id=\"glyph-1633767678110000-0-2\">\n<path style=\"stroke:none;\" d=\"M 4.453125 -1.71875 L 4.203125 -1.71875 C 4.15625 -1.421875 4.078125 -0.984375 3.984375 -0.84375 C 3.90625 -0.765625 3.265625 -0.765625 3.046875 -0.765625 L 1.265625 -0.765625 L 2.3125 -1.78125 C 3.859375 -3.15625 4.453125 -3.6875 4.453125 -4.671875 C 4.453125 -5.8125 3.5625 -6.59375 2.34375 -6.59375 C 1.234375 -6.59375 0.5 -5.6875 0.5 -4.796875 C 0.5 -4.25 0.984375 -4.25 1.015625 -4.25 C 1.1875 -4.25 1.53125 -4.375 1.53125 -4.78125 C 1.53125 -5.03125 1.359375 -5.296875 1.015625 -5.296875 C 0.9375 -5.296875 0.90625 -5.296875 0.875 -5.28125 C 1.109375 -5.921875 1.640625 -6.296875 2.21875 -6.296875 C 3.125 -6.296875 3.546875 -5.484375 3.546875 -4.671875 C 3.546875 -3.890625 3.046875 -3.09375 2.5 -2.484375 L 0.609375 -0.359375 C 0.5 -0.25 0.5 -0.234375 0.5 0 L 4.171875 0 Z M 4.453125 -1.71875 \"/>\n</symbol>\n<symbol overflow=\"visible\" id=\"glyph-1633767678110000-0-3\">\n<path style=\"stroke:none;\" d=\"M 4.53125 -1.6875 C 4.53125 -2.5 3.90625 -3.28125 2.875 -3.484375 C 3.6875 -3.75 4.265625 -4.453125 4.265625 -5.234375 C 4.265625 -6.046875 3.390625 -6.59375 2.4375 -6.59375 C 1.4375 -6.59375 0.6875 -6 0.6875 -5.25 C 0.6875 -4.921875 0.90625 -4.734375 1.1875 -4.734375 C 1.5 -4.734375 1.6875 -4.953125 1.6875 -5.234375 C 1.6875 -5.734375 1.234375 -5.734375 1.078125 -5.734375 C 1.390625 -6.21875 2.046875 -6.34375 2.390625 -6.34375 C 2.796875 -6.34375 3.34375 -6.125 3.34375 -5.234375 C 3.34375 -5.125 3.328125 -4.546875 3.078125 -4.109375 C 2.78125 -3.640625 2.4375 -3.609375 2.1875 -3.59375 C 2.109375 -3.59375 1.875 -3.5625 1.796875 -3.5625 C 1.71875 -3.5625 1.65625 -3.546875 1.65625 -3.453125 C 1.65625 -3.34375 1.71875 -3.34375 1.890625 -3.34375 L 2.328125 -3.34375 C 3.140625 -3.34375 3.5 -2.671875 3.5 -1.6875 C 3.5 -0.34375 2.828125 -0.0625 2.390625 -0.0625 C 1.96875 -0.0625 1.21875 -0.234375 0.875 -0.8125 C 1.21875 -0.765625 1.53125 -0.984375 1.53125 -1.359375 C 1.53125 -1.71875 1.265625 -1.90625 0.96875 -1.90625 C 0.734375 -1.90625 0.421875 -1.765625 0.421875 -1.34375 C 0.421875 -0.4375 1.34375 0.21875 2.421875 0.21875 C 3.625 0.21875 4.53125 -0.6875 4.53125 -1.6875 Z M 4.53125 -1.6875 \"/>\n</symbol>\n<symbol overflow=\"visible\" id=\"glyph-1633767678110000-0-4\">\n<path style=\"stroke:none;\" d=\"M 4.671875 -1.640625 L 4.671875 -1.9375 L 3.671875 -1.9375 L 3.671875 -6.453125 C 3.671875 -6.640625 3.671875 -6.703125 3.515625 -6.703125 C 3.421875 -6.703125 3.390625 -6.703125 3.3125 -6.59375 L 0.28125 -1.9375 L 0.28125 -1.640625 L 2.90625 -1.640625 L 2.90625 -0.765625 C 2.90625 -0.421875 2.890625 -0.3125 2.15625 -0.3125 L 1.953125 -0.3125 L 1.953125 0 C 2.359375 -0.03125 2.875 -0.03125 3.28125 -0.03125 C 3.703125 -0.03125 4.234375 -0.03125 4.640625 0 L 4.640625 -0.3125 L 4.421875 -0.3125 C 3.6875 -0.3125 3.671875 -0.421875 3.671875 -0.765625 L 3.671875 -1.640625 Z M 2.96875 -1.9375 L 0.5625 -1.9375 L 2.96875 -5.640625 Z M 2.96875 -1.9375 \"/>\n</symbol>\n<symbol overflow=\"visible\" id=\"glyph-1633767678110000-0-5\">\n<path style=\"stroke:none;\" d=\"M 4.453125 -1.984375 C 4.453125 -3.171875 3.640625 -4.15625 2.5625 -4.15625 C 2.09375 -4.15625 1.671875 -4 1.3125 -3.65625 L 1.3125 -5.59375 C 1.5 -5.53125 1.828125 -5.453125 2.15625 -5.453125 C 3.375 -5.453125 4.0625 -6.359375 4.0625 -6.484375 C 4.0625 -6.546875 4.03125 -6.59375 3.96875 -6.59375 C 3.96875 -6.59375 3.9375 -6.59375 3.890625 -6.5625 C 3.6875 -6.484375 3.203125 -6.28125 2.53125 -6.28125 C 2.140625 -6.28125 1.6875 -6.34375 1.21875 -6.5625 C 1.140625 -6.59375 1.09375 -6.59375 1.09375 -6.59375 C 1 -6.59375 1 -6.515625 1 -6.34375 L 1 -3.421875 C 1 -3.234375 1 -3.15625 1.140625 -3.15625 C 1.203125 -3.15625 1.234375 -3.1875 1.265625 -3.25 C 1.375 -3.40625 1.75 -3.9375 2.546875 -3.9375 C 3.0625 -3.9375 3.3125 -3.484375 3.390625 -3.3125 C 3.546875 -2.9375 3.5625 -2.5625 3.5625 -2.0625 C 3.5625 -1.71875 3.5625 -1.125 3.328125 -0.703125 C 3.09375 -0.3125 2.71875 -0.0625 2.265625 -0.0625 C 1.546875 -0.0625 0.984375 -0.578125 0.8125 -1.171875 C 0.84375 -1.15625 0.875 -1.15625 0.984375 -1.15625 C 1.3125 -1.15625 1.46875 -1.390625 1.46875 -1.640625 C 1.46875 -1.875 1.3125 -2.125 0.984375 -2.125 C 0.84375 -2.125 0.5 -2.046875 0.5 -1.59375 C 0.5 -0.75 1.171875 0.21875 2.28125 0.21875 C 3.4375 0.21875 4.453125 -0.734375 4.453125 -1.984375 Z M 4.453125 -1.984375 \"/>\n</symbol>\n<symbol overflow=\"visible\" id=\"glyph-1633767678110000-0-6\">\n<path style=\"stroke:none;\" d=\"M 4.53125 -2.015625 C 4.53125 -3.28125 3.640625 -4.234375 2.546875 -4.234375 C 1.875 -4.234375 1.5 -3.71875 1.3125 -3.25 L 1.3125 -3.484375 C 1.3125 -6 2.53125 -6.34375 3.046875 -6.34375 C 3.28125 -6.34375 3.6875 -6.296875 3.90625 -5.953125 C 3.765625 -5.953125 3.375 -5.953125 3.375 -5.515625 C 3.375 -5.203125 3.609375 -5.046875 3.828125 -5.046875 C 3.984375 -5.046875 4.28125 -5.140625 4.28125 -5.53125 C 4.28125 -6.125 3.84375 -6.59375 3.015625 -6.59375 C 1.75 -6.59375 0.421875 -5.3125 0.421875 -3.125 C 0.421875 -0.484375 1.5625 0.21875 2.484375 0.21875 C 3.59375 0.21875 4.53125 -0.71875 4.53125 -2.015625 Z M 3.640625 -2.03125 C 3.640625 -1.5625 3.640625 -1.0625 3.46875 -0.703125 C 3.171875 -0.109375 2.71875 -0.0625 2.484375 -0.0625 C 1.859375 -0.0625 1.5625 -0.65625 1.5 -0.796875 C 1.328125 -1.265625 1.328125 -2.0625 1.328125 -2.234375 C 1.328125 -3.015625 1.640625 -4 2.53125 -4 C 2.6875 -4 3.15625 -4 3.453125 -3.390625 C 3.640625 -3.015625 3.640625 -2.515625 3.640625 -2.03125 Z M 3.640625 -2.03125 \"/>\n</symbol>\n<symbol overflow=\"visible\" id=\"glyph-1633767678110000-0-7\">\n<path style=\"stroke:none;\" d=\"M 4.796875 -6.375 L 2.390625 -6.375 C 1.1875 -6.375 1.171875 -6.515625 1.125 -6.703125 L 0.875 -6.703125 L 0.5625 -4.65625 L 0.796875 -4.65625 C 0.828125 -4.8125 0.921875 -5.4375 1.046875 -5.5625 C 1.125 -5.609375 1.890625 -5.609375 2.015625 -5.609375 L 4.078125 -5.609375 L 2.96875 -4.046875 C 2.078125 -2.71875 1.75 -1.34375 1.75 -0.328125 C 1.75 -0.234375 1.75 0.21875 2.203125 0.21875 C 2.65625 0.21875 2.65625 -0.234375 2.65625 -0.328125 L 2.65625 -0.828125 C 2.65625 -1.375 2.6875 -1.921875 2.765625 -2.453125 C 2.796875 -2.6875 2.9375 -3.53125 3.375 -4.15625 L 4.71875 -6.03125 C 4.796875 -6.15625 4.796875 -6.171875 4.796875 -6.375 Z M 4.796875 -6.375 \"/>\n</symbol>\n<symbol overflow=\"visible\" id=\"glyph-1633767678110000-0-8\">\n<path style=\"stroke:none;\" d=\"M 4.53125 -1.671875 C 4.53125 -2.015625 4.421875 -2.46875 4.046875 -2.875 C 3.859375 -3.09375 3.6875 -3.1875 3.0625 -3.59375 C 3.78125 -3.953125 4.265625 -4.46875 4.265625 -5.125 C 4.265625 -6.03125 3.375 -6.59375 2.484375 -6.59375 C 1.484375 -6.59375 0.6875 -5.859375 0.6875 -4.9375 C 0.6875 -4.765625 0.703125 -4.3125 1.125 -3.859375 C 1.234375 -3.734375 1.59375 -3.484375 1.84375 -3.3125 C 1.265625 -3.03125 0.421875 -2.484375 0.421875 -1.5 C 0.421875 -0.453125 1.421875 0.21875 2.46875 0.21875 C 3.59375 0.21875 4.53125 -0.609375 4.53125 -1.671875 Z M 3.828125 -5.125 C 3.828125 -4.5625 3.4375 -4.078125 2.84375 -3.734375 L 1.609375 -4.53125 C 1.15625 -4.828125 1.125 -5.15625 1.125 -5.328125 C 1.125 -5.9375 1.765625 -6.34375 2.46875 -6.34375 C 3.1875 -6.34375 3.828125 -5.828125 3.828125 -5.125 Z M 4.03125 -1.3125 C 4.03125 -0.578125 3.28125 -0.0625 2.484375 -0.0625 C 1.625 -0.0625 0.90625 -0.671875 0.90625 -1.5 C 0.90625 -2.078125 1.234375 -2.703125 2.078125 -3.171875 L 3.28125 -2.390625 C 3.5625 -2.203125 4.03125 -1.90625 4.03125 -1.3125 Z M 4.03125 -1.3125 \"/>\n</symbol>\n<symbol overflow=\"visible\" id=\"glyph-1633767678110000-0-9\">\n<path style=\"stroke:none;\" d=\"M 4.53125 -3.265625 C 4.53125 -5.921875 3.390625 -6.59375 2.5 -6.59375 C 1.96875 -6.59375 1.46875 -6.421875 1.046875 -5.96875 C 0.640625 -5.53125 0.421875 -5.109375 0.421875 -4.375 C 0.421875 -3.125 1.28125 -2.15625 2.390625 -2.15625 C 3 -2.15625 3.40625 -2.578125 3.640625 -3.15625 L 3.640625 -2.828125 C 3.640625 -0.515625 2.609375 -0.0625 2.03125 -0.0625 C 1.859375 -0.0625 1.328125 -0.078125 1.0625 -0.421875 C 1.5 -0.421875 1.578125 -0.703125 1.578125 -0.875 C 1.578125 -1.171875 1.34375 -1.328125 1.125 -1.328125 C 0.953125 -1.328125 0.65625 -1.234375 0.65625 -0.859375 C 0.65625 -0.1875 1.203125 0.21875 2.046875 0.21875 C 3.3125 0.21875 4.53125 -1.125 4.53125 -3.265625 Z M 3.609375 -4.171875 C 3.609375 -3.34375 3.28125 -2.390625 2.40625 -2.390625 C 2.25 -2.390625 1.796875 -2.390625 1.484375 -3.015625 C 1.3125 -3.375 1.3125 -3.875 1.3125 -4.359375 C 1.3125 -4.890625 1.3125 -5.359375 1.515625 -5.71875 C 1.78125 -6.21875 2.15625 -6.34375 2.5 -6.34375 C 2.96875 -6.34375 3.28125 -6.015625 3.453125 -5.5625 C 3.578125 -5.25 3.609375 -4.625 3.609375 -4.171875 Z M 3.609375 -4.171875 \"/>\n</symbol>\n<symbol overflow=\"visible\" id=\"glyph-1633767678110000-0-10\">\n<path style=\"stroke:none;\" d=\"M 4.5625 -3.171875 C 4.5625 -3.96875 4.5 -4.75 4.15625 -5.484375 C 3.703125 -6.4375 2.890625 -6.59375 2.484375 -6.59375 C 1.875 -6.59375 1.15625 -6.34375 0.75 -5.421875 C 0.4375 -4.734375 0.390625 -3.96875 0.390625 -3.171875 C 0.390625 -2.421875 0.421875 -1.53125 0.828125 -0.78125 C 1.265625 0.015625 1.984375 0.21875 2.46875 0.21875 C 3 0.21875 3.75 0.015625 4.1875 -0.9375 C 4.5 -1.609375 4.5625 -2.390625 4.5625 -3.171875 Z M 3.734375 -3.28125 C 3.734375 -2.546875 3.734375 -1.875 3.625 -1.234375 C 3.484375 -0.296875 2.90625 0 2.46875 0 C 2.078125 0 1.5 -0.25 1.3125 -1.203125 C 1.203125 -1.796875 1.203125 -2.703125 1.203125 -3.28125 C 1.203125 -3.921875 1.203125 -4.578125 1.28125 -5.109375 C 1.46875 -6.296875 2.21875 -6.375 2.46875 -6.375 C 2.796875 -6.375 3.453125 -6.203125 3.640625 -5.21875 C 3.734375 -4.671875 3.734375 -3.90625 3.734375 -3.28125 Z M 3.734375 -3.28125 \"/>\n</symbol>\n</g>\n<clipPath id=\"clip-1633767678110000-1\">\n  <path d=\"M 6 86 L 147.199219 86 L 147.199219 147 L 6 147 Z M 6 86 \"/>\n</clipPath>\n</defs>\n<g id=\"surface1\">\n<path style=\"fill:none;stroke-width:0.3985;stroke-linecap:butt;stroke-linejoin:miter;stroke:rgb(0%,0%,0%);stroke-opacity:1;stroke-miterlimit:10;\" d=\"M -6.011785 -4.008129 L -36.508427 -24.337914 \" transform=\"matrix(0.994346,0,0,-0.994346,90.626233,6.60047)\"/>\n<path style=\"fill:none;stroke-width:0.3985;stroke-linecap:butt;stroke-linejoin:miter;stroke:rgb(0%,0%,0%);stroke-opacity:1;stroke-miterlimit:10;\" d=\"M 6.009305 -6.011644 L 28.346534 -28.344944 L 28.346534 -106.438819 \" transform=\"matrix(0.994346,0,0,-0.994346,90.626233,6.60047)\"/>\n<path style=\"fill:none;stroke-width:0.3985;stroke-linecap:butt;stroke-linejoin:miter;stroke:rgb(0%,0%,0%);stroke-opacity:1;stroke-miterlimit:10;\" d=\"M -0.0012397 -6.836621 L -0.0012397 -113.388266 L -10.698439 -134.786593 \" transform=\"matrix(0.994346,0,0,-0.994346,90.626233,6.60047)\"/>\n<path style=\"fill:none;stroke-width:0.3985;stroke-linecap:butt;stroke-linejoin:miter;stroke:rgb(0%,0%,0%);stroke-opacity:1;stroke-miterlimit:10;\" d=\"M -40.810092 -35.184395 L -37.168408 -49.747199 \" transform=\"matrix(0.994346,0,0,-0.994346,90.626233,6.60047)\"/>\n<path style=\"fill:none;stroke-width:0.3985;stroke-linecap:butt;stroke-linejoin:miter;stroke:rgb(0%,0%,0%);stroke-opacity:1;stroke-miterlimit:10;\" d=\"M -48.529517 -34.35549 L -70.866746 -56.692718 L -81.595373 -78.149972 \" transform=\"matrix(0.994346,0,0,-0.994346,90.626233,6.60047)\"/>\n<path style=\"fill:none;stroke-width:0.3985;stroke-linecap:butt;stroke-linejoin:miter;stroke:rgb(0%,0%,0%);stroke-opacity:1;stroke-miterlimit:10;\" d=\"M -40.645096 -63.642166 L -51.48372 -78.094973 \" transform=\"matrix(0.994346,0,0,-0.994346,90.626233,6.60047)\"/>\n<path style=\"fill:none;stroke-width:0.3985;stroke-linecap:butt;stroke-linejoin:miter;stroke:rgb(0%,0%,0%);stroke-opacity:1;stroke-miterlimit:10;\" d=\"M -33.695649 -63.642166 L -28.345085 -85.040492 L -28.345085 -106.391677 \" transform=\"matrix(0.994346,0,0,-0.994346,90.626233,6.60047)\"/>\n<path style=\"fill:none;stroke-width:0.3985;stroke-linecap:butt;stroke-linejoin:miter;stroke:rgb(0%,0%,0%);stroke-opacity:1;stroke-miterlimit:10;\" d=\"M -79.030088 -91.051038 L -62.703404 -107.377721 \" transform=\"matrix(0.994346,0,0,-0.994346,90.626233,6.60047)\"/>\n<g clip-path=\"url(#clip-1633767678110000-1)\" clip-rule=\"nonzero\">\n<path style=\"fill:none;stroke-width:0.3985;stroke-linecap:butt;stroke-linejoin:miter;stroke:rgb(0%,0%,0%);stroke-opacity:1;stroke-miterlimit:10;\" d=\"M -79.030088 -86.242601 L 56.694308 -113.388266 L 45.993181 -134.786593 \" transform=\"matrix(0.994346,0,0,-0.994346,90.626233,6.60047)\"/>\n</g>\n<path style=\"fill:none;stroke-width:0.3985;stroke-linecap:butt;stroke-linejoin:miter;stroke:rgb(0%,0%,0%);stroke-opacity:1;stroke-miterlimit:10;\" d=\"M -56.692859 -91.986011 L -56.692859 -106.438819 \" transform=\"matrix(0.994346,0,0,-0.994346,90.626233,6.60047)\"/>\n<path style=\"fill:none;stroke-width:0.3985;stroke-linecap:butt;stroke-linejoin:miter;stroke:rgb(0%,0%,0%);stroke-opacity:1;stroke-miterlimit:10;\" d=\"M -50.682314 -87.044007 L 22.335989 -111.384751 \" transform=\"matrix(0.994346,0,0,-0.994346,90.626233,6.60047)\"/>\n<path style=\"fill:none;stroke-width:0.3985;stroke-linecap:butt;stroke-linejoin:miter;stroke:rgb(0%,0%,0%);stroke-opacity:1;stroke-miterlimit:10;\" d=\"M -50.682314 -117.395296 L -20.185672 -137.725082 \" transform=\"matrix(0.994346,0,0,-0.994346,90.626233,6.60047)\"/>\n<path style=\"fill:none;stroke-width:0.3985;stroke-linecap:butt;stroke-linejoin:miter;stroke:rgb(0%,0%,0%);stroke-opacity:1;stroke-miterlimit:10;\" d=\"M -24.848755 -120.384855 L -17.647886 -134.786593 \" transform=\"matrix(0.994346,0,0,-0.994346,90.626233,6.60047)\"/>\n<path style=\"fill:none;stroke-width:0.3985;stroke-linecap:butt;stroke-linejoin:miter;stroke:rgb(0%,0%,0%);stroke-opacity:1;stroke-miterlimit:10;\" d=\"M -22.33454 -115.792484 L 34.019232 -138.333993 \" transform=\"matrix(0.994346,0,0,-0.994346,90.626233,6.60047)\"/>\n<path style=\"fill:none;stroke-width:0.3985;stroke-linecap:butt;stroke-linejoin:miter;stroke:rgb(0%,0%,0%);stroke-opacity:1;stroke-miterlimit:10;\" d=\"M 31.819294 -120.333785 L 39.047662 -134.786593 \" transform=\"matrix(0.994346,0,0,-0.994346,90.626233,6.60047)\"/>\n<g style=\"fill:rgb(0%,0%,0%);fill-opacity:1;\">\n  <use xlink:href=\"#glyph-1633767678110000-0-1\" x=\"88.150311\" y=\"9.89971\"/>\n</g>\n<g style=\"fill:rgb(0%,0%,0%);fill-opacity:1;\">\n  <use xlink:href=\"#glyph-1633767678110000-0-2\" x=\"45.870712\" y=\"38.085446\"/>\n</g>\n<g style=\"fill:rgb(0%,0%,0%);fill-opacity:1;\">\n  <use xlink:href=\"#glyph-1633767678110000-0-3\" x=\"52.917643\" y=\"66.162799\"/>\n</g>\n<g style=\"fill:rgb(0%,0%,0%);fill-opacity:1;\">\n  <use xlink:href=\"#glyph-1633767678110000-0-4\" x=\"3.592108\" y=\"94.512602\"/>\n</g>\n<g style=\"fill:rgb(0%,0%,0%);fill-opacity:1;\">\n  <use xlink:href=\"#glyph-1633767678110000-0-5\" x=\"31.777844\" y=\"94.348535\"/>\n</g>\n<g style=\"fill:rgb(0%,0%,0%);fill-opacity:1;\">\n  <use xlink:href=\"#glyph-1633767678110000-0-6\" x=\"31.777844\" y=\"122.535265\"/>\n</g>\n<g style=\"fill:rgb(0%,0%,0%);fill-opacity:1;\">\n  <use xlink:href=\"#glyph-1633767678110000-0-7\" x=\"59.96358\" y=\"122.584983\"/>\n</g>\n<g style=\"fill:rgb(0%,0%,0%);fill-opacity:1;\">\n  <use xlink:href=\"#glyph-1633767678110000-0-8\" x=\"116.336047\" y=\"122.535265\"/>\n</g>\n<g style=\"fill:rgb(0%,0%,0%);fill-opacity:1;\">\n  <use xlink:href=\"#glyph-1633767678110000-0-9\" x=\"74.057443\" y=\"150.721001\"/>\n</g>\n<g style=\"fill:rgb(0%,0%,0%);fill-opacity:1;\">\n  <use xlink:href=\"#glyph-1633767678110000-0-1\" x=\"127.952993\" y=\"150.721001\"/>\n  <use xlink:href=\"#glyph-1633767678110000-0-10\" x=\"132.906149\" y=\"150.721001\"/>\n</g>\n</g>\n</svg>\n\n",
      "text/plain": [
       "TikzPictures.TikzPicture(\"\\\\graph [layered layout, ] {\\n1/\\\"1\\\" [],\\n2/\\\"2\\\" [],\\n3/\\\"3\\\" [],\\n4/\\\"4\\\" [],\\n5/\\\"5\\\" [],\\n6/\\\"6\\\" [],\\n7/\\\"7\\\" [],\\n8/\\\"8\\\" [],\\n9/\\\"9\\\" [],\\n10/\\\"10\\\" [],\\n;\\n1 -- [,] 2;\\n1 -- [,] 8;\\n1 -- [,] 9;\\n2 -- [,] 3;\\n2 -- [,] 4;\\n3 -- [,] 5;\\n3 -- [,] 7;\\n4 -- [,] 6;\\n4 -- [,] 10;\\n5 -- [,] 6;\\n5 -- [,] 8;\\n6 -- [,] 9;\\n7 -- [,] 9;\\n7 -- [,] 10;\\n8 -- [,] 10;\\n};\\n\", \"\", \"\\\\usepackage{fontspec}\\n\\\\setmainfont{Latin Modern Math}\\n\\\\usetikzlibrary{arrows}\\n\\\\usetikzlibrary{graphs}\\n\\\\usetikzlibrary{graphdrawing}\\n\\n% from: https://tex.stackexchange.com/questions/453132/fresh-install-of-tl2018-no-tikz-graph-drawing-libraries-found\\n\\\\usepackage{luacode}\\n\\\\begin{luacode*}\\n\\tfunction pgf_lookup_and_require(name)\\n\\tlocal sep = package.config:sub(1,1)\\n\\tlocal function lookup(name)\\n\\tlocal sub = name:gsub('%.',sep)  \\n\\tif kpse.find_file(sub, 'lua') then\\n\\trequire(name)\\n\\telseif kpse.find_file(sub, 'clua') then\\n\\tcollectgarbage('stop') \\n\\trequire(name)\\n\\tcollectgarbage('restart')\\n\\telse\\n\\treturn false\\n\\tend\\n\\treturn true\\n\\tend\\n\\treturn\\n\\tlookup('pgf.gd.' .. name .. '.library') or\\n\\tlookup('pgf.gd.' .. name) or\\n\\tlookup(name .. '.library') or\\n\\tlookup(name) \\n\\tend\\n\\\\end{luacode*}\\n\\n\\\\usegdlibrary{layered}\", \"tikzpicture\", \"\", \"\", true, true)"
      ]
     },
     "metadata": {},
     "output_type": "display_data"
    }
   ],
   "source": [
    "TikzGraphs.plot(graph_t_4)"
   ]
  },
  {
   "cell_type": "code",
   "execution_count": 10,
   "metadata": {},
   "outputs": [
    {
     "data": {
      "text/plain": [
       "Dict{Any, Any} with 3 entries:\n",
       "  0 => Set(Any[Set(Any[20]), Set(Any[22]), Set(Any[16]), Set(Any[10]), Set(Any[…\n",
       "  2 => Set(Any[Set(Any[20, 14, 3]), Set(Any[13, 4, 18]), Set(Any[5, 9, 24]), Se…\n",
       "  1 => Set(Any[Set(Any[16, 24]), Set(Any[12, 24]), Set(Any[4, 12]), Set(Any[5, …"
      ]
     },
     "metadata": {},
     "output_type": "display_data"
    }
   ],
   "source": [
    "splits_t_5 = get_splits(5)\n",
    "s_complex_t_5_raw = generate_raw_simplicial_complex(splits_t_5)\n",
    "s_complex_t_5 = generate_abstract_simplicial_complex(s_complex_t_5_raw)"
   ]
  },
  {
   "cell_type": "code",
   "execution_count": 11,
   "metadata": {},
   "outputs": [
    {
     "name": "stdout",
     "output_type": "stream",
     "text": [
      "Dimension of the simplicial complex: 2\n",
      "Number of vertices: 25\n",
      "Number of edges: 105\n",
      "Number of triangles: 105\n"
     ]
    }
   ],
   "source": [
    "get_info_tree_n_from_simplicial_complex(s_complex_t_5)"
   ]
  },
  {
   "cell_type": "code",
   "execution_count": 31,
   "metadata": {},
   "outputs": [
    {
     "name": "stdout",
     "output_type": "stream",
     "text": [
      "Euler characteristic: -5\n",
      "Betti number: 1\n",
      "Betti number: 6\n"
     ]
    }
   ],
   "source": [
    "get_homology_information(s_complex_t_4)"
   ]
  },
  {
   "cell_type": "code",
   "execution_count": 32,
   "metadata": {},
   "outputs": [
    {
     "name": "stdout",
     "output_type": "stream",
     "text": [
      "Euler characteristic: 25\n",
      "Betti number: 1\n",
      "Betti number: 0\n",
      "Betti number: 24\n"
     ]
    }
   ],
   "source": [
    "get_homology_information(s_complex_t_5)"
   ]
  },
  {
   "cell_type": "markdown",
   "metadata": {},
   "source": []
  }
 ],
 "metadata": {
  "kernelspec": {
   "display_name": "Julia 1.6.2",
   "language": "julia",
   "name": "julia-1.6"
  },
  "language_info": {
   "file_extension": ".jl",
   "mimetype": "application/julia",
   "name": "julia",
   "version": "1.6.2"
  }
 },
 "nbformat": 4,
 "nbformat_minor": 4
}
