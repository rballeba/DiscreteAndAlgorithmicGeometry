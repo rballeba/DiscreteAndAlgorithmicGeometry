{
 "cells": [
  {
   "cell_type": "code",
   "execution_count": 1,
   "id": "f8b714eb",
   "metadata": {},
   "outputs": [],
   "source": [
    "using Pkg"
   ]
  },
  {
   "cell_type": "code",
   "execution_count": 2,
   "id": "55b19592",
   "metadata": {},
   "outputs": [
    {
     "name": "stderr",
     "output_type": "stream",
     "text": [
      "\u001b[32m\u001b[1m    Updating\u001b[22m\u001b[39m registry at `~/.julia/registries/General`\n",
      "\u001b[32m\u001b[1m   Resolving\u001b[22m\u001b[39m package versions...\n",
      "\u001b[32m\u001b[1m  No Changes\u001b[22m\u001b[39m to `~/.julia/environments/v1.6/Project.toml`\n",
      "\u001b[32m\u001b[1m  No Changes\u001b[22m\u001b[39m to `~/.julia/environments/v1.6/Manifest.toml`\n"
     ]
    }
   ],
   "source": [
    "Pkg.add(\"Polymake\")"
   ]
  },
  {
   "cell_type": "code",
   "execution_count": null,
   "id": "93e1592d",
   "metadata": {},
   "outputs": [],
   "source": [
    "using Polymake"
   ]
  },
  {
   "cell_type": "code",
   "execution_count": 4,
   "id": "ecd37ed2",
   "metadata": {},
   "outputs": [
    {
     "data": {
      "text/plain": [
       "32-element Vector{Tuple{Int64, Int64, Int64}}:\n",
       " (0, 4, 7)\n",
       " (0, 5, 7)\n",
       " (3, 5, 7)\n",
       " (3, 7, 8)\n",
       " (3, 8, 9)\n",
       " (3, 6, 9)\n",
       " (1, 6, 9)\n",
       " (1, 4, 9)\n",
       " (1, 4, 7)\n",
       " (1, 7, 10)\n",
       " (2, 7, 10)\n",
       " (2, 7, 8)\n",
       " (2, 8, 9)\n",
       " ⋮\n",
       " (0, 5, 14)\n",
       " (5, 14, 15)\n",
       " (5, 12, 15)\n",
       " (3, 5, 12)\n",
       " (3, 6, 12)\n",
       " (6, 12, 13)\n",
       " (6, 13, 14)\n",
       " (1, 6, 14)\n",
       " (1, 10, 14)\n",
       " (10, 14, 15)\n",
       " (10, 12, 15)\n",
       " (2, 10, 12)"
      ]
     },
     "execution_count": 4,
     "metadata": {},
     "output_type": "execute_result"
    }
   ],
   "source": [
    "mobius_triangles = [(0,4,7), (0,5,7), (3,5,7), (3,7,8),(3,8,9),(3,6,9),(1,6,9),(1,4,9),\n",
    "(1,4,7), (1,7,10),(2,7,10),(2,7,8),(2,8,9),(2,9,11),(0,9,11),(0,4,9),\n",
    "\n",
    "\n",
    "(2,11,12),(11,12,13),(11,13,14),(0,11,14),(0,5,14),(5,14,15),(5,12,15),(3,5,12),\n",
    "    (3,6,12),(6,12,13),(6,13,14),(1,6,14),(1,10,14),(10,14,15),(10,12,15),(2,10,12)\n",
    "]"
   ]
  },
  {
   "cell_type": "code",
   "execution_count": 5,
   "id": "2ede7533",
   "metadata": {},
   "outputs": [
    {
     "data": {
      "text/html": [
       "<dl> <dt>type</dt><dd> SimplicialComplex</dd> </dl>   <details>\n",
       "       <summary style='display:list-item;'>INPUT_FACES</summary>\n",
       "       <pre>{0 4 7}\n",
       "{0 5 7}\n",
       "{3 5 7}\n",
       "{3 7 8}\n",
       "{3 8 9}\n",
       "{3 6 9}\n",
       "{1 6 9}\n",
       "{1 4 9}\n",
       "{1 4 7}\n",
       "{1 7 10}\n",
       "{2 7 10}\n",
       "{2 7 8}\n",
       "{2 8 9}\n",
       "{2 9 11}\n",
       "{0 9 11}\n",
       "{0 4 9}\n",
       "{2 11 12}\n",
       "{11 12 13}\n",
       "{11 13 14}\n",
       "{0 11 14}\n",
       "{0 5 14}\n",
       "{5 14 15}\n",
       "{5 12 15}\n",
       "{3 5 12}\n",
       "{3 6 12}\n",
       "{6 12 13}\n",
       "{6 13 14}\n",
       "{1 6 14}\n",
       "{1 10 14}\n",
       "{10 14 15}\n",
       "{10 12 15}\n",
       "{2 10 12}</pre>\n",
       "   </details>\n"
      ],
      "text/plain": [
       "type: SimplicialComplex\n",
       "\n",
       "INPUT_FACES\n",
       "\t{0 4 7}\n",
       "\t{0 5 7}\n",
       "\t{3 5 7}\n",
       "\t{3 7 8}\n",
       "\t{3 8 9}\n",
       "\t{3 6 9}\n",
       "\t{1 6 9}\n",
       "\t{1 4 9}\n",
       "\t{1 4 7}\n",
       "\t{1 7 10}\n",
       "\t…\n"
      ]
     },
     "execution_count": 5,
     "metadata": {},
     "output_type": "execute_result"
    }
   ],
   "source": [
    "mobius_glued = topaz.SimplicialComplex(INPUT_FACES=[Set(i) for i in mobius_triangles])"
   ]
  },
  {
   "cell_type": "code",
   "execution_count": 6,
   "id": "c1c2020a",
   "metadata": {},
   "outputs": [
    {
     "data": {
      "text/plain": [
       "PropertyValue wrapping pm::Array<polymake::topaz::HomologyGroup<pm::Integer>>\n",
       "({} 0)\n",
       "({(2 1)} 1)\n",
       "({} 0)\n"
      ]
     },
     "execution_count": 6,
     "metadata": {},
     "output_type": "execute_result"
    }
   ],
   "source": [
    "f = mobius_glued.HOMOLOGY"
   ]
  },
  {
   "cell_type": "code",
   "execution_count": 7,
   "id": "eb8dfa98",
   "metadata": {
    "scrolled": true
   },
   "outputs": [
    {
     "data": {
      "text/html": [
       "<dl> <dt>type</dt><dd> SimplicialComplex</dd>\n",
       "<dt>description</dt><dd> The Klein bottle.</dd> </dl>   <details>\n",
       "       <summary style='display:list-item;'>CLOSED_PSEUDO_MANIFOLD</summary>\n",
       "       <pre>true</pre>\n",
       "   </details>\n",
       "\n",
       "   <details>\n",
       "       <summary style='display:list-item;'>DIM</summary>\n",
       "       <pre>2</pre>\n",
       "   </details>\n",
       "\n",
       "   <details>\n",
       "       <summary style='display:list-item;'>FACETS</summary>\n",
       "       <pre>{0 1 5}\n",
       "{0 2 3}\n",
       "{0 2 4}\n",
       "{0 3 5}\n",
       "{1 2 3}\n",
       "{1 2 5}\n",
       "{1 3 4}\n",
       "{2 4 5}\n",
       "{3 4 5}\n",
       "{0 1 8}\n",
       "{0 6 7}\n",
       "{0 4 6}\n",
       "{0 7 8}\n",
       "{1 6 7}\n",
       "{1 6 8}\n",
       "{1 4 7}\n",
       "{4 6 8}\n",
       "{4 7 8}</pre>\n",
       "   </details>\n",
       "\n",
       "   <details>\n",
       "       <summary style='display:list-item;'>MANIFOLD</summary>\n",
       "       <pre>true</pre>\n",
       "   </details>\n",
       "\n",
       "   <details>\n",
       "       <summary style='display:list-item;'>ORIENTED_PSEUDO_MANIFOLD</summary>\n",
       "       <pre>false</pre>\n",
       "   </details>\n"
      ],
      "text/plain": [
       "type: SimplicialComplex\n",
       "description: The Klein bottle.\n",
       "\n",
       "CLOSED_PSEUDO_MANIFOLD\n",
       "\ttrue\n",
       "\n",
       "DIM\n",
       "\t2\n",
       "\n",
       "FACETS\n",
       "  pm::Set<long, pm::operations::cmp>\n",
       "{0 1 5}\n",
       "  pm::Set<long, pm::operations::cmp>\n",
       "{0 2 3}\n",
       "  pm::Set<long, pm::operations::cmp>\n",
       "{0 2 4}\n",
       "  pm::Set<long, pm::operations::cmp>\n",
       "{0 3 5}\n",
       "  pm::Set<long, pm::operations::cmp>\n",
       "{1 2 3}\n",
       "  pm::Set<long, pm::operations::cmp>\n",
       "{1 2 5}\n",
       "  pm::Set<long, pm::operations::cmp>\n",
       "{1 3 4}\n",
       "  pm::Set<long, pm::operations::cmp>\n",
       "{2 4 5}\n",
       "  pm::Set<long, pm::operations::cmp>\n",
       "{3 4 5}\n",
       "  pm::Set<long, pm::operations::cmp>\n",
       "{0 1 8}\n",
       "  pm::Set<long, pm::operations::cmp>\n",
       "{0 6 7}\n",
       "  pm::Set<long, pm::operations::cmp>\n",
       "{0 4 6}\n",
       "  pm::Set<long, pm::operations::cmp>\n",
       "{0 7 8}\n",
       "  pm::Set<long, pm::operations::cmp>\n",
       "{1 6 7}\n",
       "  pm::Set<long, pm::operations::cmp>\n",
       "{1 6 8}\n",
       "  pm::Set<long, pm::operations::cmp>\n",
       "{1 4 7}\n",
       "  pm::Set<long, pm::operations::cmp>\n",
       "{4 6 8}\n",
       "  pm::Set<long, pm::operations::cmp>\n",
       "{4 7 8}\n",
       "\n",
       "MANIFOLD\n",
       "\ttrue\n",
       "\n",
       "ORIENTED_PSEUDO_MANIFOLD\n",
       "\tfalse\n"
      ]
     },
     "execution_count": 7,
     "metadata": {},
     "output_type": "execute_result"
    }
   ],
   "source": [
    "klein = topaz.klein_bottle()"
   ]
  },
  {
   "cell_type": "code",
   "execution_count": 8,
   "id": "0633539e",
   "metadata": {},
   "outputs": [
    {
     "data": {
      "text/plain": [
       "PropertyValue wrapping pm::Array<polymake::topaz::HomologyGroup<pm::Integer>>\n",
       "({} 0)\n",
       "({(2 1)} 1)\n",
       "({} 0)\n"
      ]
     },
     "execution_count": 8,
     "metadata": {},
     "output_type": "execute_result"
    }
   ],
   "source": [
    "f = klein.HOMOLOGY"
   ]
  },
  {
   "cell_type": "code",
   "execution_count": 9,
   "id": "8c5a4940",
   "metadata": {},
   "outputs": [
    {
     "data": {
      "text/plain": [
       "18-element Vector{Tuple{Int64, Int64, Int64}}:\n",
       " (4, 7, 17)\n",
       " (7, 8, 17)\n",
       " (8, 9, 17)\n",
       " (4, 9, 17)\n",
       " (4, 7, 18)\n",
       " (12, 13, 18)\n",
       " (7, 13, 18)\n",
       " (7, 8, 13)\n",
       " (8, 13, 14)\n",
       " (8, 14, 15)\n",
       " (8, 9, 15)\n",
       " (4, 9, 18)\n",
       " (12, 15, 18)\n",
       " (9, 15, 18)\n",
       " (12, 13, 16)\n",
       " (13, 14, 16)\n",
       " (14, 15, 16)\n",
       " (12, 15, 16)"
      ]
     },
     "execution_count": 9,
     "metadata": {},
     "output_type": "execute_result"
    }
   ],
   "source": [
    "triangles_sphere = [(4,7,17), (7,8,17),(8,9,17),(4,9,17),\n",
    "(4,7,18),(12,13,18),(7,13,18),(7,8,13),(8,13,14), (8,14,15),(8,9,15),(4,9,18),(12,15,18),(9,15,18),\n",
    "(12,13,16),(13,14,16), (14,15,16),(12,15,16)]"
   ]
  },
  {
   "cell_type": "code",
   "execution_count": 10,
   "id": "16c8b009",
   "metadata": {},
   "outputs": [
    {
     "data": {
      "text/html": [
       "<dl> <dt>type</dt><dd> SimplicialComplex</dd> </dl>   <details>\n",
       "       <summary style='display:list-item;'>INPUT_FACES</summary>\n",
       "       <pre>{4 7 17}\n",
       "{7 8 17}\n",
       "{8 9 17}\n",
       "{4 9 17}\n",
       "{4 7 18}\n",
       "{12 13 18}\n",
       "{7 13 18}\n",
       "{7 8 13}\n",
       "{8 13 14}\n",
       "{8 14 15}\n",
       "{8 9 15}\n",
       "{4 9 18}\n",
       "{12 15 18}\n",
       "{9 15 18}\n",
       "{12 13 16}\n",
       "{13 14 16}\n",
       "{14 15 16}\n",
       "{12 15 16}</pre>\n",
       "   </details>\n"
      ],
      "text/plain": [
       "type: SimplicialComplex\n",
       "\n",
       "INPUT_FACES\n",
       "\t{4 7 17}\n",
       "\t{7 8 17}\n",
       "\t{8 9 17}\n",
       "\t{4 9 17}\n",
       "\t{4 7 18}\n",
       "\t{12 13 18}\n",
       "\t{7 13 18}\n",
       "\t{7 8 13}\n",
       "\t{8 13 14}\n",
       "\t{8 14 15}\n",
       "\t…\n"
      ]
     },
     "execution_count": 10,
     "metadata": {},
     "output_type": "execute_result"
    }
   ],
   "source": [
    "sphere = topaz.SimplicialComplex(INPUT_FACES=[Set(i) for i in triangles_sphere])"
   ]
  },
  {
   "cell_type": "code",
   "execution_count": 11,
   "id": "a75ef59d",
   "metadata": {},
   "outputs": [
    {
     "data": {
      "text/plain": [
       "PropertyValue wrapping pm::Array<polymake::topaz::HomologyGroup<pm::Integer>>\n",
       "({} 0)\n",
       "({} 0)\n",
       "({} 1)\n"
      ]
     },
     "execution_count": 11,
     "metadata": {},
     "output_type": "execute_result"
    }
   ],
   "source": [
    "f = sphere.HOMOLOGY"
   ]
  },
  {
   "cell_type": "code",
   "execution_count": 12,
   "id": "cb84d7c9",
   "metadata": {},
   "outputs": [
    {
     "data": {
      "text/html": [
       "<dl> <dt>type</dt><dd> SimplicialComplex</dd> </dl>   <details>\n",
       "       <summary style='display:list-item;'>INPUT_FACES</summary>\n",
       "       <pre>{0 4 7}\n",
       "{0 5 7}\n",
       "{3 5 7}\n",
       "{3 7 8}\n",
       "{3 8 9}\n",
       "{3 6 9}\n",
       "{1 6 9}\n",
       "{1 4 9}\n",
       "{1 4 7}\n",
       "{1 7 10}\n",
       "{2 7 10}\n",
       "{2 7 8}\n",
       "{2 8 9}\n",
       "{2 9 11}\n",
       "{0 9 11}\n",
       "{0 4 9}\n",
       "{2 11 12}\n",
       "{11 12 13}\n",
       "{11 13 14}\n",
       "{0 11 14}\n",
       "{0 5 14}\n",
       "{5 14 15}\n",
       "{5 12 15}\n",
       "{3 5 12}\n",
       "{3 6 12}\n",
       "{6 12 13}\n",
       "{6 13 14}\n",
       "{1 6 14}\n",
       "{1 10 14}\n",
       "{10 14 15}\n",
       "{10 12 15}\n",
       "{2 10 12}\n",
       "{4 7 17}\n",
       "{7 8 17}\n",
       "{8 9 17}\n",
       "{4 9 17}\n",
       "{4 7 18}\n",
       "{12 13 18}\n",
       "{7 13 18}\n",
       "{7 8 13}\n",
       "{8 13 14}\n",
       "{8 14 15}\n",
       "{8 9 15}\n",
       "{4 9 18}\n",
       "{12 15 18}\n",
       "{9 15 18}\n",
       "{12 13 16}\n",
       "{13 14 16}\n",
       "{14 15 16}\n",
       "{12 15 16}</pre>\n",
       "   </details>\n"
      ],
      "text/plain": [
       "type: SimplicialComplex\n",
       "\n",
       "INPUT_FACES\n",
       "\t{0 4 7}\n",
       "\t{0 5 7}\n",
       "\t{3 5 7}\n",
       "\t{3 7 8}\n",
       "\t{3 8 9}\n",
       "\t{3 6 9}\n",
       "\t{1 6 9}\n",
       "\t{1 4 9}\n",
       "\t{1 4 7}\n",
       "\t{1 7 10}\n",
       "\t…\n"
      ]
     },
     "execution_count": 12,
     "metadata": {},
     "output_type": "execute_result"
    }
   ],
   "source": [
    "sphere_glued_mobius = topaz.SimplicialComplex(INPUT_FACES=[Set(i) for i in vcat(mobius_triangles, triangles_sphere)])"
   ]
  },
  {
   "cell_type": "code",
   "execution_count": 13,
   "id": "dc9c0fd5",
   "metadata": {},
   "outputs": [
    {
     "data": {
      "text/plain": [
       "PropertyValue wrapping pm::Array<polymake::topaz::HomologyGroup<pm::Integer>>\n",
       "({} 0)\n",
       "({} 1)\n",
       "({} 2)\n"
      ]
     },
     "execution_count": 13,
     "metadata": {},
     "output_type": "execute_result"
    }
   ],
   "source": [
    "f = sphere_glued_mobius.HOMOLOGY"
   ]
  }
 ],
 "metadata": {
  "kernelspec": {
   "display_name": "Julia 1.6.3",
   "language": "julia",
   "name": "julia-1.6"
  },
  "language_info": {
   "file_extension": ".jl",
   "mimetype": "application/julia",
   "name": "julia",
   "version": "1.6.3"
  }
 },
 "nbformat": 4,
 "nbformat_minor": 5
}
