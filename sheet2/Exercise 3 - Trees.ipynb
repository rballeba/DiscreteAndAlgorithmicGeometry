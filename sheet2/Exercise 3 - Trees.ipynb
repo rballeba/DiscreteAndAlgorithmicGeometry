{
 "cells": [
  {
   "cell_type": "code",
   "execution_count": 1,
   "metadata": {},
   "outputs": [
    {
     "name": "stderr",
     "output_type": "stream",
     "text": [
      "\u001b[32m\u001b[1m    Updating\u001b[22m\u001b[39m registry at `~/.julia/registries/General`\n",
      "┌ Warning: could not download https://pkg.julialang.org/registries\n",
      "└ @ Pkg.Types /builddir/build/BUILD/julia-1.6.3/build/usr/share/julia/stdlib/v1.6/Pkg/src/Types.jl:997\n",
      "\u001b[32m\u001b[1m   Resolving\u001b[22m\u001b[39m package versions...\n",
      "\u001b[32m\u001b[1m   Installed\u001b[22m\u001b[39m Inflate ──────────── v0.1.2\n",
      "\u001b[32m\u001b[1m   Installed\u001b[22m\u001b[39m Compat ───────────── v3.39.0\n",
      "\u001b[32m\u001b[1m   Installed\u001b[22m\u001b[39m ArnoldiMethod ────── v0.1.0\n",
      "\u001b[32m\u001b[1m   Installed\u001b[22m\u001b[39m LightGraphs ──────── v1.3.5\n",
      "\u001b[32m\u001b[1m     Cloning\u001b[22m\u001b[39m [699a6c99-e7fa-54fc-8d76-47d257e15c1d] SimpleTraits from https://github.com/mauro3/SimpleTraits.jl.git\n",
      "\u001b[32m\u001b[1m   Installed\u001b[22m\u001b[39m SimpleTraits ─────── v0.9.4\n",
      "\u001b[32m\u001b[1m     Cloning\u001b[22m\u001b[39m [90137ffa-7385-5640-81b9-e52037218182] StaticArrays from https://github.com/JuliaArrays/StaticArrays.jl.git\n",
      "\u001b[32m\u001b[1m   Installed\u001b[22m\u001b[39m StaticArrays ─────── v1.2.13\n",
      "\u001b[32m\u001b[1m     Cloning\u001b[22m\u001b[39m [bac558e1-5e72-5ebc-8fee-abe8a469f55d] OrderedCollections from https://github.com/JuliaCollections/OrderedCollections.jl.git\n",
      "\u001b[32m\u001b[1m   Installed\u001b[22m\u001b[39m OrderedCollections ─ v1.4.1\n",
      "\u001b[32m\u001b[1m     Cloning\u001b[22m\u001b[39m [864edb3b-99cc-5e75-8d2d-829cb0a9cfe8] DataStructures from https://github.com/JuliaCollections/DataStructures.jl.git\n",
      "\u001b[32m\u001b[1m   Installed\u001b[22m\u001b[39m DataStructures ───── v0.18.10\n",
      "\u001b[32m\u001b[1m    Updating\u001b[22m\u001b[39m `~/.julia/environments/v1.6/Project.toml`\n",
      " \u001b[90m [093fc24a] \u001b[39m\u001b[92m+ LightGraphs v1.3.5\u001b[39m\n",
      "\u001b[32m\u001b[1m    Updating\u001b[22m\u001b[39m `~/.julia/environments/v1.6/Manifest.toml`\n",
      " \u001b[90m [ec485272] \u001b[39m\u001b[92m+ ArnoldiMethod v0.1.0\u001b[39m\n",
      " \u001b[90m [34da2185] \u001b[39m\u001b[92m+ Compat v3.39.0\u001b[39m\n",
      " \u001b[90m [864edb3b] \u001b[39m\u001b[92m+ DataStructures v0.18.10\u001b[39m\n",
      " \u001b[90m [d25df0c9] \u001b[39m\u001b[92m+ Inflate v0.1.2\u001b[39m\n",
      " \u001b[90m [093fc24a] \u001b[39m\u001b[92m+ LightGraphs v1.3.5\u001b[39m\n",
      " \u001b[90m [bac558e1] \u001b[39m\u001b[92m+ OrderedCollections v1.4.1\u001b[39m\n",
      " \u001b[90m [699a6c99] \u001b[39m\u001b[92m+ SimpleTraits v0.9.4\u001b[39m\n",
      " \u001b[90m [90137ffa] \u001b[39m\u001b[92m+ StaticArrays v1.2.13\u001b[39m\n",
      " \u001b[90m [8bb1440f] \u001b[39m\u001b[92m+ DelimitedFiles\u001b[39m\n",
      " \u001b[90m [8ba89e20] \u001b[39m\u001b[92m+ Distributed\u001b[39m\n",
      " \u001b[90m [1a1011a3] \u001b[39m\u001b[92m+ SharedArrays\u001b[39m\n",
      " \u001b[90m [10745b16] \u001b[39m\u001b[92m+ Statistics\u001b[39m\n",
      "\u001b[32m\u001b[1mPrecompiling\u001b[22m\u001b[39m project...\n",
      "\u001b[32m  ✓ \u001b[39m\u001b[90mInflate\u001b[39m\n",
      "\u001b[32m  ✓ \u001b[39m\u001b[90mOrderedCollections\u001b[39m\n",
      "\u001b[32m  ✓ \u001b[39m\u001b[90mCompat\u001b[39m\n",
      "\u001b[32m  ✓ \u001b[39m\u001b[90mSimpleTraits\u001b[39m\n",
      "\u001b[32m  ✓ \u001b[39m\u001b[90mDataStructures\u001b[39m\n",
      "\u001b[32m  ✓ \u001b[39m\u001b[90mStaticArrays\u001b[39m\n",
      "\u001b[32m  ✓ \u001b[39m\u001b[90mArnoldiMethod\u001b[39m\n",
      "\u001b[32m  ✓ \u001b[39mLightGraphs\n",
      "  8 dependencies successfully precompiled in 13 seconds (33 already precompiled, 13 skipped during auto due to previous errors)\n",
      "\u001b[32m\u001b[1m   Resolving\u001b[22m\u001b[39m package versions...\n",
      "\u001b[32m\u001b[1m   Installed\u001b[22m\u001b[39m Pixman_jll ──────────────── v0.40.1+0\n",
      "\u001b[32m\u001b[1m   Installed\u001b[22m\u001b[39m Xorg_libXrender_jll ─────── v0.9.10+4\n",
      "\u001b[32m\u001b[1m   Installed\u001b[22m\u001b[39m Libgcrypt_jll ───────────── v1.8.7+0\n",
      "\u001b[32m\u001b[1m   Installed\u001b[22m\u001b[39m Poppler_jll ─────────────── v0.87.0+2\n",
      "\u001b[32m\u001b[1m   Installed\u001b[22m\u001b[39m OpenJpeg_jll ────────────── v2.4.0+0\n",
      "\u001b[32m\u001b[1m   Installed\u001b[22m\u001b[39m Gettext_jll ─────────────── v0.21.0+0\n",
      "\u001b[32m\u001b[1m   Installed\u001b[22m\u001b[39m XSLT_jll ────────────────── v1.1.34+0\n",
      "\u001b[32m\u001b[1m   Installed\u001b[22m\u001b[39m libpng_jll ──────────────── v1.6.38+0\n",
      "\u001b[32m\u001b[1m   Installed\u001b[22m\u001b[39m Fontconfig_jll ──────────── v2.13.93+0\n",
      "\u001b[32m\u001b[1m   Installed\u001b[22m\u001b[39m Xorg_libxcb_jll ─────────── v1.13.0+3\n",
      "\u001b[32m\u001b[1m   Installed\u001b[22m\u001b[39m Bzip2_jll ───────────────── v1.0.8+0\n",
      "\u001b[32m\u001b[1m   Installed\u001b[22m\u001b[39m TikzGraphs ──────────────── v1.2.0\n",
      "\u001b[32m\u001b[1m   Installed\u001b[22m\u001b[39m LaTeXStrings ────────────── v1.2.1\n",
      "\u001b[32m\u001b[1m   Installed\u001b[22m\u001b[39m Glib_jll ────────────────── v2.68.3+0\n",
      "\u001b[32m\u001b[1m   Installed\u001b[22m\u001b[39m Tectonic ────────────────── v0.6.1\n",
      "\u001b[32m\u001b[1m   Installed\u001b[22m\u001b[39m TikzPictures ────────────── v3.4.1\n",
      "\u001b[32m\u001b[1m   Installed\u001b[22m\u001b[39m FreeType2_jll ───────────── v2.10.4+0\n",
      "\u001b[32m\u001b[1m   Installed\u001b[22m\u001b[39m Expat_jll ───────────────── v2.2.10+0\n",
      "\u001b[32m\u001b[1m   Installed\u001b[22m\u001b[39m Cairo_jll ───────────────── v1.16.1+0\n",
      "\u001b[32m\u001b[1m   Installed\u001b[22m\u001b[39m Libffi_jll ──────────────── v3.2.2+0\n",
      "\u001b[32m\u001b[1m   Installed\u001b[22m\u001b[39m Xorg_libX11_jll ─────────── v1.6.9+4\n",
      "\u001b[32m\u001b[1m   Installed\u001b[22m\u001b[39m Libmount_jll ────────────── v2.35.0+0\n",
      "\u001b[32m\u001b[1m   Installed\u001b[22m\u001b[39m Xorg_libXau_jll ─────────── v1.0.9+4\n",
      "\u001b[32m\u001b[1m   Installed\u001b[22m\u001b[39m Requires ────────────────── v1.1.3\n",
      "\u001b[32m\u001b[1m   Installed\u001b[22m\u001b[39m Xorg_xtrans_jll ─────────── v1.4.0+3\n",
      "\u001b[32m\u001b[1m   Installed\u001b[22m\u001b[39m Xorg_libpthread_stubs_jll ─ v0.1.0+3\n",
      "\u001b[32m\u001b[1m   Installed\u001b[22m\u001b[39m Xorg_libXext_jll ────────── v1.3.4+4\n",
      "\u001b[32m\u001b[1m   Installed\u001b[22m\u001b[39m Libtiff_jll ─────────────── v4.3.0+0\n",
      "\u001b[32m\u001b[1m   Installed\u001b[22m\u001b[39m Libgpg_error_jll ────────── v1.42.0+0\n",
      "\u001b[32m\u001b[1m   Installed\u001b[22m\u001b[39m XML2_jll ────────────────── v2.9.12+0\n",
      "\u001b[32m\u001b[1m   Installed\u001b[22m\u001b[39m LittleCMS_jll ───────────── v2.12.0+0\n",
      "\u001b[32m\u001b[1m   Installed\u001b[22m\u001b[39m JpegTurbo_jll ───────────── v2.1.0+0\n",
      "\u001b[32m\u001b[1m   Installed\u001b[22m\u001b[39m PCRE_jll ────────────────── v8.44.0+0\n",
      "\u001b[32m\u001b[1m   Installed\u001b[22m\u001b[39m Libuuid_jll ─────────────── v2.36.0+0\n",
      "\u001b[32m\u001b[1m   Installed\u001b[22m\u001b[39m Xorg_libXdmcp_jll ───────── v1.1.3+4\n",
      "\u001b[32m\u001b[1m   Installed\u001b[22m\u001b[39m Libiconv_jll ────────────── v1.16.1+1\n",
      "\u001b[32m\u001b[1m    Updating\u001b[22m\u001b[39m `~/.julia/environments/v1.6/Project.toml`\n",
      " \u001b[90m [b4f28e30] \u001b[39m\u001b[92m+ TikzGraphs v1.2.0\u001b[39m\n",
      "\u001b[32m\u001b[1m    Updating\u001b[22m\u001b[39m `~/.julia/environments/v1.6/Manifest.toml`\n",
      " \u001b[90m [b964fa9f] \u001b[39m\u001b[92m+ LaTeXStrings v1.2.1\u001b[39m\n",
      " \u001b[90m [ae029012] \u001b[39m\u001b[92m+ Requires v1.1.3\u001b[39m\n",
      " \u001b[90m [9ac5f52a] \u001b[39m\u001b[92m+ Tectonic v0.6.1\u001b[39m\n",
      " \u001b[90m [b4f28e30] \u001b[39m\u001b[92m+ TikzGraphs v1.2.0\u001b[39m\n",
      " \u001b[90m [37f6aa50] \u001b[39m\u001b[92m+ TikzPictures v3.4.1\u001b[39m\n",
      " \u001b[90m [6e34b625] \u001b[39m\u001b[92m+ Bzip2_jll v1.0.8+0\u001b[39m\n",
      " \u001b[90m [83423d85] \u001b[39m\u001b[92m+ Cairo_jll v1.16.1+0\u001b[39m\n",
      " \u001b[90m [2e619515] \u001b[39m\u001b[92m+ Expat_jll v2.2.10+0\u001b[39m\n",
      " \u001b[90m [a3f928ae] \u001b[39m\u001b[92m+ Fontconfig_jll v2.13.93+0\u001b[39m\n",
      " \u001b[90m [d7e528f0] \u001b[39m\u001b[92m+ FreeType2_jll v2.10.4+0\u001b[39m\n",
      " \u001b[90m [78b55507] \u001b[39m\u001b[92m+ Gettext_jll v0.21.0+0\u001b[39m\n",
      " \u001b[90m [7746bdde] \u001b[39m\u001b[92m+ Glib_jll v2.68.3+0\u001b[39m\n",
      " \u001b[90m [aacddb02] \u001b[39m\u001b[92m+ JpegTurbo_jll v2.1.0+0\u001b[39m\n",
      " \u001b[90m [e9f186c6] \u001b[39m\u001b[92m+ Libffi_jll v3.2.2+0\u001b[39m\n",
      " \u001b[90m [d4300ac3] \u001b[39m\u001b[92m+ Libgcrypt_jll v1.8.7+0\u001b[39m\n",
      " \u001b[90m [7add5ba3] \u001b[39m\u001b[92m+ Libgpg_error_jll v1.42.0+0\u001b[39m\n",
      " \u001b[90m [94ce4f54] \u001b[39m\u001b[92m+ Libiconv_jll v1.16.1+1\u001b[39m\n",
      " \u001b[90m [4b2f31a3] \u001b[39m\u001b[92m+ Libmount_jll v2.35.0+0\u001b[39m\n",
      " \u001b[90m [89763e89] \u001b[39m\u001b[92m+ Libtiff_jll v4.3.0+0\u001b[39m\n",
      " \u001b[90m [38a345b3] \u001b[39m\u001b[92m+ Libuuid_jll v2.36.0+0\u001b[39m\n",
      " \u001b[90m [d3a379c0] \u001b[39m\u001b[92m+ LittleCMS_jll v2.12.0+0\u001b[39m\n",
      " \u001b[90m [643b3616] \u001b[39m\u001b[92m+ OpenJpeg_jll v2.4.0+0\u001b[39m\n",
      " \u001b[90m [2f80f16e] \u001b[39m\u001b[92m+ PCRE_jll v8.44.0+0\u001b[39m\n",
      " \u001b[90m [30392449] \u001b[39m\u001b[92m+ Pixman_jll v0.40.1+0\u001b[39m\n",
      " \u001b[90m [9c32591e] \u001b[39m\u001b[92m+ Poppler_jll v0.87.0+2\u001b[39m\n",
      " \u001b[90m [02c8fc9c] \u001b[39m\u001b[92m+ XML2_jll v2.9.12+0\u001b[39m\n",
      " \u001b[90m [aed1982a] \u001b[39m\u001b[92m+ XSLT_jll v1.1.34+0\u001b[39m\n",
      " \u001b[90m [4f6342f7] \u001b[39m\u001b[92m+ Xorg_libX11_jll v1.6.9+4\u001b[39m\n",
      " \u001b[90m [0c0b7dd1] \u001b[39m\u001b[92m+ Xorg_libXau_jll v1.0.9+4\u001b[39m\n",
      " \u001b[90m [a3789734] \u001b[39m\u001b[92m+ Xorg_libXdmcp_jll v1.1.3+4\u001b[39m\n",
      " \u001b[90m [1082639a] \u001b[39m\u001b[92m+ Xorg_libXext_jll v1.3.4+4\u001b[39m\n",
      " \u001b[90m [ea2f1a96] \u001b[39m\u001b[92m+ Xorg_libXrender_jll v0.9.10+4\u001b[39m\n",
      " \u001b[90m [14d82f49] \u001b[39m\u001b[92m+ Xorg_libpthread_stubs_jll v0.1.0+3\u001b[39m\n",
      " \u001b[90m [c7cfdc94] \u001b[39m\u001b[92m+ Xorg_libxcb_jll v1.13.0+3\u001b[39m\n",
      " \u001b[90m [c5fb5394] \u001b[39m\u001b[92m+ Xorg_xtrans_jll v1.4.0+3\u001b[39m\n",
      " \u001b[90m [b53b4c65] \u001b[39m\u001b[92m+ libpng_jll v1.6.38+0\u001b[39m\n",
      "\u001b[32m\u001b[1mPrecompiling\u001b[22m\u001b[39m project...\n",
      "\u001b[32m  ✓ \u001b[39m\u001b[90mLaTeXStrings\u001b[39m\n",
      "\u001b[32m  ✓ \u001b[39m\u001b[90mTectonic\u001b[39m\n",
      "\u001b[32m  ✓ \u001b[39m\u001b[90mRequires\u001b[39m\n",
      "\u001b[32m  ✓ \u001b[39m\u001b[90mXorg_libpthread_stubs_jll\u001b[39m\n",
      "\u001b[32m  ✓ \u001b[39m\u001b[90mLibffi_jll\u001b[39m\n",
      "\u001b[32m  ✓ \u001b[39m\u001b[90mLibuuid_jll\u001b[39m\n",
      "\u001b[32m  ✓ \u001b[39m\u001b[90mJpegTurbo_jll\u001b[39m\n",
      "\u001b[32m  ✓ \u001b[39m\u001b[90mPixman_jll\u001b[39m\n",
      "\u001b[32m  ✓ \u001b[39m\u001b[90mExpat_jll\u001b[39m\n",
      "\u001b[32m  ✓ \u001b[39m\u001b[90mLibmount_jll\u001b[39m\n",
      "\u001b[32m  ✓ \u001b[39m\u001b[90mXorg_xtrans_jll\u001b[39m\n",
      "\u001b[32m  ✓ \u001b[39m\u001b[90mPCRE_jll\u001b[39m\n",
      "\u001b[32m  ✓ \u001b[39m\u001b[90mlibpng_jll\u001b[39m\n",
      "\u001b[32m  ✓ \u001b[39m\u001b[90mLibiconv_jll\u001b[39m\n",
      "\u001b[32m  ✓ \u001b[39m\u001b[90mXorg_libXau_jll\u001b[39m\n",
      "\u001b[32m  ✓ \u001b[39m\u001b[90mBzip2_jll\u001b[39m\n",
      "\u001b[32m  ✓ \u001b[39m\u001b[90mLibgpg_error_jll\u001b[39m\n",
      "\u001b[32m  ✓ \u001b[39m\u001b[90mXorg_libXdmcp_jll\u001b[39m\n",
      "\u001b[32m  ✓ \u001b[39m\u001b[90mLibtiff_jll\u001b[39m\n"
     ]
    },
    {
     "name": "stderr",
     "output_type": "stream",
     "text": [
      "\u001b[32m  ✓ \u001b[39m\u001b[90mXML2_jll\u001b[39m\n",
      "\u001b[32m  ✓ \u001b[39m\u001b[90mFreeType2_jll\u001b[39m\n",
      "\u001b[32m  ✓ \u001b[39m\u001b[90mLibgcrypt_jll\u001b[39m\n",
      "\u001b[32m  ✓ \u001b[39m\u001b[90mLittleCMS_jll\u001b[39m\n",
      "\u001b[32m  ✓ \u001b[39m\u001b[90mGettext_jll\u001b[39m\n",
      "\u001b[32m  ✓ \u001b[39m\u001b[90mXSLT_jll\u001b[39m\n",
      "\u001b[32m  ✓ \u001b[39m\u001b[90mFontconfig_jll\u001b[39m\n",
      "\u001b[32m  ✓ \u001b[39m\u001b[90mOpenJpeg_jll\u001b[39m\n",
      "\u001b[32m  ✓ \u001b[39m\u001b[90mGlib_jll\u001b[39m\n",
      "\u001b[32m  ✓ \u001b[39m\u001b[90mXorg_libxcb_jll\u001b[39m\n",
      "\u001b[32m  ✓ \u001b[39m\u001b[90mXorg_libX11_jll\u001b[39m\n",
      "\u001b[32m  ✓ \u001b[39m\u001b[90mXorg_libXext_jll\u001b[39m\n",
      "\u001b[32m  ✓ \u001b[39m\u001b[90mXorg_libXrender_jll\u001b[39m\n",
      "\u001b[32m  ✓ \u001b[39m\u001b[90mCairo_jll\u001b[39m\n",
      "\u001b[32m  ✓ \u001b[39m\u001b[90mPoppler_jll\u001b[39m\n",
      "\u001b[32m  ✓ \u001b[39m\u001b[90mTikzPictures\u001b[39m\n",
      "\u001b[32m  ✓ \u001b[39mTikzGraphs\n",
      "  36 dependencies successfully precompiled in 10 seconds (41 already precompiled, 13 skipped during auto due to previous errors)\n",
      "\u001b[32m\u001b[1m   Resolving\u001b[22m\u001b[39m package versions...\n",
      "\u001b[32m\u001b[1m    Updating\u001b[22m\u001b[39m `~/.julia/environments/v1.6/Project.toml`\n",
      " \u001b[90m [861a8166] \u001b[39m\u001b[92m+ Combinatorics v1.0.2\u001b[39m\n",
      "\u001b[32m\u001b[1m  No Changes\u001b[22m\u001b[39m to `~/.julia/environments/v1.6/Manifest.toml`\n",
      "\u001b[32m\u001b[1m   Resolving\u001b[22m\u001b[39m package versions...\n",
      "\u001b[32m\u001b[1m   Installed\u001b[22m\u001b[39m Measures ────────── v0.3.1\n",
      "\u001b[32m\u001b[1m   Installed\u001b[22m\u001b[39m Reexport ────────── v1.2.2\n",
      "\u001b[32m\u001b[1m   Installed\u001b[22m\u001b[39m IterTools ───────── v1.3.0\n",
      "\u001b[32m\u001b[1m   Installed\u001b[22m\u001b[39m FixedPointNumbers ─ v0.8.4\n",
      "\u001b[32m\u001b[1m   Installed\u001b[22m\u001b[39m ColorTypes ──────── v0.10.12\n",
      "\u001b[32m\u001b[1m   Installed\u001b[22m\u001b[39m Compose ─────────── v0.9.2\n",
      "\u001b[32m\u001b[1m   Installed\u001b[22m\u001b[39m Colors ──────────── v0.12.8\n",
      "\u001b[32m\u001b[1m   Installed\u001b[22m\u001b[39m GraphPlot ───────── v0.4.4\n",
      "\u001b[32m\u001b[1m    Updating\u001b[22m\u001b[39m `~/.julia/environments/v1.6/Project.toml`\n",
      " \u001b[90m [a2cc645c] \u001b[39m\u001b[92m+ GraphPlot v0.4.4\u001b[39m\n",
      "\u001b[32m\u001b[1m    Updating\u001b[22m\u001b[39m `~/.julia/environments/v1.6/Manifest.toml`\n",
      " \u001b[90m [3da002f7] \u001b[39m\u001b[92m+ ColorTypes v0.10.12\u001b[39m\n",
      " \u001b[90m [5ae59095] \u001b[39m\u001b[92m+ Colors v0.12.8\u001b[39m\n",
      " \u001b[90m [a81c6b42] \u001b[39m\u001b[92m+ Compose v0.9.2\u001b[39m\n",
      " \u001b[90m [53c48c17] \u001b[39m\u001b[92m+ FixedPointNumbers v0.8.4\u001b[39m\n",
      " \u001b[90m [a2cc645c] \u001b[39m\u001b[92m+ GraphPlot v0.4.4\u001b[39m\n",
      " \u001b[90m [c8e1da08] \u001b[39m\u001b[92m+ IterTools v1.3.0\u001b[39m\n",
      " \u001b[90m [442fdcdd] \u001b[39m\u001b[92m+ Measures v0.3.1\u001b[39m\n",
      " \u001b[90m [189a3867] \u001b[39m\u001b[92m+ Reexport v1.2.2\u001b[39m\n",
      "\u001b[32m\u001b[1mPrecompiling\u001b[22m\u001b[39m project...\n",
      "\u001b[32m  ✓ \u001b[39m\u001b[90mReexport\u001b[39m\n",
      "\u001b[32m  ✓ \u001b[39m\u001b[90mMeasures\u001b[39m\n",
      "\u001b[32m  ✓ \u001b[39m\u001b[90mIterTools\u001b[39m\n",
      "\u001b[32m  ✓ \u001b[39m\u001b[90mFixedPointNumbers\u001b[39m\n",
      "\u001b[32m  ✓ \u001b[39m\u001b[90mColorTypes\u001b[39m\n",
      "\u001b[32m  ✓ \u001b[39m\u001b[90mColors\u001b[39m\n",
      "\u001b[32m  ✓ \u001b[39m\u001b[90mCompose\u001b[39m\n",
      "\u001b[32m  ✓ \u001b[39mGraphPlot\n",
      "  8 dependencies successfully precompiled in 19 seconds (77 already precompiled, 13 skipped during auto due to previous errors)\n",
      "\u001b[32m\u001b[1m   Resolving\u001b[22m\u001b[39m package versions...\n",
      "\u001b[32m\u001b[1m    Updating\u001b[22m\u001b[39m `~/.julia/environments/v1.6/Project.toml`\n",
      " \u001b[90m [a81c6b42] \u001b[39m\u001b[92m+ Compose v0.9.2\u001b[39m\n",
      "\u001b[32m\u001b[1m  No Changes\u001b[22m\u001b[39m to `~/.julia/environments/v1.6/Manifest.toml`\n",
      "\u001b[32m\u001b[1m   Resolving\u001b[22m\u001b[39m package versions...\n",
      "\u001b[32m\u001b[1m    Updating\u001b[22m\u001b[39m `~/.julia/environments/v1.6/Project.toml`\n",
      " \u001b[90m [b964fa9f] \u001b[39m\u001b[92m+ LaTeXStrings v1.2.1\u001b[39m\n",
      "\u001b[32m\u001b[1m  No Changes\u001b[22m\u001b[39m to `~/.julia/environments/v1.6/Manifest.toml`\n",
      "\u001b[32m\u001b[1m   Resolving\u001b[22m\u001b[39m package versions...\n",
      "\u001b[32m\u001b[1m  No Changes\u001b[22m\u001b[39m to `~/.julia/environments/v1.6/Project.toml`\n",
      "\u001b[32m\u001b[1m  No Changes\u001b[22m\u001b[39m to `~/.julia/environments/v1.6/Manifest.toml`\n",
      "\u001b[32m\u001b[1m   Resolving\u001b[22m\u001b[39m package versions...\n",
      "\u001b[32m\u001b[1m   Installed\u001b[22m\u001b[39m BenchmarkTools ─ v1.2.0\n",
      "\u001b[32m\u001b[1m    Updating\u001b[22m\u001b[39m `~/.julia/environments/v1.6/Project.toml`\n",
      " \u001b[90m [6e4b80f9] \u001b[39m\u001b[92m+ BenchmarkTools v1.2.0\u001b[39m\n",
      "\u001b[32m\u001b[1m    Updating\u001b[22m\u001b[39m `~/.julia/environments/v1.6/Manifest.toml`\n",
      " \u001b[90m [6e4b80f9] \u001b[39m\u001b[92m+ BenchmarkTools v1.2.0\u001b[39m\n",
      " \u001b[90m [9abbd945] \u001b[39m\u001b[92m+ Profile\u001b[39m\n",
      "\u001b[32m\u001b[1mPrecompiling\u001b[22m\u001b[39m project...\n",
      "\u001b[32m  ✓ \u001b[39mBenchmarkTools\n",
      "  1 dependency successfully precompiled in 1 seconds (85 already precompiled, 13 skipped during auto due to previous errors)\n"
     ]
    }
   ],
   "source": [
    "using Pkg\n",
    "Pkg.add(\"LightGraphs\")\n",
    "Pkg.add(\"Combinatorics\")\n",
    "Pkg.add(\"GraphPlot\")\n",
    "Pkg.add(\"Compose\")\n",
    "Pkg.add(\"LaTeXStrings\")\n",
    "Pkg.add(\"Hodge\")\n",
    "Pkg.add(\"BenchmarkTools\")"
   ]
  },
  {
   "cell_type": "code",
   "execution_count": 2,
   "metadata": {},
   "outputs": [],
   "source": [
    "using LightGraphs\n",
    "using Combinatorics\n",
    "using GraphPlot\n",
    "using LaTeXStrings\n",
    "using Hodge\n",
    "using BenchmarkTools"
   ]
  },
  {
   "cell_type": "code",
   "execution_count": 3,
   "metadata": {},
   "outputs": [
    {
     "data": {
      "text/plain": [
       "get_splits (generic function with 1 method)"
      ]
     },
     "execution_count": 3,
     "metadata": {},
     "output_type": "execute_result"
    }
   ],
   "source": [
    "# n is the value of the labels, i.e, the n of T_n\n",
    "function get_splits(n)\n",
    "    rng = 0:n\n",
    "    rng_set = Set(rng)\n",
    "    # We use sets because with this approach is almost sure that we are generating duplicated splits\n",
    "    needed_subsets = map(dim -> map(Set, Combinatorics.combinations(rng, dim)), 2:ceil(Int, (n+1)/2))\n",
    "    splits = Set(map(subset -> Set([subset, symdiff(rng_set, subset)]), Iterators.flatten(needed_subsets)))\n",
    "    return splits\n",
    "end"
   ]
  },
  {
   "cell_type": "code",
   "execution_count": 4,
   "metadata": {},
   "outputs": [
    {
     "data": {
      "text/plain": [
       "generate_raw_simplicial_complex (generic function with 1 method)"
      ]
     },
     "execution_count": 4,
     "metadata": {},
     "output_type": "execute_result"
    }
   ],
   "source": [
    "function compatible_splits(split_1, split_2)\n",
    "    X_1, Y_1 = collect(split_1)\n",
    "    X_2, Y_2 = collect(split_2)\n",
    "    X_1_X_2 = intersect(X_1, X_2)\n",
    "    X_1_Y_2 = intersect(X_1, Y_2)\n",
    "    X_2_Y_1 = intersect(X_2, Y_1)\n",
    "    Y_1_Y_2 = intersect(Y_1, Y_2)\n",
    "    if length(X_1_X_2) == 0 || length(X_1_Y_2) == 0 || length(X_2_Y_1) == 0 || length(Y_1_Y_2) == 0\n",
    "        return true\n",
    "    end\n",
    "    return false\n",
    "end\n",
    "\n",
    "function generate_raw_simplicial_complex(splits)\n",
    "    table_of_compatibility = Dict()\n",
    "    s_complex = Dict()\n",
    "    vertex_combinations = Set(collect(Combinatorics.combinations(collect(splits), 2)))\n",
    "    for vertex_combination in vertex_combinations\n",
    "        split_1, split_2 = vertex_combination\n",
    "        push!(table_of_compatibility, Set(vertex_combination) => compatible_splits(split_1, split_2))\n",
    "    end\n",
    "    # First we add the vertices to the complex\n",
    "    push!(s_complex, 0 => Set(map(split -> Set([split]) , collect(splits))))\n",
    "    # Now we iterate through dimensions\n",
    "    previous_dimension = 0\n",
    "    added_simplices = true\n",
    "    while added_simplices\n",
    "        added_simplices = false\n",
    "        current_dimension = previous_dimension + 1\n",
    "        current_dimension_simplices = []\n",
    "        for split in splits\n",
    "            for simplex in s_complex[previous_dimension]\n",
    "                if !(split in simplex)\n",
    "                    all_compatible = true\n",
    "                    for vertex in simplex\n",
    "                        if !table_of_compatibility[Set([split, vertex])]\n",
    "                            all_compatible = false\n",
    "                            break\n",
    "                        end\n",
    "                    end\n",
    "                    if all_compatible\n",
    "                        added_simplices = true\n",
    "                        new_simplex = union(simplex, Set([split]))\n",
    "                        push!(current_dimension_simplices, new_simplex)\n",
    "                    end\n",
    "                end\n",
    "            end\n",
    "        end\n",
    "        if added_simplices\n",
    "            push!(s_complex, current_dimension => Set(current_dimension_simplices))\n",
    "        end\n",
    "        previous_dimension = current_dimension\n",
    "    end\n",
    "    return s_complex\n",
    "end"
   ]
  },
  {
   "cell_type": "code",
   "execution_count": 5,
   "metadata": {},
   "outputs": [
    {
     "data": {
      "text/plain": [
       "generate_abstract_simplicial_complex (generic function with 1 method)"
      ]
     },
     "execution_count": 5,
     "metadata": {},
     "output_type": "execute_result"
    }
   ],
   "source": [
    "function generate_abstract_simplicial_complex(simplicial_complex_raw)\n",
    "    dim_complex = length(simplicial_complex_raw) - 1\n",
    "    simplicial_complex = Dict()\n",
    "    map_vertices_to_integers = Dict(\n",
    "            map(enumerated_split -> (collect(enumerated_split[2])[1], enumerated_split[1]),\n",
    "            enumerate(simplicial_complex_raw[0])))\n",
    "    for dim in 0:dim_complex\n",
    "        simplices = []\n",
    "        simplices_raw = simplicial_complex_raw[dim]\n",
    "        for simplex_raw in simplices_raw\n",
    "            simplex = []\n",
    "            for vertex in simplex_raw\n",
    "                push!(simplex, map_vertices_to_integers[vertex])\n",
    "            end\n",
    "            push!(simplices, Set(simplex))\n",
    "        end\n",
    "        push!(simplicial_complex, dim => Set(simplices))\n",
    "    end\n",
    "    return simplicial_complex\n",
    "end"
   ]
  },
  {
   "cell_type": "code",
   "execution_count": 6,
   "metadata": {},
   "outputs": [
    {
     "data": {
      "text/plain": [
       "get_graph_from_simplicial_complex (generic function with 1 method)"
      ]
     },
     "execution_count": 6,
     "metadata": {},
     "output_type": "execute_result"
    }
   ],
   "source": [
    "function get_graph_from_simplicial_complex(simplicial_complex)\n",
    "    graph = LightGraphs.SimpleGraph(length(simplicial_complex[0]))\n",
    "    for edge in simplicial_complex[1]\n",
    "        e_1, e_2 = collect(edge)\n",
    "        add_edge!(graph, e_1, e_2)\n",
    "    end\n",
    "    return graph\n",
    "end"
   ]
  },
  {
   "cell_type": "code",
   "execution_count": 7,
   "metadata": {},
   "outputs": [
    {
     "data": {
      "text/plain": [
       "get_info_tree_n_from_simplicial_complex (generic function with 1 method)"
      ]
     },
     "execution_count": 7,
     "metadata": {},
     "output_type": "execute_result"
    }
   ],
   "source": [
    "function get_info_tree_n_from_simplicial_complex(simplicial_complex)\n",
    "    dim = length(keys(simplicial_complex)) - 1\n",
    "    println(\"Dimension of the simplicial complex: $dim\")\n",
    "    vertices = length(simplicial_complex[0])\n",
    "    println(\"Number of vertices: $vertices\")\n",
    "    if dim >= 1\n",
    "        edges = length(simplicial_complex[1])\n",
    "        println(\"Number of edges: $edges\")\n",
    "    end\n",
    "    if dim >= 2\n",
    "        triangles = length(simplicial_complex[2])\n",
    "        println(\"Number of triangles: $triangles\")\n",
    "    end\n",
    "end"
   ]
  },
  {
   "cell_type": "code",
   "execution_count": 8,
   "metadata": {},
   "outputs": [
    {
     "data": {
      "text/plain": [
       "get_homology_information (generic function with 1 method)"
      ]
     },
     "execution_count": 8,
     "metadata": {},
     "output_type": "execute_result"
    }
   ],
   "source": [
    "function get_simplicial_complex_without_dims(simplicial_complex_with_dims)\n",
    "    s_complex = []\n",
    "    for dim in keys(simplicial_complex_with_dims)\n",
    "        append!(s_complex, map(s_complex_dim -> collect(s_complex_dim), collect(simplicial_complex_with_dims[dim])))\n",
    "    end\n",
    "    return s_complex\n",
    "end\n",
    "function get_homology_information(simplicial_complex_with_dims)\n",
    "    s_complex =SimplicialComplex(get_simplicial_complex_without_dims(simplicial_complex_with_dims))\n",
    "    euler_c = euler_characteristic(s_complex)\n",
    "    bettis = betti(s_complex)\n",
    "    println(\"Euler characteristic: $euler_c\")\n",
    "    for dim in 0:(length(bettis)-1)\n",
    "        betti_dim = bettis[dim+1]\n",
    "        println(\"Betti number: $betti_dim\")\n",
    "    end\n",
    "    \n",
    "end"
   ]
  },
  {
   "cell_type": "code",
   "execution_count": 9,
   "metadata": {},
   "outputs": [
    {
     "data": {
      "text/plain": [
       "{10, 15} undirected simple Int64 graph"
      ]
     },
     "execution_count": 9,
     "metadata": {},
     "output_type": "execute_result"
    }
   ],
   "source": [
    "splits_t_4 = get_splits(4)\n",
    "s_complex_t_4_raw = generate_raw_simplicial_complex(splits_t_4)\n",
    "s_complex_t_4 = generate_abstract_simplicial_complex(s_complex_t_4_raw)\n",
    "graph_t_4 = get_graph_from_simplicial_complex(s_complex_t_4)"
   ]
  },
  {
   "cell_type": "code",
   "execution_count": 11,
   "metadata": {},
   "outputs": [
    {
     "data": {
      "text/plain": [
       "Dict{Any, Any} with 3 entries:\n",
       "  0 => Set(Any[Set(Any[20]), Set(Any[22]), Set(Any[16]), Set(Any[10]), Set(Any[…\n",
       "  2 => Set(Any[Set(Any[20, 14, 3]), Set(Any[13, 4, 18]), Set(Any[5, 9, 24]), Se…\n",
       "  1 => Set(Any[Set(Any[16, 24]), Set(Any[12, 24]), Set(Any[4, 12]), Set(Any[5, …"
      ]
     },
     "execution_count": 11,
     "metadata": {},
     "output_type": "execute_result"
    }
   ],
   "source": [
    "splits_t_5 = get_splits(5)\n",
    "s_complex_t_5_raw = generate_raw_simplicial_complex(splits_t_5)\n",
    "s_complex_t_5 = generate_abstract_simplicial_complex(s_complex_t_5_raw)"
   ]
  },
  {
   "cell_type": "code",
   "execution_count": 12,
   "metadata": {},
   "outputs": [
    {
     "name": "stdout",
     "output_type": "stream",
     "text": [
      "Dimension of the simplicial complex: 2\n",
      "Number of vertices: 25\n",
      "Number of edges: 105\n",
      "Number of triangles: 105\n"
     ]
    }
   ],
   "source": [
    "get_info_tree_n_from_simplicial_complex(s_complex_t_5)"
   ]
  },
  {
   "cell_type": "code",
   "execution_count": 13,
   "metadata": {},
   "outputs": [
    {
     "name": "stdout",
     "output_type": "stream",
     "text": [
      "Euler characteristic: -5\n",
      "Betti number: 1\n",
      "Betti number: 6\n"
     ]
    }
   ],
   "source": [
    "get_homology_information(s_complex_t_4)"
   ]
  },
  {
   "cell_type": "code",
   "execution_count": 14,
   "metadata": {},
   "outputs": [
    {
     "name": "stdout",
     "output_type": "stream",
     "text": [
      "Euler characteristic: 25\n",
      "Betti number: 1\n",
      "Betti number: 0\n",
      "Betti number: 24\n"
     ]
    }
   ],
   "source": [
    "get_homology_information(s_complex_t_5)"
   ]
  },
  {
   "cell_type": "code",
   "execution_count": 15,
   "metadata": {},
   "outputs": [
    {
     "data": {
      "text/plain": [
       "check_n (generic function with 1 method)"
      ]
     },
     "execution_count": 15,
     "metadata": {},
     "output_type": "execute_result"
    }
   ],
   "source": [
    "function check_n()\n",
    "    n=1\n",
    "    enough_time = false\n",
    "    results = []\n",
    "    while !enough_time\n",
    "        t_start = time()\n",
    "        splits_t_n = get_splits(n)\n",
    "        s_complex_t_n_raw = generate_raw_simplicial_complex(splits_t_n)\n",
    "        s_complex_t_n = generate_abstract_simplicial_complex(s_complex_t_n_raw)\n",
    "        get_homology_information(s_complex_t_n)\n",
    "        t_end = time()\n",
    "        if t_end - t_start > 3600 # We stop if we arrive to one hour of computation\n",
    "            enough_time = true\n",
    "        end\n",
    "        push!(results, \"Computed simplicial complex and its homology for dimension n = \"*string(n)*\". Computed in \"*string(t_end - t_start)*\" seconds\")\n",
    "        n += 1\n",
    "    end\n",
    "    return results\n",
    "end"
   ]
  },
  {
   "cell_type": "code",
   "execution_count": 16,
   "metadata": {},
   "outputs": [
    {
     "name": "stdout",
     "output_type": "stream",
     "text": [
      "Euler characteristic: 0\n",
      "Euler characteristic: 1\n",
      "Betti number: 1\n",
      "Betti number: 0\n",
      "Betti number: 0\n",
      "Euler characteristic: 3\n",
      "Betti number: 3\n",
      "Euler characteristic: -5\n",
      "Betti number: 1\n",
      "Betti number: 6\n",
      "Euler characteristic: 25\n",
      "Betti number: 1\n",
      "Betti number: 0\n",
      "Betti number: 24\n",
      "Euler characteristic: -119\n",
      "Betti number: 1\n",
      "Betti number: 0\n",
      "Betti number: 0\n",
      "Betti number: 120\n"
     ]
    },
    {
     "data": {
      "text/plain": [
       "6-element Vector{Any}:\n",
       " \"Computed simplicial complex and its homology for dimension n = 1. Computed in 0.5310859680175781 seconds\"\n",
       " \"Computed simplicial complex and its homology for dimension n = 2. Computed in 0.0015149116516113281 seconds\"\n",
       " \"Computed simplicial complex and its homology for dimension n = 3. Computed in 0.00026702880859375 seconds\"\n",
       " \"Computed simplicial complex and its homology for dimension n = 4. Computed in 0.038587093353271484 seconds\"\n",
       " \"Computed simplicial complex and its homology for dimension n = 5. Computed in 23.987252950668335 seconds\"\n",
       " \"Computed simplicial complex and its homology for dimension n = 6. Computed in 49058.37976884842 seconds\""
      ]
     },
     "execution_count": 16,
     "metadata": {},
     "output_type": "execute_result"
    }
   ],
   "source": [
    "results = check_n()"
   ]
  },
  {
   "cell_type": "code",
   "execution_count": null,
   "metadata": {},
   "outputs": [],
   "source": []
  }
 ],
 "metadata": {
  "kernelspec": {
   "display_name": "Julia 1.6.3",
   "language": "julia",
   "name": "julia-1.6"
  },
  "language_info": {
   "file_extension": ".jl",
   "mimetype": "application/julia",
   "name": "julia",
   "version": "1.6.3"
  }
 },
 "nbformat": 4,
 "nbformat_minor": 4
}
