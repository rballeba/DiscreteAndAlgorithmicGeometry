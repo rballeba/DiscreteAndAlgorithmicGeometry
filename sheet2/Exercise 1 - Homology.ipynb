{
 "cells": [
  {
   "cell_type": "code",
   "execution_count": 1,
   "metadata": {},
   "outputs": [],
   "source": [
    "using Pkg"
   ]
  },
  {
   "cell_type": "code",
   "execution_count": 31,
   "metadata": {},
   "outputs": [
    {
     "name": "stderr",
     "output_type": "stream",
     "text": [
      "\u001b[32m\u001b[1m    Updating\u001b[22m\u001b[39m registry at `~/.julia/registries/General`\n",
      "\u001b[32m\u001b[1m   Resolving\u001b[22m\u001b[39m package versions...\n",
      "\u001b[32m\u001b[1m   Installed\u001b[22m\u001b[39m Combinatorics ─ v1.0.2\n",
      "\u001b[32m\u001b[1m   Installed\u001b[22m\u001b[39m Hodge ───────── v0.1.0\n",
      "\u001b[32m\u001b[1m    Updating\u001b[22m\u001b[39m `~/.julia/environments/v1.6/Project.toml`\n",
      " \u001b[90m [3c44080d] \u001b[39m\u001b[92m+ Hodge v0.1.0\u001b[39m\n",
      "\u001b[32m\u001b[1m    Updating\u001b[22m\u001b[39m `~/.julia/environments/v1.6/Manifest.toml`\n",
      " \u001b[90m [861a8166] \u001b[39m\u001b[92m+ Combinatorics v1.0.2\u001b[39m\n",
      " \u001b[90m [3c44080d] \u001b[39m\u001b[92m+ Hodge v0.1.0\u001b[39m\n",
      "\u001b[32m\u001b[1mPrecompiling\u001b[22m\u001b[39m project...\n",
      "\u001b[32m  ✓ \u001b[39m\u001b[90mCombinatorics\u001b[39m\n",
      "\u001b[32m  ✓ \u001b[39mHodge\n",
      "  2 dependencies successfully precompiled in 3 seconds (31 already precompiled, 13 skipped during auto due to previous errors)\n"
     ]
    }
   ],
   "source": [
    "#Pkg.Registry.add(RegistrySpec(url = \"https://github.com/wildart/BoffinStuff.git\"))\n",
    "#Pkg.add(\"ComputationalHomology\")\n",
    "#Pkg.add(\"Hodge\")\n",
    "#Pkg.add(\"Polymake\")"
   ]
  },
  {
   "cell_type": "code",
   "execution_count": null,
   "metadata": {},
   "outputs": [],
   "source": [
    "using ComputationalHomology"
   ]
  },
  {
   "cell_type": "code",
   "execution_count": null,
   "metadata": {},
   "outputs": [],
   "source": [
    "dim_0_simplices = [Simplex(i) for i in 0:5]\n",
    "dim_1_simplices = [Simplex(0, 1), Simplex(0, 2), Simplex(0, 3), Simplex(0,4),\n",
    "Simplex(0,5),Simplex(1, 2), Simplex(1,3), Simplex(1, 4), Simplex(1, 5), Simplex(2, 3), Simplex(2, 4), Simplex(2, 5), Simplex(3,4), Simplex(3, 5), Simplex(4, 5)]\n",
    "dim_2_simplices = [Simplex(0,1,3), Simplex(0, 1, 4), Simplex(0, 2, 3), Simplex(0, 2, 5), Simplex(0, 3, 4), Simplex(0, 3, 5), Simplex(1, 2, 4), Simplex(1, 2, 5), Simplex(1, 3, 4), Simplex(1, 4, 5), Simplex(2, 3, 5), Simplex(2, 4, 5)]\n",
    "cplx = SimplicialComplex((vcat(vcat(dim_0_simplices, dim_1_simplices), dim_2_simplices)...))"
   ]
  },
  {
   "cell_type": "code",
   "execution_count": null,
   "metadata": {},
   "outputs": [],
   "source": [
    "cplx"
   ]
  },
  {
   "cell_type": "code",
   "execution_count": null,
   "metadata": {
    "scrolled": true
   },
   "outputs": [],
   "source": [
    "h = homology(Int, cplx)"
   ]
  },
  {
   "cell_type": "markdown",
   "metadata": {},
   "source": [
    "## Torus triangulation"
   ]
  },
  {
   "cell_type": "code",
   "execution_count": null,
   "metadata": {},
   "outputs": [],
   "source": [
    "cplx2 = SimplicialComplex(Simplex(1, 4, 5), Simplex(1, 2, 5), Simplex(5, 2, 6),Simplex(2, 6, 3), Simplex(6, 3, 4), Simplex(3,1,4), Simplex(4,5,8), Simplex(7,4,8), Simplex(5,8,9), Simplex(5,6,9), Simplex(6,9,7), Simplex(6,4,7),Simplex(1,7,2),Simplex(7,2,8),Simplex(2,8,3), Simplex(8,9,3),Simplex(9,3,1), Simplex(9,1,7))"
   ]
  },
  {
   "cell_type": "code",
   "execution_count": null,
   "metadata": {},
   "outputs": [],
   "source": [
    "h1 = homology(Int, cplx2)"
   ]
  },
  {
   "cell_type": "code",
   "execution_count": null,
   "metadata": {},
   "outputs": [],
   "source": [
    "betti(h1)"
   ]
  },
  {
   "cell_type": "markdown",
   "metadata": {},
   "source": [
    "With Hodge.jl"
   ]
  },
  {
   "cell_type": "code",
   "execution_count": 32,
   "metadata": {},
   "outputs": [],
   "source": [
    "using Hodge"
   ]
  },
  {
   "cell_type": "code",
   "execution_count": 33,
   "metadata": {},
   "outputs": [
    {
     "data": {
      "text/plain": [
       "SimplicialComplex(2, Hodge.SimplexTrees.STRoot(Hodge.SimplexTrees.STNode[Hodge.SimplexTrees.STNode(1, Hodge.SimplexTrees.STNode[Hodge.SimplexTrees.STNode(4, Hodge.SimplexTrees.STNode[Hodge.SimplexTrees.STNode(5, Hodge.SimplexTrees.STNode[], Hodge.SimplexTrees.STNode(#= circular reference @-3 =#))], Hodge.SimplexTrees.STNode(#= circular reference @-3 =#)), Hodge.SimplexTrees.STNode(5, Hodge.SimplexTrees.STNode[], Hodge.SimplexTrees.STNode(#= circular reference @-3 =#)), Hodge.SimplexTrees.STNode(2, Hodge.SimplexTrees.STNode[Hodge.SimplexTrees.STNode(5, Hodge.SimplexTrees.STNode[], Hodge.SimplexTrees.STNode(#= circular reference @-3 =#)), Hodge.SimplexTrees.STNode(7, Hodge.SimplexTrees.STNode[], Hodge.SimplexTrees.STNode(#= circular reference @-3 =#))], Hodge.SimplexTrees.STNode(#= circular reference @-3 =#)), Hodge.SimplexTrees.STNode(3, Hodge.SimplexTrees.STNode[Hodge.SimplexTrees.STNode(4, Hodge.SimplexTrees.STNode[], Hodge.SimplexTrees.STNode(#= circular reference @-3 =#)), Hodge.SimplexTrees.STNode(9, Hodge.SimplexTrees.STNode[], Hodge.SimplexTrees.STNode(#= circular reference @-3 =#))], Hodge.SimplexTrees.STNode(#= circular reference @-3 =#)), Hodge.SimplexTrees.STNode(7, Hodge.SimplexTrees.STNode[Hodge.SimplexTrees.STNode(9, Hodge.SimplexTrees.STNode[], Hodge.SimplexTrees.STNode(#= circular reference @-3 =#))], Hodge.SimplexTrees.STNode(#= circular reference @-3 =#)), Hodge.SimplexTrees.STNode(9, Hodge.SimplexTrees.STNode[], Hodge.SimplexTrees.STNode(#= circular reference @-3 =#))], Hodge.SimplexTrees.STRoot(#= circular reference @-3 =#)), Hodge.SimplexTrees.STNode(4, Hodge.SimplexTrees.STNode[Hodge.SimplexTrees.STNode(5, Hodge.SimplexTrees.STNode[Hodge.SimplexTrees.STNode(8, Hodge.SimplexTrees.STNode[], Hodge.SimplexTrees.STNode(#= circular reference @-3 =#))], Hodge.SimplexTrees.STNode(#= circular reference @-3 =#)), Hodge.SimplexTrees.STNode(6, Hodge.SimplexTrees.STNode[Hodge.SimplexTrees.STNode(7, Hodge.SimplexTrees.STNode[], Hodge.SimplexTrees.STNode(#= circular reference @-3 =#))], Hodge.SimplexTrees.STNode(#= circular reference @-3 =#)), Hodge.SimplexTrees.STNode(8, Hodge.SimplexTrees.STNode[], Hodge.SimplexTrees.STNode(#= circular reference @-3 =#)), Hodge.SimplexTrees.STNode(7, Hodge.SimplexTrees.STNode[Hodge.SimplexTrees.STNode(8, Hodge.SimplexTrees.STNode[], Hodge.SimplexTrees.STNode(#= circular reference @-3 =#))], Hodge.SimplexTrees.STNode(#= circular reference @-3 =#))], Hodge.SimplexTrees.STRoot(#= circular reference @-3 =#)), Hodge.SimplexTrees.STNode(5, Hodge.SimplexTrees.STNode[Hodge.SimplexTrees.STNode(6, Hodge.SimplexTrees.STNode[Hodge.SimplexTrees.STNode(9, Hodge.SimplexTrees.STNode[], Hodge.SimplexTrees.STNode(#= circular reference @-3 =#))], Hodge.SimplexTrees.STNode(#= circular reference @-3 =#)), Hodge.SimplexTrees.STNode(8, Hodge.SimplexTrees.STNode[Hodge.SimplexTrees.STNode(9, Hodge.SimplexTrees.STNode[], Hodge.SimplexTrees.STNode(#= circular reference @-3 =#))], Hodge.SimplexTrees.STNode(#= circular reference @-3 =#)), Hodge.SimplexTrees.STNode(9, Hodge.SimplexTrees.STNode[], Hodge.SimplexTrees.STNode(#= circular reference @-3 =#))], Hodge.SimplexTrees.STRoot(#= circular reference @-3 =#)), Hodge.SimplexTrees.STNode(2, Hodge.SimplexTrees.STNode[Hodge.SimplexTrees.STNode(5, Hodge.SimplexTrees.STNode[Hodge.SimplexTrees.STNode(6, Hodge.SimplexTrees.STNode[], Hodge.SimplexTrees.STNode(#= circular reference @-3 =#))], Hodge.SimplexTrees.STNode(#= circular reference @-3 =#)), Hodge.SimplexTrees.STNode(6, Hodge.SimplexTrees.STNode[], Hodge.SimplexTrees.STNode(#= circular reference @-3 =#)), Hodge.SimplexTrees.STNode(3, Hodge.SimplexTrees.STNode[Hodge.SimplexTrees.STNode(6, Hodge.SimplexTrees.STNode[], Hodge.SimplexTrees.STNode(#= circular reference @-3 =#)), Hodge.SimplexTrees.STNode(8, Hodge.SimplexTrees.STNode[], Hodge.SimplexTrees.STNode(#= circular reference @-3 =#))], Hodge.SimplexTrees.STNode(#= circular reference @-3 =#)), Hodge.SimplexTrees.STNode(7, Hodge.SimplexTrees.STNode[Hodge.SimplexTrees.STNode(8, Hodge.SimplexTrees.STNode[], Hodge.SimplexTrees.STNode(#= circular reference @-3 =#))], Hodge.SimplexTrees.STNode(#= circular reference @-3 =#)), Hodge.SimplexTrees.STNode(8, Hodge.SimplexTrees.STNode[], Hodge.SimplexTrees.STNode(#= circular reference @-3 =#))], Hodge.SimplexTrees.STRoot(#= circular reference @-3 =#)), Hodge.SimplexTrees.STNode(6, Hodge.SimplexTrees.STNode[Hodge.SimplexTrees.STNode(9, Hodge.SimplexTrees.STNode[], Hodge.SimplexTrees.STNode(#= circular reference @-3 =#)), Hodge.SimplexTrees.STNode(7, Hodge.SimplexTrees.STNode[Hodge.SimplexTrees.STNode(9, Hodge.SimplexTrees.STNode[], Hodge.SimplexTrees.STNode(#= circular reference @-3 =#))], Hodge.SimplexTrees.STNode(#= circular reference @-3 =#))], Hodge.SimplexTrees.STRoot(#= circular reference @-3 =#)), Hodge.SimplexTrees.STNode(3, Hodge.SimplexTrees.STNode[Hodge.SimplexTrees.STNode(6, Hodge.SimplexTrees.STNode[], Hodge.SimplexTrees.STNode(#= circular reference @-3 =#)), Hodge.SimplexTrees.STNode(4, Hodge.SimplexTrees.STNode[Hodge.SimplexTrees.STNode(6, Hodge.SimplexTrees.STNode[], Hodge.SimplexTrees.STNode(#= circular reference @-3 =#))], Hodge.SimplexTrees.STNode(#= circular reference @-3 =#)), Hodge.SimplexTrees.STNode(8, Hodge.SimplexTrees.STNode[Hodge.SimplexTrees.STNode(9, Hodge.SimplexTrees.STNode[], Hodge.SimplexTrees.STNode(#= circular reference @-3 =#))], Hodge.SimplexTrees.STNode(#= circular reference @-3 =#)), Hodge.SimplexTrees.STNode(9, Hodge.SimplexTrees.STNode[], Hodge.SimplexTrees.STNode(#= circular reference @-3 =#))], Hodge.SimplexTrees.STRoot(#= circular reference @-3 =#)), Hodge.SimplexTrees.STNode(8, Hodge.SimplexTrees.STNode[Hodge.SimplexTrees.STNode(9, Hodge.SimplexTrees.STNode[], Hodge.SimplexTrees.STNode(#= circular reference @-3 =#))], Hodge.SimplexTrees.STRoot(#= circular reference @-3 =#)), Hodge.SimplexTrees.STNode(7, Hodge.SimplexTrees.STNode[Hodge.SimplexTrees.STNode(8, Hodge.SimplexTrees.STNode[], Hodge.SimplexTrees.STNode(#= circular reference @-3 =#)), Hodge.SimplexTrees.STNode(9, Hodge.SimplexTrees.STNode[], Hodge.SimplexTrees.STNode(#= circular reference @-3 =#))], Hodge.SimplexTrees.STRoot(#= circular reference @-3 =#)), Hodge.SimplexTrees.STNode(9, Hodge.SimplexTrees.STNode[], Hodge.SimplexTrees.STRoot(#= circular reference @-3 =#))]))"
      ]
     },
     "execution_count": 33,
     "metadata": {},
     "output_type": "execute_result"
    }
   ],
   "source": [
    "cplx2 = SimplicialComplex([(1, 4, 5), (1, 2, 5), (5, 2, 6),(2, 6, 3), (6, 3, 4), (3,1,4), (4,5,8), (7,4,8), (5,8,9), (5,6,9), (6,9,7), (6,4,7),(1,7,2),(7,2,8),(2,8,3), (8,9,3),(9,3,1), (9,1,7)])"
   ]
  },
  {
   "cell_type": "code",
   "execution_count": 4,
   "metadata": {},
   "outputs": [
    {
     "data": {
      "text/plain": [
       "3-element Array{Int64,1}:\n",
       " 1\n",
       " 2\n",
       " 1"
      ]
     },
     "execution_count": 4,
     "metadata": {},
     "output_type": "execute_result"
    }
   ],
   "source": [
    "betti(cplx2)"
   ]
  },
  {
   "cell_type": "markdown",
   "metadata": {},
   "source": [
    "## Hodge computation of homology"
   ]
  },
  {
   "cell_type": "code",
   "execution_count": null,
   "metadata": {},
   "outputs": [],
   "source": [
    "using Hodge"
   ]
  },
  {
   "cell_type": "code",
   "execution_count": null,
   "metadata": {},
   "outputs": [],
   "source": [
    "dim_0_simplices = [[i] for i in 0:5]\n",
    "dim_1_simplices = [(0, 1), (0, 2), (0, 3), (0,4),\n",
    "(0,5),(1, 2), (1,3), (1, 4), (1, 5), (2, 3), (2, 4), (2, 5), (3,4), (3, 5), (4, 5)]\n",
    "dim_2_simplices = [(0,1,3), (0, 1, 4), (0, 2, 3), (0, 2, 5), (0, 3, 4), (0, 3, 5), (1, 2, 4), (1, 2, 5), (1, 3, 4), (1, 4, 5), (2, 3, 5), (2, 4, 5)]\n",
    "cplx = SimplicialComplex(vcat(vcat(dim_0_simplices, dim_1_simplices), dim_2_simplices))"
   ]
  },
  {
   "cell_type": "code",
   "execution_count": null,
   "metadata": {},
   "outputs": [],
   "source": [
    "betti(cplx)"
   ]
  },
  {
   "cell_type": "markdown",
   "metadata": {},
   "source": [
    "## With polymake"
   ]
  },
  {
   "cell_type": "markdown",
   "metadata": {},
   "source": []
  },
  {
   "cell_type": "code",
   "execution_count": 2,
   "metadata": {},
   "outputs": [
    {
     "name": "stderr",
     "output_type": "stream",
     "text": [
      "┌ Info: Precompiling Polymake [d720cf60-89b5-51f5-aff5-213f193123e7]\n",
      "└ @ Base loading.jl:1342\n",
      "polymake:  WARNING: created private directory /home/rubenballesterbautista/.julia/polymake_user\n",
      "Term::Cap->Tgetent failed for TERM xterm-256color: Can't find a valid termcap file at /home/rubenballesterbautista/.julia/artifacts/126e46ef58e10c4a1a8c15b9d97d20987ce65a14/share/polymake/perllib/Polymake/Core/InteractiveCommands.pm line 32.\n",
      "\u001b[36m\u001b[1m[ \u001b[22m\u001b[39m\u001b[36m\u001b[1mInfo: \u001b[22m\u001b[39mGenerating module common\n",
      "\u001b[36m\u001b[1m[ \u001b[22m\u001b[39m\u001b[36m\u001b[1mInfo: \u001b[22m\u001b[39mGenerating module ideal\n",
      "\u001b[36m\u001b[1m[ \u001b[22m\u001b[39m\u001b[36m\u001b[1mInfo: \u001b[22m\u001b[39mGenerating module graph\n",
      "\u001b[36m\u001b[1m[ \u001b[22m\u001b[39m\u001b[36m\u001b[1mInfo: \u001b[22m\u001b[39mGenerating module fulton\n",
      "\u001b[36m\u001b[1m[ \u001b[22m\u001b[39m\u001b[36m\u001b[1mInfo: \u001b[22m\u001b[39mGenerating module fan\n",
      "\u001b[36m\u001b[1m[ \u001b[22m\u001b[39m\u001b[36m\u001b[1mInfo: \u001b[22m\u001b[39mGenerating module group\n",
      "\u001b[36m\u001b[1m[ \u001b[22m\u001b[39m\u001b[36m\u001b[1mInfo: \u001b[22m\u001b[39mGenerating module polytope\n",
      "\u001b[36m\u001b[1m[ \u001b[22m\u001b[39m\u001b[36m\u001b[1mInfo: \u001b[22m\u001b[39mGenerating module topaz\n",
      "\u001b[36m\u001b[1m[ \u001b[22m\u001b[39m\u001b[36m\u001b[1mInfo: \u001b[22m\u001b[39mGenerating module tropical\n",
      "\u001b[36m\u001b[1m[ \u001b[22m\u001b[39m\u001b[36m\u001b[1mInfo: \u001b[22m\u001b[39mGenerating module matroid\n"
     ]
    },
    {
     "name": "stdout",
     "output_type": "stream",
     "text": [
      "polymake version 4.5\n",
      "Copyright (c) 1997-2021\n",
      "Ewgenij Gawrilow, Michael Joswig, and the polymake team\n",
      "Technische Universität Berlin, Germany\n",
      "https://polymake.org\n",
      "\n",
      "This is free software licensed under GPL; see the source for copying conditions.\n",
      "There is NO warranty; not even for MERCHANTABILITY or FITNESS FOR A PARTICULAR PURPOSE.\n",
      "\n"
     ]
    }
   ],
   "source": [
    "using Polymake"
   ]
  },
  {
   "cell_type": "code",
   "execution_count": 34,
   "metadata": {},
   "outputs": [
    {
     "data": {
      "text/html": [
       "<dl> <dt>type</dt><dd> SimplicialComplex</dd> </dl>   <details>\n",
       "       <summary style='display:list-item;'>INPUT_FACES</summary>\n",
       "       <pre>{0}\n",
       "{1}\n",
       "{2}\n",
       "{3}\n",
       "{4}\n",
       "{5}\n",
       "{0 1}\n",
       "{0 2}\n",
       "{0 3}\n",
       "{0 4}\n",
       "{0 5}\n",
       "{1 2}\n",
       "{1 3}\n",
       "{1 4}\n",
       "{1 5}\n",
       "{2 3}\n",
       "{2 4}\n",
       "{2 5}\n",
       "{3 4}\n",
       "{3 5}\n",
       "{4 5}\n",
       "{0 1 3}\n",
       "{0 1 4}\n",
       "{0 2 3}\n",
       "{0 2 5}\n",
       "{0 3 4}\n",
       "{0 3 5}\n",
       "{1 2 4}\n",
       "{1 2 5}\n",
       "{1 3 4}\n",
       "{1 4 5}\n",
       "{2 3 5}\n",
       "{2 4 5}</pre>\n",
       "   </details>\n"
      ],
      "text/plain": [
       "type: SimplicialComplex\n",
       "\n",
       "INPUT_FACES\n",
       "\t{0}\n",
       "\t{1}\n",
       "\t{2}\n",
       "\t{3}\n",
       "\t{4}\n",
       "\t{5}\n",
       "\t{0 1}\n",
       "\t{0 2}\n",
       "\t{0 3}\n",
       "\t{0 4}\n",
       "\t…\n"
      ]
     },
     "execution_count": 34,
     "metadata": {},
     "output_type": "execute_result"
    }
   ],
   "source": [
    "dim_0_simplices = [Set([i]) for i in 0:5]\n",
    "dim_1_simplices = [Set((0, 1)), Set((0, 2)), Set((0, 3)), Set((0,4)),\n",
    "Set((0,5)),Set((1, 2)), Set((1,3)), Set((1, 4)), Set((1, 5)), Set((2, 3)), Set((2, 4)), Set((2, 5)), Set((3,4)), Set((3, 5)), Set((4, 5))]\n",
    "dim_2_simplices = [Set((0,1,3)), Set((0, 1, 4)), Set((0, 2, 3)), Set((0, 2, 5)), Set((0, 3, 4)), Set((0, 3, 5)), Set((1, 2, 4)), Set((1, 2, 5)), Set((1, 3, 4)), Set((1, 4, 5)), Set((2, 3, 5)), Set((2, 4, 5))]\n",
    "\n",
    "cplx = topaz.SimplicialComplex(INPUT_FACES=vcat(vcat(dim_0_simplices, dim_1_simplices), dim_2_simplices))"
   ]
  },
  {
   "cell_type": "code",
   "execution_count": 56,
   "metadata": {},
   "outputs": [
    {
     "data": {
      "text/plain": [
       "PropertyValue wrapping pm::Array<polymake::topaz::HomologyGroup<pm::Integer>>\n",
       "({} 0)\n",
       "({} 1)\n",
       "({} 3)\n"
      ]
     },
     "execution_count": 56,
     "metadata": {},
     "output_type": "execute_result"
    }
   ],
   "source": [
    "f = cplx.HOMOLOGY"
   ]
  },
  {
   "cell_type": "code",
   "execution_count": null,
   "metadata": {},
   "outputs": [],
   "source": []
  }
 ],
 "metadata": {
  "kernelspec": {
   "display_name": "Julia 1.6.3",
   "language": "julia",
   "name": "julia-1.6"
  },
  "language_info": {
   "file_extension": ".jl",
   "mimetype": "application/julia",
   "name": "julia",
   "version": "1.6.3"
  }
 },
 "nbformat": 4,
 "nbformat_minor": 4
}
