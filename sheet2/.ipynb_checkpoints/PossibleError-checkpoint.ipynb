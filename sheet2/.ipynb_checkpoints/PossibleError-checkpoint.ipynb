{
 "cells": [
  {
   "cell_type": "code",
   "execution_count": 1,
   "metadata": {},
   "outputs": [],
   "source": [
    "using Pkg"
   ]
  },
  {
   "cell_type": "code",
   "execution_count": 6,
   "metadata": {},
   "outputs": [
    {
     "name": "stderr",
     "output_type": "stream",
     "text": [
      "\u001b[32m\u001b[1m     Cloning\u001b[22m\u001b[39m registry from \"https://github.com/wildart/BoffinStuff.git\"\n",
      "\u001b[32m\u001b[1m       Added\u001b[22m\u001b[39m registry `BoffinStuff` to `~/.julia/registries/BoffinStuff`\n",
      "\u001b[32m\u001b[1m   Resolving\u001b[22m\u001b[39m package versions...\n",
      "\u001b[32m\u001b[1m   Installed\u001b[22m\u001b[39m BoundingSphere ──────── v0.2.0\n",
      "\u001b[32m\u001b[1m   Installed\u001b[22m\u001b[39m SmithNormalForm ─────── v0.3.2\n",
      "\u001b[32m\u001b[1m   Installed\u001b[22m\u001b[39m ComputationalHomology ─ v0.6.3\n",
      "\u001b[32m\u001b[1m    Updating\u001b[22m\u001b[39m `~/.julia/environments/v1.6/Project.toml`\n",
      " \u001b[90m [9393a4d0] \u001b[39m\u001b[92m+ ComputationalHomology v0.6.3\u001b[39m\n",
      "\u001b[32m\u001b[1m    Updating\u001b[22m\u001b[39m `~/.julia/environments/v1.6/Manifest.toml`\n",
      " \u001b[90m [747eb165] \u001b[39m\u001b[92m+ BoundingSphere v0.2.0\u001b[39m\n",
      " \u001b[90m [9393a4d0] \u001b[39m\u001b[92m+ ComputationalHomology v0.6.3\u001b[39m\n",
      " \u001b[90m [ba71f38f] \u001b[39m\u001b[92m+ SmithNormalForm v0.3.2\u001b[39m\n",
      "\u001b[32m\u001b[1mPrecompiling\u001b[22m\u001b[39m project...\n",
      "\u001b[32m  ✓ \u001b[39m\u001b[90mBoundingSphere\u001b[39m\n",
      "\u001b[32m  ✓ \u001b[39m\u001b[90mSmithNormalForm\u001b[39m\n",
      "\u001b[32m  ✓ \u001b[39mComputationalHomology\n",
      "  3 dependencies successfully precompiled in 4 seconds (194 already precompiled, 13 skipped during auto due to previous errors)\n"
     ]
    }
   ],
   "source": [
    "#Pkg.Registry.add(RegistrySpec(url = \"https://github.com/wildart/BoffinStuff.git\"))\n",
    "Pkg.add(\"ComputationalHomology\")\n",
    "#Pkg.add(\"Hodge\")\n",
    "#Pkg.add(\"Polymake\")"
   ]
  },
  {
   "cell_type": "code",
   "execution_count": 7,
   "metadata": {},
   "outputs": [],
   "source": [
    "using ComputationalHomology"
   ]
  },
  {
   "cell_type": "code",
   "execution_count": 33,
   "metadata": {},
   "outputs": [
    {
     "data": {
      "text/plain": [
       "SimplicialComplex((6, 15, 12))"
      ]
     },
     "execution_count": 33,
     "metadata": {},
     "output_type": "execute_result"
    }
   ],
   "source": [
    "dim_0_simplices = [Simplex(i) for i in 0:5]\n",
    "dim_1_simplices = [Simplex(0, 1), Simplex(0, 2), Simplex(0, 3), Simplex(0,4),\n",
    "Simplex(0,5),Simplex(1, 2), Simplex(1,3), \n",
    "    Simplex(1, 4), Simplex(1, 5), Simplex(2, 3), \n",
    "    Simplex(2, 4), Simplex(2, 5), Simplex(3,4), \n",
    "    Simplex(3, 5), Simplex(4, 5)]\n",
    "dim_2_simplices = [Simplex(0,1,3), Simplex(0, 1, 4), Simplex(0, 2, 3), \n",
    "    Simplex(0, 2, 5), Simplex(0, 3, 4), Simplex(0, 3, 5), Simplex(1, 2, 4), \n",
    "    Simplex(1, 2, 5), Simplex(1, 3, 4), Simplex(1, 4, 5), Simplex(2, 3, 5), Simplex(2, 4, 5)]\n",
    "cplx = SimplicialComplex((vcat(vcat(dim_0_simplices, dim_1_simplices), dim_2_simplices)...))"
   ]
  },
  {
   "cell_type": "code",
   "execution_count": 34,
   "metadata": {},
   "outputs": [
    {
     "data": {
      "text/plain": [
       "SimplicialComplex((6, 15, 12))"
      ]
     },
     "execution_count": 34,
     "metadata": {},
     "output_type": "execute_result"
    }
   ],
   "source": [
    "cplx"
   ]
  },
  {
   "cell_type": "code",
   "execution_count": 35,
   "metadata": {
    "scrolled": true
   },
   "outputs": [
    {
     "data": {
      "text/plain": [
       "Homology(Int64)[SimplicialComplex((6, 15, 12))]"
      ]
     },
     "execution_count": 35,
     "metadata": {},
     "output_type": "execute_result"
    }
   ],
   "source": [
    "h = homology(Int, cplx)"
   ]
  },
  {
   "cell_type": "code",
   "execution_count": 36,
   "metadata": {},
   "outputs": [
    {
     "data": {
      "text/plain": [
       "(1, 1)"
      ]
     },
     "execution_count": 36,
     "metadata": {},
     "output_type": "execute_result"
    }
   ],
   "source": [
    "betti(h)"
   ]
  },
  {
   "cell_type": "markdown",
   "metadata": {},
   "source": [
    "# Polymake"
   ]
  },
  {
   "cell_type": "code",
   "execution_count": 38,
   "metadata": {},
   "outputs": [
    {
     "name": "stdout",
     "output_type": "stream",
     "text": [
      "polymake version 4.5\n",
      "Copyright (c) 1997-2021\n",
      "Ewgenij Gawrilow, Michael Joswig, and the polymake team\n",
      "Technische Universität Berlin, Germany\n",
      "https://polymake.org\n",
      "\n",
      "This is free software licensed under GPL; see the source for copying conditions.\n",
      "There is NO warranty; not even for MERCHANTABILITY or FITNESS FOR A PARTICULAR PURPOSE.\n",
      "\n"
     ]
    }
   ],
   "source": [
    "using Polymake"
   ]
  },
  {
   "cell_type": "code",
   "execution_count": 39,
   "metadata": {},
   "outputs": [
    {
     "data": {
      "text/html": [
       "<dl> <dt>type</dt><dd> SimplicialComplex</dd> </dl>   <details>\n",
       "       <summary style='display:list-item;'>INPUT_FACES</summary>\n",
       "       <pre>{0}\n",
       "{1}\n",
       "{2}\n",
       "{3}\n",
       "{4}\n",
       "{5}\n",
       "{0 1}\n",
       "{0 2}\n",
       "{0 3}\n",
       "{0 4}\n",
       "{0 5}\n",
       "{1 2}\n",
       "{1 3}\n",
       "{1 4}\n",
       "{1 5}\n",
       "{2 3}\n",
       "{2 4}\n",
       "{2 5}\n",
       "{3 4}\n",
       "{3 5}\n",
       "{4 5}\n",
       "{0 1 3}\n",
       "{0 1 4}\n",
       "{0 2 3}\n",
       "{0 2 5}\n",
       "{0 3 4}\n",
       "{0 3 5}\n",
       "{1 2 4}\n",
       "{1 2 5}\n",
       "{1 3 4}\n",
       "{1 4 5}\n",
       "{2 3 5}\n",
       "{2 4 5}</pre>\n",
       "   </details>\n"
      ],
      "text/plain": [
       "type: SimplicialComplex\n",
       "\n",
       "INPUT_FACES\n",
       "\t{0}\n",
       "\t{1}\n",
       "\t{2}\n",
       "\t{3}\n",
       "\t{4}\n",
       "\t{5}\n",
       "\t{0 1}\n",
       "\t{0 2}\n",
       "\t{0 3}\n",
       "\t{0 4}\n",
       "\t…\n"
      ]
     },
     "execution_count": 39,
     "metadata": {},
     "output_type": "execute_result"
    }
   ],
   "source": [
    "dim_0_simplices = [Set([i]) for i in 0:5]\n",
    "dim_1_simplices = [Set((0, 1)), Set((0, 2)), Set((0, 3)), Set((0,4)),\n",
    "Set((0,5)),Set((1, 2)), Set((1,3)), \n",
    "    Set((1, 4)), Set((1, 5)), Set((2, 3)), \n",
    "    Set((2, 4)), Set((2, 5)), Set((3,4)), \n",
    "    Set((3, 5)), Set((4, 5))]\n",
    "dim_2_simplices = [Set((0,1,3)), Set((0, 1, 4)), Set((0, 2, 3)), \n",
    "    Set((0, 2, 5)), Set((0, 3, 4)), Set((0, 3, 5)), Set((1, 2, 4)),\n",
    "    Set((1, 2, 5)), Set((1, 3, 4)), Set((1, 4, 5)), Set((2, 3, 5)), Set((2, 4, 5))]\n",
    "\n",
    "cplx = topaz.SimplicialComplex(INPUT_FACES=vcat(vcat(dim_0_simplices, dim_1_simplices), dim_2_simplices))"
   ]
  },
  {
   "cell_type": "code",
   "execution_count": 40,
   "metadata": {},
   "outputs": [
    {
     "data": {
      "text/plain": [
       "PropertyValue wrapping pm::Array<polymake::topaz::HomologyGroup<pm::Integer>>\n",
       "({} 0)\n",
       "({} 1)\n",
       "({} 3)\n"
      ]
     },
     "execution_count": 40,
     "metadata": {},
     "output_type": "execute_result"
    }
   ],
   "source": [
    "f = cplx.HOMOLOGY"
   ]
  }
 ],
 "metadata": {
  "kernelspec": {
   "display_name": "Julia 1.6.3",
   "language": "julia",
   "name": "julia-1.6"
  },
  "language_info": {
   "file_extension": ".jl",
   "mimetype": "application/julia",
   "name": "julia",
   "version": "1.6.3"
  }
 },
 "nbformat": 4,
 "nbformat_minor": 4
}
