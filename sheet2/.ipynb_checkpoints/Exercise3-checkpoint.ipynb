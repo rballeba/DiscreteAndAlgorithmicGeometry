{
 "cells": [
  {
   "cell_type": "code",
   "execution_count": 16,
   "metadata": {},
   "outputs": [
    {
     "name": "stderr",
     "output_type": "stream",
     "text": [
      "\u001b[32m\u001b[1m  Resolving\u001b[22m\u001b[39m package versions...\n",
      "\u001b[32m\u001b[1m   Updating\u001b[22m\u001b[39m `~/.julia/environments/v1.4/Project.toml`\n",
      "\u001b[90m [no changes]\u001b[39m\n",
      "\u001b[32m\u001b[1m   Updating\u001b[22m\u001b[39m `~/.julia/environments/v1.4/Manifest.toml`\n",
      "\u001b[90m [no changes]\u001b[39m\n",
      "\u001b[32m\u001b[1m  Resolving\u001b[22m\u001b[39m package versions...\n",
      "\u001b[32m\u001b[1m   Updating\u001b[22m\u001b[39m `~/.julia/environments/v1.4/Project.toml`\n",
      "\u001b[90m [no changes]\u001b[39m\n",
      "\u001b[32m\u001b[1m   Updating\u001b[22m\u001b[39m `~/.julia/environments/v1.4/Manifest.toml`\n",
      "\u001b[90m [no changes]\u001b[39m\n",
      "\u001b[32m\u001b[1m  Resolving\u001b[22m\u001b[39m package versions...\n",
      "\u001b[32m\u001b[1m   Updating\u001b[22m\u001b[39m `~/.julia/environments/v1.4/Project.toml`\n",
      "\u001b[90m [no changes]\u001b[39m\n",
      "\u001b[32m\u001b[1m   Updating\u001b[22m\u001b[39m `~/.julia/environments/v1.4/Manifest.toml`\n",
      "\u001b[90m [no changes]\u001b[39m\n"
     ]
    }
   ],
   "source": [
    "Pkg.add(\"LightGraphs\")\n",
    "Pkg.add(\"TikzGraphs\")\n",
    "Pkg.add(\"Combinatorics\")"
   ]
  },
  {
   "cell_type": "code",
   "execution_count": 17,
   "metadata": {},
   "outputs": [],
   "source": [
    "using Pkg\n",
    "using LightGraphs\n",
    "using TikzGraphs\n",
    "using Combinatorics"
   ]
  },
  {
   "cell_type": "code",
   "execution_count": 220,
   "metadata": {},
   "outputs": [
    {
     "data": {
      "text/plain": [
       "get_splits (generic function with 1 method)"
      ]
     },
     "execution_count": 220,
     "metadata": {},
     "output_type": "execute_result"
    }
   ],
   "source": [
    "# n is the value of the labels, i.e, the n of T_n\n",
    "function get_splits(n)\n",
    "    rng = 0:n\n",
    "    rng_set = Set(rng)\n",
    "    # We use sets because with this approach is almost sure that we are generating duplicated splits\n",
    "    needed_subsets = map(dim -> map(Set, Combinatorics.combinations(rng, dim)), 2:ceil(Int, (n+1)/2))\n",
    "    splits = Set(map(subset -> Set([subset, symdiff(rng_set, subset)]), Iterators.flatten(needed_subsets)))\n",
    "    return splits\n",
    "end"
   ]
  },
  {
   "cell_type": "code",
   "execution_count": 268,
   "metadata": {},
   "outputs": [
    {
     "data": {
      "text/plain": [
       "Set{Set{Set{Int64}}} with 10 elements:\n",
       "  Set(Set{Int64}[Set([4, 1]), Set([0, 2, 3])])\n",
       "  Set(Set{Int64}[Set([0, 4, 1]), Set([2, 3])])\n",
       "  Set(Set{Int64}[Set([4, 3]), Set([0, 2, 1])])\n",
       "  Set(Set{Int64}[Set([0, 1]), Set([4, 2, 3])])\n",
       "  Set(Set{Int64}[Set([4, 3, 1]), Set([0, 2])])\n",
       "  Set(Set{Int64}[Set([2, 3, 1]), Set([0, 4])])\n",
       "  Set(Set{Int64}[Set([4, 2]), Set([0, 3, 1])])\n",
       "  Set(Set{Int64}[Set([0, 3]), Set([4, 2, 1])])\n",
       "  Set(Set{Int64}[Set([3, 1]), Set([0, 4, 2])])\n",
       "  Set(Set{Int64}[Set([0, 4, 3]), Set([2, 1])])"
      ]
     },
     "execution_count": 268,
     "metadata": {},
     "output_type": "execute_result"
    }
   ],
   "source": [
    "splits = get_splits(4)"
   ]
  },
  {
   "cell_type": "code",
   "execution_count": null,
   "metadata": {},
   "outputs": [],
   "source": []
  }
 ],
 "metadata": {
  "kernelspec": {
   "display_name": "Julia 1.4.1",
   "language": "julia",
   "name": "julia-1.4"
  },
  "language_info": {
   "file_extension": ".jl",
   "mimetype": "application/julia",
   "name": "julia",
   "version": "1.4.1"
  }
 },
 "nbformat": 4,
 "nbformat_minor": 4
}
