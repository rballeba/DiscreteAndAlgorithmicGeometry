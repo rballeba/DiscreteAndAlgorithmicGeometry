{
 "cells": [
  {
   "cell_type": "code",
   "execution_count": 2,
   "metadata": {},
   "outputs": [
    {
     "name": "stderr",
     "output_type": "stream",
     "text": [
      "\u001b[32m\u001b[1m   Updating\u001b[22m\u001b[39m registry at `~/.julia/registries/General`\n"
     ]
    },
    {
     "name": "stdout",
     "output_type": "stream",
     "text": [
      "\u001b[?25l    "
     ]
    },
    {
     "name": "stderr",
     "output_type": "stream",
     "text": [
      "\u001b[32m\u001b[1m   Updating\u001b[22m\u001b[39m git-repo `https://github.com/JuliaRegistries/General.git`\n"
     ]
    },
    {
     "name": "stdout",
     "output_type": "stream",
     "text": [
      "\u001b[2K\u001b[?25h[1mFetching:\u001b[22m\u001b[39m [========================================>]  100.0 %                              ]  23.6 %>                   ]  51.8 %\u001b[36m\u001b[1mFetching:\u001b[22m\u001b[39m [==========================>              ]  64.0 %>        ]  78.1 % [=====================================>   ]  92.3 %"
     ]
    },
    {
     "name": "stderr",
     "output_type": "stream",
     "text": [
      "\u001b[32m\u001b[1m  Resolving\u001b[22m\u001b[39m package versions...\n",
      "\u001b[32m\u001b[1m   Updating\u001b[22m\u001b[39m `~/.julia/environments/v1.4/Project.toml`\n",
      "\u001b[90m [no changes]\u001b[39m\n",
      "\u001b[32m\u001b[1m   Updating\u001b[22m\u001b[39m `~/.julia/environments/v1.4/Manifest.toml`\n",
      "\u001b[90m [no changes]\u001b[39m\n",
      "\u001b[32m\u001b[1m  Resolving\u001b[22m\u001b[39m package versions...\n",
      "\u001b[32m\u001b[1m   Updating\u001b[22m\u001b[39m `~/.julia/environments/v1.4/Project.toml`\n",
      "\u001b[90m [no changes]\u001b[39m\n",
      "\u001b[32m\u001b[1m   Updating\u001b[22m\u001b[39m `~/.julia/environments/v1.4/Manifest.toml`\n",
      "\u001b[90m [no changes]\u001b[39m\n",
      "\u001b[32m\u001b[1m  Resolving\u001b[22m\u001b[39m package versions...\n",
      "\u001b[32m\u001b[1m   Updating\u001b[22m\u001b[39m `~/.julia/environments/v1.4/Project.toml`\n",
      "\u001b[90m [no changes]\u001b[39m\n",
      "\u001b[32m\u001b[1m   Updating\u001b[22m\u001b[39m `~/.julia/environments/v1.4/Manifest.toml`\n",
      "\u001b[90m [no changes]\u001b[39m\n",
      "\u001b[32m\u001b[1m  Resolving\u001b[22m\u001b[39m package versions...\n",
      "\u001b[32m\u001b[1m  Installed\u001b[22m\u001b[39m Measures ────────── v0.3.1\n",
      "\u001b[32m\u001b[1m  Installed\u001b[22m\u001b[39m FixedPointNumbers ─ v0.8.4\n",
      "\u001b[32m\u001b[1m  Installed\u001b[22m\u001b[39m ColorTypes ──────── v0.10.12\n",
      "\u001b[32m\u001b[1m  Installed\u001b[22m\u001b[39m IterTools ───────── v1.3.0\n",
      "\u001b[32m\u001b[1m  Installed\u001b[22m\u001b[39m Colors ──────────── v0.12.8\n",
      "\u001b[32m\u001b[1m  Installed\u001b[22m\u001b[39m Compose ─────────── v0.9.2\n",
      "\u001b[32m\u001b[1m  Installed\u001b[22m\u001b[39m GraphPlot ───────── v0.4.4\n",
      "\u001b[32m\u001b[1m   Updating\u001b[22m\u001b[39m `~/.julia/environments/v1.4/Project.toml`\n",
      " \u001b[90m [a2cc645c]\u001b[39m\u001b[92m + GraphPlot v0.4.4\u001b[39m\n",
      "\u001b[32m\u001b[1m   Updating\u001b[22m\u001b[39m `~/.julia/environments/v1.4/Manifest.toml`\n",
      " \u001b[90m [3da002f7]\u001b[39m\u001b[92m + ColorTypes v0.10.12\u001b[39m\n",
      " \u001b[90m [5ae59095]\u001b[39m\u001b[92m + Colors v0.12.8\u001b[39m\n",
      " \u001b[90m [a81c6b42]\u001b[39m\u001b[92m + Compose v0.9.2\u001b[39m\n",
      " \u001b[90m [53c48c17]\u001b[39m\u001b[92m + FixedPointNumbers v0.8.4\u001b[39m\n",
      " \u001b[90m [a2cc645c]\u001b[39m\u001b[92m + GraphPlot v0.4.4\u001b[39m\n",
      " \u001b[90m [c8e1da08]\u001b[39m\u001b[92m + IterTools v1.3.0\u001b[39m\n",
      " \u001b[90m [442fdcdd]\u001b[39m\u001b[92m + Measures v0.3.1\u001b[39m\n",
      "\u001b[32m\u001b[1m  Resolving\u001b[22m\u001b[39m package versions...\n",
      "\u001b[32m\u001b[1m   Updating\u001b[22m\u001b[39m `~/.julia/environments/v1.4/Project.toml`\n",
      " \u001b[90m [a81c6b42]\u001b[39m\u001b[92m + Compose v0.9.2\u001b[39m\n",
      "\u001b[32m\u001b[1m   Updating\u001b[22m\u001b[39m `~/.julia/environments/v1.4/Manifest.toml`\n",
      "\u001b[90m [no changes]\u001b[39m\n",
      "\u001b[32m\u001b[1m  Resolving\u001b[22m\u001b[39m package versions...\n",
      "\u001b[32m\u001b[1m   Updating\u001b[22m\u001b[39m `~/.julia/environments/v1.4/Project.toml`\n",
      " \u001b[90m [b964fa9f]\u001b[39m\u001b[92m + LaTeXStrings v1.2.1\u001b[39m\n",
      "\u001b[32m\u001b[1m   Updating\u001b[22m\u001b[39m `~/.julia/environments/v1.4/Manifest.toml`\n",
      "\u001b[90m [no changes]\u001b[39m\n",
      "\u001b[32m\u001b[1m  Resolving\u001b[22m\u001b[39m package versions...\n",
      "\u001b[32m\u001b[1m  Installed\u001b[22m\u001b[39m Hodge ─ v0.1.0\n",
      "\u001b[32m\u001b[1m   Updating\u001b[22m\u001b[39m `~/.julia/environments/v1.4/Project.toml`\n",
      " \u001b[90m [3c44080d]\u001b[39m\u001b[92m + Hodge v0.1.0\u001b[39m\n",
      "\u001b[32m\u001b[1m   Updating\u001b[22m\u001b[39m `~/.julia/environments/v1.4/Manifest.toml`\n",
      " \u001b[90m [3c44080d]\u001b[39m\u001b[92m + Hodge v0.1.0\u001b[39m\n",
      "\u001b[32m\u001b[1m  Resolving\u001b[22m\u001b[39m package versions...\n",
      "\u001b[32m\u001b[1m  Installed\u001b[22m\u001b[39m BenchmarkTools ─ v1.2.0\n",
      "\u001b[32m\u001b[1m   Updating\u001b[22m\u001b[39m `~/.julia/environments/v1.4/Project.toml`\n",
      " \u001b[90m [6e4b80f9]\u001b[39m\u001b[92m + BenchmarkTools v1.2.0\u001b[39m\n",
      "\u001b[32m\u001b[1m   Updating\u001b[22m\u001b[39m `~/.julia/environments/v1.4/Manifest.toml`\n",
      " \u001b[90m [6e4b80f9]\u001b[39m\u001b[92m + BenchmarkTools v1.2.0\u001b[39m\n",
      " \u001b[90m [9abbd945]\u001b[39m\u001b[92m + Profile \u001b[39m\n"
     ]
    }
   ],
   "source": [
    "using Pkg\n",
    "Pkg.add(\"LightGraphs\")\n",
    "Pkg.add(\"TikzGraphs\")\n",
    "Pkg.add(\"Combinatorics\")\n",
    "Pkg.add(\"GraphPlot\")\n",
    "Pkg.add(\"Compose\")\n",
    "Pkg.add(\"LaTeXStrings\")\n",
    "Pkg.add(\"Hodge\")\n",
    "Pkg.add(\"BenchmarkTools\")"
   ]
  },
  {
   "cell_type": "code",
   "execution_count": 3,
   "metadata": {},
   "outputs": [
    {
     "name": "stderr",
     "output_type": "stream",
     "text": [
      "┌ Info: Precompiling GraphPlot [a2cc645c-3eea-5389-862e-a155d0052231]\n",
      "└ @ Base loading.jl:1260\n",
      "┌ Info: Precompiling Hodge [3c44080d-357b-4062-ad7b-6cab49ad4f79]\n",
      "└ @ Base loading.jl:1260\n",
      "┌ Info: Precompiling BenchmarkTools [6e4b80f9-dd63-53aa-95a3-0cdb28fa8baf]\n",
      "└ @ Base loading.jl:1260\n"
     ]
    }
   ],
   "source": [
    "using LightGraphs\n",
    "using TikzGraphs\n",
    "using Combinatorics\n",
    "using GraphPlot\n",
    "using LaTeXStrings\n",
    "using Hodge\n",
    "using BenchmarkTools"
   ]
  },
  {
   "cell_type": "code",
   "execution_count": 4,
   "metadata": {},
   "outputs": [
    {
     "data": {
      "text/plain": [
       "get_splits (generic function with 1 method)"
      ]
     },
     "execution_count": 4,
     "metadata": {},
     "output_type": "execute_result"
    }
   ],
   "source": [
    "# n is the value of the labels, i.e, the n of T_n\n",
    "function get_splits(n)\n",
    "    rng = 0:n\n",
    "    rng_set = Set(rng)\n",
    "    # We use sets because with this approach is almost sure that we are generating duplicated splits\n",
    "    needed_subsets = map(dim -> map(Set, Combinatorics.combinations(rng, dim)), 2:ceil(Int, (n+1)/2))\n",
    "    splits = Set(map(subset -> Set([subset, symdiff(rng_set, subset)]), Iterators.flatten(needed_subsets)))\n",
    "    return splits\n",
    "end"
   ]
  },
  {
   "cell_type": "code",
   "execution_count": 5,
   "metadata": {},
   "outputs": [
    {
     "data": {
      "text/plain": [
       "generate_raw_simplicial_complex (generic function with 1 method)"
      ]
     },
     "execution_count": 5,
     "metadata": {},
     "output_type": "execute_result"
    }
   ],
   "source": [
    "function compatible_splits(split_1, split_2)\n",
    "    X_1, Y_1 = collect(split_1)\n",
    "    X_2, Y_2 = collect(split_2)\n",
    "    X_1_X_2 = intersect(X_1, X_2)\n",
    "    X_1_Y_2 = intersect(X_1, Y_2)\n",
    "    X_2_Y_1 = intersect(X_2, Y_1)\n",
    "    Y_1_Y_2 = intersect(Y_1, Y_2)\n",
    "    if length(X_1_X_2) == 0 || length(X_1_Y_2) == 0 || length(X_2_Y_1) == 0 || length(Y_1_Y_2) == 0\n",
    "        return true\n",
    "    end\n",
    "    return false\n",
    "end\n",
    "\n",
    "function generate_raw_simplicial_complex(splits)\n",
    "    table_of_compatibility = Dict()\n",
    "    s_complex = Dict()\n",
    "    vertex_combinations = Set(collect(Combinatorics.combinations(collect(splits), 2)))\n",
    "    for vertex_combination in vertex_combinations\n",
    "        split_1, split_2 = vertex_combination\n",
    "        push!(table_of_compatibility, Set(vertex_combination) => compatible_splits(split_1, split_2))\n",
    "    end\n",
    "    # First we add the vertices to the complex\n",
    "    push!(s_complex, 0 => Set(map(split -> Set([split]) , collect(splits))))\n",
    "    # Now we iterate through dimensions\n",
    "    previous_dimension = 0\n",
    "    added_simplices = true\n",
    "    while added_simplices\n",
    "        added_simplices = false\n",
    "        current_dimension = previous_dimension + 1\n",
    "        current_dimension_simplices = []\n",
    "        for split in splits\n",
    "            for simplex in s_complex[previous_dimension]\n",
    "                if !(split in simplex)\n",
    "                    all_compatible = true\n",
    "                    for vertex in simplex\n",
    "                        if !table_of_compatibility[Set([split, vertex])]\n",
    "                            all_compatible = false\n",
    "                            break\n",
    "                        end\n",
    "                    end\n",
    "                    if all_compatible\n",
    "                        added_simplices = true\n",
    "                        new_simplex = union(simplex, Set([split]))\n",
    "                        push!(current_dimension_simplices, new_simplex)\n",
    "                    end\n",
    "                end\n",
    "            end\n",
    "        end\n",
    "        if added_simplices\n",
    "            push!(s_complex, current_dimension => Set(current_dimension_simplices))\n",
    "        end\n",
    "        previous_dimension = current_dimension\n",
    "    end\n",
    "    return s_complex\n",
    "end"
   ]
  },
  {
   "cell_type": "code",
   "execution_count": 6,
   "metadata": {},
   "outputs": [
    {
     "data": {
      "text/plain": [
       "generate_abstract_simplicial_complex (generic function with 1 method)"
      ]
     },
     "execution_count": 6,
     "metadata": {},
     "output_type": "execute_result"
    }
   ],
   "source": [
    "function generate_abstract_simplicial_complex(simplicial_complex_raw)\n",
    "    dim_complex = length(simplicial_complex_raw) - 1\n",
    "    simplicial_complex = Dict()\n",
    "    map_vertices_to_integers = Dict(\n",
    "            map(enumerated_split -> (collect(enumerated_split[2])[1], enumerated_split[1]),\n",
    "            enumerate(simplicial_complex_raw[0])))\n",
    "    for dim in 0:dim_complex\n",
    "        simplices = []\n",
    "        simplices_raw = simplicial_complex_raw[dim]\n",
    "        for simplex_raw in simplices_raw\n",
    "            simplex = []\n",
    "            for vertex in simplex_raw\n",
    "                push!(simplex, map_vertices_to_integers[vertex])\n",
    "            end\n",
    "            push!(simplices, Set(simplex))\n",
    "        end\n",
    "        push!(simplicial_complex, dim => Set(simplices))\n",
    "    end\n",
    "    return simplicial_complex\n",
    "end"
   ]
  },
  {
   "cell_type": "code",
   "execution_count": 7,
   "metadata": {},
   "outputs": [
    {
     "data": {
      "text/plain": [
       "get_graph_from_simplicial_complex (generic function with 1 method)"
      ]
     },
     "execution_count": 7,
     "metadata": {},
     "output_type": "execute_result"
    }
   ],
   "source": [
    "function get_graph_from_simplicial_complex(simplicial_complex)\n",
    "    graph = LightGraphs.SimpleGraph(length(simplicial_complex[0]))\n",
    "    for edge in simplicial_complex[1]\n",
    "        e_1, e_2 = collect(edge)\n",
    "        add_edge!(graph, e_1, e_2)\n",
    "    end\n",
    "    return graph\n",
    "end"
   ]
  },
  {
   "cell_type": "code",
   "execution_count": 8,
   "metadata": {},
   "outputs": [
    {
     "data": {
      "text/plain": [
       "get_info_tree_n_from_simplicial_complex (generic function with 1 method)"
      ]
     },
     "execution_count": 8,
     "metadata": {},
     "output_type": "execute_result"
    }
   ],
   "source": [
    "function get_info_tree_n_from_simplicial_complex(simplicial_complex)\n",
    "    dim = length(keys(simplicial_complex)) - 1\n",
    "    println(\"Dimension of the simplicial complex: $dim\")\n",
    "    vertices = length(simplicial_complex[0])\n",
    "    println(\"Number of vertices: $vertices\")\n",
    "    if dim >= 1\n",
    "        edges = length(simplicial_complex[1])\n",
    "        println(\"Number of edges: $edges\")\n",
    "    end\n",
    "    if dim >= 2\n",
    "        triangles = length(simplicial_complex[2])\n",
    "        println(\"Number of triangles: $triangles\")\n",
    "    end\n",
    "end"
   ]
  },
  {
   "cell_type": "code",
   "execution_count": 9,
   "metadata": {},
   "outputs": [
    {
     "data": {
      "text/plain": [
       "get_homology_information (generic function with 1 method)"
      ]
     },
     "execution_count": 9,
     "metadata": {},
     "output_type": "execute_result"
    }
   ],
   "source": [
    "function get_simplicial_complex_without_dims(simplicial_complex_with_dims)\n",
    "    s_complex = []\n",
    "    for dim in keys(simplicial_complex_with_dims)\n",
    "        append!(s_complex, map(s_complex_dim -> collect(s_complex_dim), collect(simplicial_complex_with_dims[dim])))\n",
    "    end\n",
    "    return s_complex\n",
    "end\n",
    "function get_homology_information(simplicial_complex_with_dims)\n",
    "    s_complex =SimplicialComplex(get_simplicial_complex_without_dims(simplicial_complex_with_dims))\n",
    "    euler_c = euler_characteristic(s_complex)\n",
    "    bettis = betti(s_complex)\n",
    "    println(\"Euler characteristic: $euler_c\")\n",
    "    for dim in 0:(length(bettis)-1)\n",
    "        betti_dim = bettis[dim+1]\n",
    "        println(\"Betti number: $betti_dim\")\n",
    "    end\n",
    "    \n",
    "end"
   ]
  },
  {
   "cell_type": "code",
   "execution_count": 10,
   "metadata": {},
   "outputs": [
    {
     "data": {
      "text/plain": [
       "{10, 15} undirected simple Int64 graph"
      ]
     },
     "execution_count": 10,
     "metadata": {},
     "output_type": "execute_result"
    }
   ],
   "source": [
    "splits_t_4 = get_splits(4)\n",
    "s_complex_t_4_raw = generate_raw_simplicial_complex(splits_t_4)\n",
    "s_complex_t_4 = generate_abstract_simplicial_complex(s_complex_t_4_raw)\n",
    "graph_t_4 = get_graph_from_simplicial_complex(s_complex_t_4)"
   ]
  },
  {
   "cell_type": "code",
   "execution_count": 11,
   "metadata": {},
   "outputs": [],
   "source": [
    "#TikzGraphs.plot(graph_t_4)"
   ]
  },
  {
   "cell_type": "code",
   "execution_count": 12,
   "metadata": {},
   "outputs": [
    {
     "data": {
      "text/plain": [
       "Dict{Any,Any} with 3 entries:\n",
       "  0 => Set(Any[Set(Any[15]), Set(Any[2]), Set(Any[11]), Set(Any[14]), Set(Any[1…\n",
       "  2 => Set(Any[Set(Any[4, 2, 17]), Set(Any[9, 25, 10]), Set(Any[7, 3, 6]), Set(…\n",
       "  1 => Set(Any[Set(Any[9, 6]), Set(Any[2, 12]), Set(Any[25, 2]), Set(Any[9, 24]…"
      ]
     },
     "execution_count": 12,
     "metadata": {},
     "output_type": "execute_result"
    }
   ],
   "source": [
    "splits_t_5 = get_splits(5)\n",
    "s_complex_t_5_raw = generate_raw_simplicial_complex(splits_t_5)\n",
    "s_complex_t_5 = generate_abstract_simplicial_complex(s_complex_t_5_raw)"
   ]
  },
  {
   "cell_type": "code",
   "execution_count": 13,
   "metadata": {},
   "outputs": [
    {
     "name": "stdout",
     "output_type": "stream",
     "text": [
      "Dimension of the simplicial complex: 2\n",
      "Number of vertices: 25\n",
      "Number of edges: 105\n",
      "Number of triangles: 105\n"
     ]
    }
   ],
   "source": [
    "get_info_tree_n_from_simplicial_complex(s_complex_t_5)"
   ]
  },
  {
   "cell_type": "code",
   "execution_count": 14,
   "metadata": {},
   "outputs": [
    {
     "name": "stdout",
     "output_type": "stream",
     "text": [
      "Euler characteristic: -5\n",
      "Betti number: 1\n",
      "Betti number: 6\n"
     ]
    }
   ],
   "source": [
    "get_homology_information(s_complex_t_4)"
   ]
  },
  {
   "cell_type": "code",
   "execution_count": 15,
   "metadata": {},
   "outputs": [
    {
     "name": "stdout",
     "output_type": "stream",
     "text": [
      "Euler characteristic: 25\n",
      "Betti number: 1\n",
      "Betti number: 0\n",
      "Betti number: 24\n"
     ]
    }
   ],
   "source": [
    "get_homology_information(s_complex_t_5)"
   ]
  },
  {
   "cell_type": "code",
   "execution_count": 23,
   "metadata": {},
   "outputs": [
    {
     "data": {
      "text/plain": [
       "check_n (generic function with 1 method)"
      ]
     },
     "execution_count": 23,
     "metadata": {},
     "output_type": "execute_result"
    }
   ],
   "source": [
    "function check_n()\n",
    "    n=1\n",
    "    enough_time = false\n",
    "    results = []\n",
    "    while !enough_time\n",
    "        t_start = time()\n",
    "        splits_t_n = get_splits(n)\n",
    "        s_complex_t_n_raw = generate_raw_simplicial_complex(splits_t_n)\n",
    "        s_complex_t_n = generate_abstract_simplicial_complex(s_complex_t_n_raw)\n",
    "        get_homology_information(s_complex_t_n)\n",
    "        t_end = time()\n",
    "        if t_end - t_start > 3600 # We stop if we arrive to one hour of computation\n",
    "            enough_time = true\n",
    "        end\n",
    "        push!(results, \"Computed simplicial complex and its homology for dimension n = \"*string(n)*\". Computed in \"*string(t_end - t_start)*\" seconds\")\n",
    "        n += 1\n",
    "    end\n",
    "    return results\n",
    "end"
   ]
  },
  {
   "cell_type": "code",
   "execution_count": null,
   "metadata": {},
   "outputs": [
    {
     "name": "stdout",
     "output_type": "stream",
     "text": [
      "Euler characteristic: 0\n",
      "Euler characteristic: 1\n",
      "Betti number: 1\n",
      "Betti number: 0\n",
      "Betti number: 0\n",
      "Euler characteristic: 3\n",
      "Betti number: 3\n",
      "Euler characteristic: -5\n",
      "Betti number: 1\n",
      "Betti number: 6\n"
     ]
    }
   ],
   "source": [
    "results = check_n()"
   ]
  },
  {
   "cell_type": "code",
   "execution_count": null,
   "metadata": {},
   "outputs": [],
   "source": []
  }
 ],
 "metadata": {
  "kernelspec": {
   "display_name": "Julia 1.4.1",
   "language": "julia",
   "name": "julia-1.4"
  },
  "language_info": {
   "file_extension": ".jl",
   "mimetype": "application/julia",
   "name": "julia",
   "version": "1.4.1"
  }
 },
 "nbformat": 4,
 "nbformat_minor": 4
}
