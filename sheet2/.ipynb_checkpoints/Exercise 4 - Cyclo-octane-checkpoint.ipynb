{
 "cells": [
  {
   "cell_type": "code",
   "execution_count": 1,
   "id": "6f40303c",
   "metadata": {},
   "outputs": [],
   "source": [
    "using Pkg\n",
    "using DelimitedFiles"
   ]
  },
  {
   "cell_type": "code",
   "execution_count": 2,
   "id": "17b2fc34",
   "metadata": {},
   "outputs": [],
   "source": [
    "#Pkg.add(\"Eirene\")\n",
    "#Pkg.add(\"WebIO\")\n",
    "#Pkg.add(\"Plots\")"
   ]
  },
  {
   "cell_type": "code",
   "execution_count": 3,
   "id": "923dd216",
   "metadata": {},
   "outputs": [
    {
     "data": {
      "application/vnd.webio.node+json": {
       "children": [],
       "instanceArgs": {
        "namespace": "html",
        "tag": "div"
       },
       "nodeType": "DOM",
       "props": {},
       "type": "node"
      },
      "text/html": [
       "<div style=\"padding: 1em; background-color: #f8d6da; border: 1px solid #f5c6cb; font-weight: bold;\">\n",
       "<p>The WebIO Jupyter extension was not detected. See the\n",
       "<a href=\"https://juliagizmos.github.io/WebIO.jl/latest/providers/ijulia/\" target=\"_blank\">\n",
       "    WebIO Jupyter integration documentation\n",
       "</a>\n",
       "for more information.\n",
       "</div>\n"
      ],
      "text/plain": [
       "WebIO._IJuliaInit()"
      ]
     },
     "metadata": {},
     "output_type": "display_data"
    },
    {
     "name": "stderr",
     "output_type": "stream",
     "text": [
      "WARNING: could not import HDF5.Group into _hdf5_implementation\n",
      "WARNING: could not import HDF5.Dataset into _hdf5_implementation\n",
      "┌ Warning: Error requiring `HDF5` from `Plots`\n",
      "│   exception = (LoadError(\"/home/rubenballesterbautista/.julia/packages/Plots/5kcBO/src/backends/hdf5.jl\", 36, UndefVarError(:Group)), Union{Ptr{Nothing}, Base.InterpreterIP}[Ptr{Nothing} @0x00007f61145d5363, Ptr{Nothing} @0x00007f6114653cff, Ptr{Nothing} @0x00007f611465443b, Ptr{Nothing} @0x00007f6114653e44, Ptr{Nothing} @0x00007f61146556fb, Ptr{Nothing} @0x00007f6114655fc1, Base.InterpreterIP in top-level CodeInfo for Plots._hdf5_implementation at statement 4, Ptr{Nothing} @0x00007f6114679e13, Ptr{Nothing} @0x00007f611467a5e8, Ptr{Nothing} @0x00007f611467a8b6, Ptr{Nothing} @0x00007f611467a8b6, Ptr{Nothing} @0x00007f611467b1a1, Ptr{Nothing} @0x00007f60fa48e477, Ptr{Nothing} @0x00007f60fa3e0bb2, Ptr{Nothing} @0x00007f60f9efa8b5, Ptr{Nothing} @0x00007f611464c0aa, Ptr{Nothing} @0x00007f60a92e62a2, Ptr{Nothing} @0x00007f611465445b, Ptr{Nothing} @0x00007f6114653e44, Ptr{Nothing} @0x00007f61146556fb, Ptr{Nothing} @0x00007f6114655fc1, Base.InterpreterIP in top-level CodeInfo for Plots at statement 10, Ptr{Nothing} @0x00007f6114679e13, Ptr{Nothing} @0x00007f611467b1a1, Ptr{Nothing} @0x00007f60a92e61dd, Ptr{Nothing} @0x00007f60a92e6221, Ptr{Nothing} @0x00007f611465445b, Ptr{Nothing} @0x00007f6114653e44, Ptr{Nothing} @0x00007f6114655a06, Ptr{Nothing} @0x00007f6114655d13, Ptr{Nothing} @0x00007f6114656386, Base.InterpreterIP in MethodInstance for err(::Any, ::Module, ::String) at statement 2, Ptr{Nothing} @0x00007f60a92e611b, Ptr{Nothing} @0x00007f60a92e6151, Ptr{Nothing} @0x00007f611465445b, Ptr{Nothing} @0x00007f6114653e44, Ptr{Nothing} @0x00007f6114655a40, Ptr{Nothing} @0x00007f6114655d13, Ptr{Nothing} @0x00007f6114656386, Base.InterpreterIP in MethodInstance for withpath(::Any, ::String) at statement 10, Ptr{Nothing} @0x00007f60a92e606f, Ptr{Nothing} @0x00007f60a92e60b1, Ptr{Nothing} @0x00007f611465445b, Ptr{Nothing} @0x00007f6114653e44, Ptr{Nothing} @0x00007f6114655a06, Ptr{Nothing} @0x00007f6114656386, Base.InterpreterIP in MethodInstance for listenpkg(::Any, ::Base.PkgId) at statement 3, Ptr{Nothing} @0x00007f60a92e2be2, Ptr{Nothing} @0x00007f60a92e3c41, Ptr{Nothing} @0x00007f6114672c51, Ptr{Nothing} @0x00007f6114666a71, Ptr{Nothing} @0x00007f60a92bf73d, Ptr{Nothing} @0x00007f60a92c0a4f, Ptr{Nothing} @0x00007f60a92c2cf6, Ptr{Nothing} @0x00007f60a92c50d1, Ptr{Nothing} @0x00007f60a92c9460, Ptr{Nothing} @0x00007f61147531e3, Ptr{Nothing} @0x00007f611467acf4, Ptr{Nothing} @0x00007f611467a8b6, Ptr{Nothing} @0x00007f611467b1a1, Ptr{Nothing} @0x00007f60a928142c, Ptr{Nothing} @0x00007f60a92817cd, Ptr{Nothing} @0x00007f60a927e253, Ptr{Nothing} @0x00007f611464c0aa, Ptr{Nothing} @0x00007f60a925ba0e, Ptr{Nothing} @0x00007f60a925bc52, Ptr{Nothing} @0x00007f60a925bc70, Ptr{Nothing} @0x00007f61146578be])\n",
      "└ @ Requires /home/rubenballesterbautista/.julia/packages/Requires/7Ncym/src/require.jl:49\n"
     ]
    }
   ],
   "source": [
    "using Eirene\n",
    "using Plots"
   ]
  },
  {
   "cell_type": "code",
   "execution_count": 4,
   "id": "8cf59e4f",
   "metadata": {},
   "outputs": [
    {
     "data": {
      "text/plain": [
       "17×3733 Matrix{Float16}:\n",
       " -0.4714   -0.4714  -0.4714   -0.4714   …  -0.4714  -0.4714  -0.4714  -0.4714\n",
       " -0.4033   -1.327   -0.10516  -1.33        -0.956   -0.5146   1.002    0.874\n",
       " -1.2705    0.132   -1.329     0.08655     -0.929   -1.2295  -0.8794  -1.007\n",
       " -1.544    -1.109   -1.143    -1.0625       0.336   -0.2825  -0.724   -1.357\n",
       " -1.311    -1.722   -1.339    -1.702       -0.9233   0.4487   2.188    1.817\n",
       " -1.109    -1.067   -1.495    -1.144    …  -2.09    -2.248   -0.1514  -0.4355\n",
       " -1.053    -0.3574  -1.043    -0.4187       1.632   -0.3728   0.3474  -0.8604\n",
       " -2.637    -2.748   -2.094    -2.855       -0.4712   1.746    3.092    3.123\n",
       " -1.169    -1.685   -0.3035   -1.646       -1.75    -1.691   -0.337   -0.6543\n",
       "  0.09644   0.703    0.161     0.728        1.822   -0.3843   1.007    0.517\n",
       " -2.75     -3.135   -2.836    -3.135    …   0.8364   1.654    2.799    3.162\n",
       " -0.3535   -0.832   -0.316    -0.8667      -2.254   -0.2803  -1.554   -0.3364\n",
       "  1.181     0.8057   1.171     0.801        2.44     0.8057   1.982    1.178\n",
       " -2.082    -2.215   -2.086    -2.217        1.638    2.215    1.799    2.084\n",
       " -0.97      0.238   -0.961     0.2075      -1.266    0.2383  -1.332   -0.968\n",
       "  1.886     1.886    1.886     1.886    …   1.886    1.886    1.886    1.886\n",
       " -1.333    -1.333   -1.333    -1.333        1.333    1.333    1.333    1.333"
      ]
     },
     "execution_count": 4,
     "metadata": {},
     "output_type": "execute_result"
    }
   ],
   "source": [
    "M_tiny = readdlm(\"M_tiny.txt\", '\\t', Float16, '\\n')\n",
    "M_medium = readdlm(\"M_medium.txt\", '\\t', Float16, '\\n')\n",
    "M_large = readdlm(\"M_large.txt\", '\\t', Float16, '\\n')"
   ]
  },
  {
   "cell_type": "markdown",
   "id": "7d6262f8",
   "metadata": {},
   "source": [
    "We know that the Cyclo-Octane max homology group dimension is 2 because of the previous exercise, where we computed its homology groups. Therefore, we will compute only the first three persistence diagrams."
   ]
  },
  {
   "cell_type": "code",
   "execution_count": 5,
   "id": "a071dd4c",
   "metadata": {},
   "outputs": [
    {
     "data": {
      "text/plain": [
       "get_multidim_persistence_diagram (generic function with 1 method)"
      ]
     },
     "execution_count": 5,
     "metadata": {},
     "output_type": "execute_result"
    }
   ],
   "source": [
    "function get_multidim_persistence_diagram(eirene_output; max_dim=1)\n",
    "    pd_points = Dict()\n",
    "    for i in 0:max_dim\n",
    "        points = barcode(eirene_output, dim=i)\n",
    "        push!(pd_points, i => points)\n",
    "    end\n",
    "    return pd_points\n",
    "end"
   ]
  },
  {
   "cell_type": "code",
   "execution_count": 6,
   "id": "eab897b0",
   "metadata": {},
   "outputs": [
    {
     "data": {
      "text/plain": [
       "plot_persistence_diagram (generic function with 1 method)"
      ]
     },
     "execution_count": 6,
     "metadata": {},
     "output_type": "execute_result"
    }
   ],
   "source": [
    "function plot_persistence_diagram(pd_points, pdf_output_file)\n",
    "    markercolors = [\n",
    "    :green, :orange, :black, :purple,\n",
    "    :red,   :yellow, :brown, :white\n",
    "    ]\n",
    "    x_y_s = []\n",
    "    max_y = -1\n",
    "    for dim in 0:(length(pd_points)-1)\n",
    "        x = []\n",
    "        y = []\n",
    "        for row_idx in 1:size(pd_points[dim])[1]\n",
    "            push!(x, pd_points[dim][row_idx, 1])\n",
    "            if isinf(pd_points[dim][row_idx, 2])\n",
    "                push!(y, pd_points[dim][row_idx, 1])\n",
    "            else\n",
    "                push!(y, pd_points[dim][row_idx, 2])\n",
    "            end\n",
    "        end\n",
    "        if max_y < maximum(y)\n",
    "            max_y = maximum(y)\n",
    "        end\n",
    "        if dim == 0\n",
    "            scatter(copy(x), copy(y), label=\"Dim: \"*string(dim))\n",
    "        else\n",
    "            scatter!(copy(x), copy(y), label=\"Dim: \"*string(dim))\n",
    "        end\n",
    "    end\n",
    "    plt = plot!([0, max_y], [0, max_y], label=\"\", legend=:bottomright, aspect_ratio=:equal, xlims=(-0.1, max_y + 0.1), color=:red)\n",
    "    savefig(plt, pdf_output_file)\n",
    "end"
   ]
  },
  {
   "cell_type": "code",
   "execution_count": 7,
   "id": "233728d8",
   "metadata": {},
   "outputs": [
    {
     "data": {
      "text/plain": [
       "Dict{Any, Any} with 3 entries:\n",
       "  0 => [0.0 0.265056; 0.0 0.787967; … ; 0.0 6.45641; 0.0 Inf]\n",
       "  2 => [8.42572 8.43927]\n",
       "  1 => [1.93806 2.16093; 1.75203 1.99069; … ; 1.74734 2.15444; 1.98395 2.30449]"
      ]
     },
     "execution_count": 7,
     "metadata": {},
     "output_type": "execute_result"
    }
   ],
   "source": [
    "C_tiny = eirene(M_tiny, model = \"pc\", maxdim=2)\n",
    "tiny_pd_points = get_multidim_persistence_diagram(C_tiny, max_dim=2)"
   ]
  },
  {
   "cell_type": "code",
   "execution_count": 8,
   "id": "b8e8b30c",
   "metadata": {},
   "outputs": [
    {
     "data": {
      "text/plain": [
       "Dict{Any, Any} with 2 entries:\n",
       "  0 => [0.0 0.126929; 0.0 0.257855; … ; 0.0 1.29355; 0.0 Inf]\n",
       "  1 => [0.596814 0.59866; 0.636593 0.718728; … ; 1.31432 1.76948; 1.20455 1.923…"
      ]
     },
     "execution_count": 8,
     "metadata": {},
     "output_type": "execute_result"
    }
   ],
   "source": [
    "C_medium = eirene(M_medium, model =\"pc\", maxdim=1)\n",
    "medium_pd_points = get_multidim_persistence_diagram(C_medium)"
   ]
  },
  {
   "cell_type": "code",
   "execution_count": 22,
   "id": "1daae741",
   "metadata": {},
   "outputs": [
    {
     "name": "stdout",
     "output_type": "stream",
     "text": [
      "Size M_tiny: (17, 64)\n",
      "Size M_medium: (17, 896)\n",
      "Size M_large: (17, 3733)\n"
     ]
    }
   ],
   "source": [
    "println(\"Size M_tiny: \"*string(size(M_tiny)))\n",
    "println(\"Size M_medium: \"*string(size(M_medium)))\n",
    "println(\"Size M_large: \"*string(size(M_large)))"
   ]
  },
  {
   "cell_type": "code",
   "execution_count": null,
   "id": "a514d1a8",
   "metadata": {},
   "outputs": [],
   "source": [
    "C_large = eirene(M_large[:, 1:3500], model = \"pc\", maxdim=1, record=\"none\")\n",
    "large_pd_points = get_multidim_persistence_diagram(C_large)"
   ]
  },
  {
   "cell_type": "code",
   "execution_count": 8,
   "id": "2b6b98ef",
   "metadata": {},
   "outputs": [],
   "source": [
    "plot_persistence_diagram(tiny_pd_points, \"tiny_pd.pdf\")"
   ]
  },
  {
   "cell_type": "code",
   "execution_count": 9,
   "id": "ecb0ee2d",
   "metadata": {},
   "outputs": [],
   "source": [
    "plot_persistence_diagram(medium_pd_points, \"medium_pd.pdf\")"
   ]
  },
  {
   "cell_type": "code",
   "execution_count": 32,
   "id": "1bb4481c",
   "metadata": {},
   "outputs": [],
   "source": [
    "plot_persistence_diagram(large_pd_points, \"large_pd.pdf\")"
   ]
  }
 ],
 "metadata": {
  "kernelspec": {
   "display_name": "Julia 1.6.3",
   "language": "julia",
   "name": "julia-1.6"
  },
  "language_info": {
   "file_extension": ".jl",
   "mimetype": "application/julia",
   "name": "julia",
   "version": "1.6.3"
  }
 },
 "nbformat": 4,
 "nbformat_minor": 5
}
