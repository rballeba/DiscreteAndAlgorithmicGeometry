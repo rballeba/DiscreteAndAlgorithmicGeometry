{
 "cells": [
  {
   "cell_type": "code",
   "execution_count": 2,
   "metadata": {},
   "outputs": [],
   "source": [
    "using Pkg"
   ]
  },
  {
   "cell_type": "code",
   "execution_count": 1,
   "metadata": {
    "scrolled": false
   },
   "outputs": [
    {
     "ename": "LoadError",
     "evalue": "UndefVarError: Pkg not defined",
     "output_type": "error",
     "traceback": [
      "UndefVarError: Pkg not defined",
      "",
      "Stacktrace:",
      " [1] top-level scope",
      "   @ In[1]:1",
      " [2] eval",
      "   @ ./boot.jl:360 [inlined]",
      " [3] include_string(mapexpr::typeof(REPL.softscope), mod::Module, code::String, filename::String)",
      "   @ Base ./loading.jl:1116"
     ]
    }
   ],
   "source": [
    "Pkg.add(\"Polymake\")"
   ]
  },
  {
   "cell_type": "code",
   "execution_count": 2,
   "metadata": {},
   "outputs": [
    {
     "name": "stderr",
     "output_type": "stream",
     "text": [
      "┌ Info: Precompiling Polymake [d720cf60-89b5-51f5-aff5-213f193123e7]\n",
      "└ @ Base loading.jl:1342\n",
      "polymake:  WARNING: created private directory /home/rubenballesterbautista/.julia/polymake_user\n",
      "Term::Cap->Tgetent failed for TERM xterm-256color: Can't find a valid termcap file at /home/rubenballesterbautista/.julia/artifacts/126e46ef58e10c4a1a8c15b9d97d20987ce65a14/share/polymake/perllib/Polymake/Core/InteractiveCommands.pm line 32.\n",
      "\u001b[36m\u001b[1m[ \u001b[22m\u001b[39m\u001b[36m\u001b[1mInfo: \u001b[22m\u001b[39mGenerating module common\n",
      "\u001b[36m\u001b[1m[ \u001b[22m\u001b[39m\u001b[36m\u001b[1mInfo: \u001b[22m\u001b[39mGenerating module ideal\n",
      "\u001b[36m\u001b[1m[ \u001b[22m\u001b[39m\u001b[36m\u001b[1mInfo: \u001b[22m\u001b[39mGenerating module graph\n",
      "\u001b[36m\u001b[1m[ \u001b[22m\u001b[39m\u001b[36m\u001b[1mInfo: \u001b[22m\u001b[39mGenerating module fulton\n",
      "\u001b[36m\u001b[1m[ \u001b[22m\u001b[39m\u001b[36m\u001b[1mInfo: \u001b[22m\u001b[39mGenerating module fan\n",
      "\u001b[36m\u001b[1m[ \u001b[22m\u001b[39m\u001b[36m\u001b[1mInfo: \u001b[22m\u001b[39mGenerating module group\n",
      "\u001b[36m\u001b[1m[ \u001b[22m\u001b[39m\u001b[36m\u001b[1mInfo: \u001b[22m\u001b[39mGenerating module polytope\n",
      "\u001b[36m\u001b[1m[ \u001b[22m\u001b[39m\u001b[36m\u001b[1mInfo: \u001b[22m\u001b[39mGenerating module topaz\n",
      "\u001b[36m\u001b[1m[ \u001b[22m\u001b[39m\u001b[36m\u001b[1mInfo: \u001b[22m\u001b[39mGenerating module tropical\n",
      "\u001b[36m\u001b[1m[ \u001b[22m\u001b[39m\u001b[36m\u001b[1mInfo: \u001b[22m\u001b[39mGenerating module matroid\n"
     ]
    },
    {
     "name": "stdout",
     "output_type": "stream",
     "text": [
      "polymake version 4.5\n",
      "Copyright (c) 1997-2021\n",
      "Ewgenij Gawrilow, Michael Joswig, and the polymake team\n",
      "Technische Universität Berlin, Germany\n",
      "https://polymake.org\n",
      "\n",
      "This is free software licensed under GPL; see the source for copying conditions.\n",
      "There is NO warranty; not even for MERCHANTABILITY or FITNESS FOR A PARTICULAR PURPOSE.\n",
      "\n"
     ]
    }
   ],
   "source": [
    "using Polymake"
   ]
  },
  {
   "cell_type": "code",
   "execution_count": 34,
   "metadata": {},
   "outputs": [
    {
     "data": {
      "text/html": [
       "<dl> <dt>type</dt><dd> SimplicialComplex</dd> </dl>   <details>\n",
       "       <summary style='display:list-item;'>INPUT_FACES</summary>\n",
       "       <pre>{0}\n",
       "{1}\n",
       "{2}\n",
       "{3}\n",
       "{4}\n",
       "{5}\n",
       "{0 1}\n",
       "{0 2}\n",
       "{0 3}\n",
       "{0 4}\n",
       "{0 5}\n",
       "{1 2}\n",
       "{1 3}\n",
       "{1 4}\n",
       "{1 5}\n",
       "{2 3}\n",
       "{2 4}\n",
       "{2 5}\n",
       "{3 4}\n",
       "{3 5}\n",
       "{4 5}\n",
       "{0 1 3}\n",
       "{0 1 4}\n",
       "{0 2 3}\n",
       "{0 2 5}\n",
       "{0 3 4}\n",
       "{0 3 5}\n",
       "{1 2 4}\n",
       "{1 2 5}\n",
       "{1 3 4}\n",
       "{1 4 5}\n",
       "{2 3 5}\n",
       "{2 4 5}</pre>\n",
       "   </details>\n"
      ],
      "text/plain": [
       "type: SimplicialComplex\n",
       "\n",
       "INPUT_FACES\n",
       "\t{0}\n",
       "\t{1}\n",
       "\t{2}\n",
       "\t{3}\n",
       "\t{4}\n",
       "\t{5}\n",
       "\t{0 1}\n",
       "\t{0 2}\n",
       "\t{0 3}\n",
       "\t{0 4}\n",
       "\t…\n"
      ]
     },
     "execution_count": 34,
     "metadata": {},
     "output_type": "execute_result"
    }
   ],
   "source": [
    "dim_0_simplices = [Set([i]) for i in 0:5]\n",
    "dim_1_simplices = [Set((0, 1)), Set((0, 2)), Set((0, 3)), Set((0,4)),\n",
    "Set((0,5)),Set((1, 2)), Set((1,3)), Set((1, 4)), Set((1, 5)), Set((2, 3)), Set((2, 4)), Set((2, 5)), Set((3,4)), Set((3, 5)), Set((4, 5))]\n",
    "dim_2_simplices = [Set((0,1,3)), Set((0, 1, 4)), Set((0, 2, 3)), Set((0, 2, 5)), Set((0, 3, 4)), Set((0, 3, 5)), Set((1, 2, 4)), Set((1, 2, 5)), Set((1, 3, 4)), Set((1, 4, 5)), Set((2, 3, 5)), Set((2, 4, 5))]\n",
    "\n",
    "cplx = topaz.SimplicialComplex(INPUT_FACES=vcat(vcat(dim_0_simplices, dim_1_simplices), dim_2_simplices))"
   ]
  },
  {
   "cell_type": "code",
   "execution_count": 56,
   "metadata": {},
   "outputs": [
    {
     "data": {
      "text/plain": [
       "PropertyValue wrapping pm::Array<polymake::topaz::HomologyGroup<pm::Integer>>\n",
       "({} 0)\n",
       "({} 1)\n",
       "({} 3)\n"
      ]
     },
     "execution_count": 56,
     "metadata": {},
     "output_type": "execute_result"
    }
   ],
   "source": [
    "f = cplx.HOMOLOGY"
   ]
  }
 ],
 "metadata": {
  "kernelspec": {
   "display_name": "Julia 1.6.3",
   "language": "julia",
   "name": "julia-1.6"
  },
  "language_info": {
   "file_extension": ".jl",
   "mimetype": "application/julia",
   "name": "julia",
   "version": "1.6.3"
  }
 },
 "nbformat": 4,
 "nbformat_minor": 4
}
