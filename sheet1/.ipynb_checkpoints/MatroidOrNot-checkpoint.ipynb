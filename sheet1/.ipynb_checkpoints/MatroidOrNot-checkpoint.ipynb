{
 "cells": [
  {
   "cell_type": "code",
   "execution_count": 4,
   "metadata": {},
   "outputs": [
    {
     "name": "stderr",
     "output_type": "stream",
     "text": [
      "\u001b[32m\u001b[1m   Updating\u001b[22m\u001b[39m registry at `~/.julia/registries/General`\n"
     ]
    },
    {
     "name": "stdout",
     "output_type": "stream",
     "text": [
      "\u001b[?25l    "
     ]
    },
    {
     "name": "stderr",
     "output_type": "stream",
     "text": [
      "\u001b[32m\u001b[1m   Updating\u001b[22m\u001b[39m git-repo `https://github.com/JuliaRegistries/General.git`\n"
     ]
    },
    {
     "name": "stdout",
     "output_type": "stream",
     "text": [
      "\u001b[2K\u001b[?25h[1mFetching:\u001b[22m\u001b[39m [========================================>]  99.9 %                            ]  28.1 %\u001b[36m\u001b[1mFetching:\u001b[22m\u001b[39m [=================>                       ]  41.9 %>                ]  59.8 %================================>        ]  77.8 %]  95.6 %"
     ]
    },
    {
     "name": "stderr",
     "output_type": "stream",
     "text": [
      "\u001b[32m\u001b[1m  Resolving\u001b[22m\u001b[39m package versions...\n",
      "\u001b[32m\u001b[1m   Updating\u001b[22m\u001b[39m `~/.julia/environments/v1.4/Project.toml`\n",
      "\u001b[90m [no changes]\u001b[39m\n",
      "\u001b[32m\u001b[1m   Updating\u001b[22m\u001b[39m `~/.julia/environments/v1.4/Manifest.toml`\n",
      "\u001b[90m [no changes]\u001b[39m\n",
      "\u001b[32m\u001b[1m  Resolving\u001b[22m\u001b[39m package versions...\n",
      "\u001b[32m\u001b[1m   Updating\u001b[22m\u001b[39m `~/.julia/environments/v1.4/Project.toml`\n",
      "\u001b[90m [no changes]\u001b[39m\n",
      "\u001b[32m\u001b[1m   Updating\u001b[22m\u001b[39m `~/.julia/environments/v1.4/Manifest.toml`\n",
      "\u001b[90m [no changes]\u001b[39m\n",
      "\u001b[32m\u001b[1m  Resolving\u001b[22m\u001b[39m package versions...\n",
      "\u001b[32m\u001b[1m   Updating\u001b[22m\u001b[39m `~/.julia/environments/v1.4/Project.toml`\n",
      "\u001b[90m [no changes]\u001b[39m\n",
      "\u001b[32m\u001b[1m   Updating\u001b[22m\u001b[39m `~/.julia/environments/v1.4/Manifest.toml`\n",
      "\u001b[90m [no changes]\u001b[39m\n",
      "\u001b[32m\u001b[1m  Resolving\u001b[22m\u001b[39m package versions...\n",
      "\u001b[32m\u001b[1m   Updating\u001b[22m\u001b[39m `~/.julia/environments/v1.4/Project.toml`\n",
      "\u001b[90m [no changes]\u001b[39m\n",
      "\u001b[32m\u001b[1m   Updating\u001b[22m\u001b[39m `~/.julia/environments/v1.4/Manifest.toml`\n",
      "\u001b[90m [no changes]\u001b[39m\n"
     ]
    }
   ],
   "source": [
    "import Pkg;\n",
    "Pkg.add(\"CSV\");\n",
    "Pkg.add(\"uCSV\");\n",
    "Pkg.add(\"DataFrames\")\n",
    "Pkg.add(\"Combinatorics\")"
   ]
  },
  {
   "cell_type": "code",
   "execution_count": 5,
   "metadata": {},
   "outputs": [],
   "source": [
    "using CSV, DataFrames;\n",
    "using Combinatorics;"
   ]
  },
  {
   "cell_type": "code",
   "execution_count": 6,
   "metadata": {},
   "outputs": [
    {
     "data": {
      "text/plain": [
       "build_possible_bases_from_file (generic function with 1 method)"
      ]
     },
     "execution_count": 6,
     "metadata": {},
     "output_type": "execute_result"
    }
   ],
   "source": [
    "# The CSV files must not have comments. This is due to limitations of the CSV readers in the Julia language.\n",
    "\n",
    "function build_possible_bases_from_file(filepath::AbstractString)\n",
    "    raw_possible_bases = CSV.read(filepath, DataFrame; delim=' ', header=0)\n",
    "    raw_possible_bases_cols = ncol(raw_possible_bases)\n",
    "    if first(raw_possible_bases[:,raw_possible_bases_cols]) === missing\n",
    "        # Bad column\n",
    "        return Matrix(raw_possible_bases[:,1:raw_possible_bases_cols - 1])\n",
    "    end\n",
    "    return Matrix(raw_possible_bases)\n",
    "end"
   ]
  },
  {
   "cell_type": "code",
   "execution_count": 7,
   "metadata": {},
   "outputs": [
    {
     "data": {
      "text/plain": [
       "get_all_possible_bases (generic function with 1 method)"
      ]
     },
     "execution_count": 7,
     "metadata": {},
     "output_type": "execute_result"
    }
   ],
   "source": [
    "function get_all_possible_bases(folder_path::AbstractString)\n",
    "    all_possible_bases_filenames = readdir(folder_path)\n",
    "    complete_possible_bases_filepaths = map(filepath-> folder_path * '/' * filepath, \n",
    "        all_possible_bases_filenames)\n",
    "    all_possibly_bases = map(build_possible_bases_from_file, complete_possible_bases_filepaths)\n",
    "    return Dict(zip(all_possible_bases_filenames, all_possibly_bases))\n",
    "end"
   ]
  },
  {
   "cell_type": "code",
   "execution_count": 8,
   "metadata": {},
   "outputs": [
    {
     "data": {
      "text/plain": [
       "Dict{String,Array{Int64,2}} with 12 entries:\n",
       "  \"417.bases\"            => [14 4 … 8 10; 14 3 … 9 10; … ; 14 4 … 9 10; 14 4 … …\n",
       "  \"not-bases-1.txt\"      => [1 2; 3 4]\n",
       "  \"462.bases\"            => [1 2 … 9 10; 2 4 … 8 11; … ; 2 3 … 9 10; 3 5 … 8 9]\n",
       "  \"6435.bases\"           => [3 5 … 13 15; 1 2 … 10 13; … ; 1 2 … 10 13; 1 2 … 1…\n",
       "  \"4639.bases\"           => [16 5 12 7; 18 15 5 6; … ; 12 16 1 9; 15 1 18 8]\n",
       "  \"924.bases\"            => [1 2 … 9 12; 1 3 … 8 9; … ; 2 4 … 9 12; 1 3 … 8 10]\n",
       "  \"3432.bases\"           => [1 7 … 11 14; 1 2 … 10 11; … ; 1 3 … 9 10; 1 2 … 12…\n",
       "  \"252.bases\"            => [1 5 … 7 8; 1 2 … 8 10; … ; 1 4 … 8 10; 2 5 … 7 9]\n",
       "  \"1716.bases\"           => [5 7 … 11 13; 2 3 … 8 9; … ; 5 6 … 11 13; 2 3 … 12 …\n",
       "  \"definitely-bases.txt\" => [1 2 4; 1 2 5; … ; 2 3 5; 2 4 5]\n",
       "  \"4092.bases\"           => [14 11 … 5 8; 15 11 … 5 8; … ; 15 12 … 3 6; 15 12 ……\n",
       "  \"not-bases-2.txt\"      => [1 2 4; 2 4 5; 2 3 5]"
      ]
     },
     "execution_count": 8,
     "metadata": {},
     "output_type": "execute_result"
    }
   ],
   "source": [
    "all_possible_bases = get_all_possible_bases(\"./matroid-or-not\")"
   ]
  },
  {
   "cell_type": "code",
   "execution_count": 9,
   "metadata": {},
   "outputs": [
    {
     "data": {
      "text/plain": [
       "check_base_condition (generic function with 1 method)"
      ]
     },
     "execution_count": 9,
     "metadata": {},
     "output_type": "execute_result"
    }
   ],
   "source": [
    "function is_matroid_bases(possible_base:: AbstractMatrix)::Bool\n",
    "    found_counterexample = false\n",
    "    B = get_B_from_possible_base_matrix(possible_base)\n",
    "    possible_B1_B2 = Set(collect(combinations(collect(B), 2)))\n",
    "    for (B1, B2) in possible_B1_B2\n",
    "        B1_minus_B2 = setdiff(B1, B2)\n",
    "        B2_minus_B1 = setdiff(B2, B1)\n",
    "        if !check_base_condition(B, B1, B1_minus_B2, B2_minus_B1) || \n",
    "            !check_base_condition(B, B2, B2_minus_B1, B1_minus_B2)\n",
    "            return false\n",
    "        end\n",
    "    end\n",
    "    return true\n",
    "end\n",
    "    \n",
    "function get_B_from_possible_base_matrix(possible_base::AbstractMatrix)\n",
    "    return map(row_idx -> Set(possible_base[row_idx,:]), 1:size(possible_base)[1])\n",
    "end\n",
    "    \n",
    "function check_base_condition(B, B1, B1_minus_B2, B2_minus_B1)::Bool\n",
    "    for x in B1_minus_B2\n",
    "        found_y = false\n",
    "        for y in B2_minus_B1\n",
    "            B1_minus_x_y = union(setdiff(B1, Set([x])), Set([y]))\n",
    "            if B1_minus_x_y in B\n",
    "                found_y = true\n",
    "                break\n",
    "            end\n",
    "        end\n",
    "        if !found_y\n",
    "            return false\n",
    "        end\n",
    "    end\n",
    "    return true\n",
    "end  "
   ]
  },
  {
   "cell_type": "code",
   "execution_count": 11,
   "metadata": {},
   "outputs": [
    {
     "data": {
      "text/plain": [
       "true"
      ]
     },
     "execution_count": 11,
     "metadata": {},
     "output_type": "execute_result"
    }
   ],
   "source": [
    "is_matroid_bases(all_possible_bases[\"definitely-bases.txt\"])"
   ]
  },
  {
   "cell_type": "code",
   "execution_count": 89,
   "metadata": {},
   "outputs": [
    {
     "data": {
      "text/plain": [
       "check_bases (generic function with 1 method)"
      ]
     },
     "execution_count": 89,
     "metadata": {},
     "output_type": "execute_result"
    }
   ],
   "source": [
    "ordered_keys_of_dict = [\n",
    "    \"definitely-bases.txt\",\n",
    "    \"not-bases-1.txt\",\n",
    "    \"not-bases-2.txt\",\n",
    "    \"252.bases\",\n",
    "    \"417.bases\",\n",
    "    \"462.bases\",\n",
    "    \"1716.bases\",\n",
    "    \"3432.bases\",\n",
    "    \"4092.bases\",\n",
    "    \"4639.bases\",\n",
    "    \"6435.bases\"\n",
    "]\n",
    "\n",
    "function check_bases(all_possible_bases)\n",
    "    for key in ordered_keys_of_dict\n",
    "        t_start = time()\n",
    "        matroid_check = is_matroid_bases(all_possible_bases[key])\n",
    "        t_end = time()\n",
    "        println(\"File \"*key*\" are bases:\"*string(matroid_check)*\". Computed in \"*string(t_end - t_start)*\" seconds\")\n",
    "    end\n",
    "end"
   ]
  },
  {
   "cell_type": "code",
   "execution_count": 90,
   "metadata": {},
   "outputs": [
    {
     "name": "stdout",
     "output_type": "stream",
     "text": [
      "File definitely-bases.txt are bases:true. Computed in 0.00015401840209960938 seconds\n",
      "File not-bases-1.txt are bases:false. Computed in 8.106231689453125e-6 seconds\n",
      "File not-bases-2.txt are bases:false. Computed in 8.106231689453125e-6 seconds\n",
      "File 252.bases are bases:true. Computed in 1.2779061794281006 seconds\n",
      "File 417.bases are bases:false. Computed in 0.4948158264160156 seconds\n",
      "File 462.bases are bases:true. Computed in 7.751794815063477 seconds\n",
      "File 1716.bases are bases:true. Computed in 443.0744779109955 seconds\n",
      "File 3432.bases are bases:true. Computed in 3296.818428993225 seconds\n",
      "File 4092.bases are bases:false. Computed in 84.46415901184082 seconds\n",
      "File 4639.bases are bases:false. Computed in 29.483195066452026 seconds\n",
      "File 6435.bases are bases:true. Computed in 20731.02843284607 seconds\n"
     ]
    }
   ],
   "source": [
    "check_bases(all_possible_bases)"
   ]
  },
  {
   "cell_type": "code",
   "execution_count": 1,
   "metadata": {},
   "outputs": [
    {
     "data": {
      "text/plain": [
       "true"
      ]
     },
     "execution_count": 1,
     "metadata": {},
     "output_type": "execute_result"
    }
   ],
   "source": [
    "!false"
   ]
  }
 ],
 "metadata": {
  "kernelspec": {
   "display_name": "Julia 1.4.1",
   "language": "julia",
   "name": "julia-1.4"
  },
  "language_info": {
   "file_extension": ".jl",
   "mimetype": "application/julia",
   "name": "julia",
   "version": "1.4.1"
  }
 },
 "nbformat": 4,
 "nbformat_minor": 4
}
