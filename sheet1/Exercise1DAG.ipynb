{
 "cells": [
  {
   "cell_type": "code",
   "execution_count": 26,
   "id": "tracked-rental",
   "metadata": {},
   "outputs": [],
   "source": [
    "using LinearAlgebra"
   ]
  },
  {
   "cell_type": "code",
   "execution_count": 3,
   "id": "burning-texture",
   "metadata": {
    "scrolled": true
   },
   "outputs": [
    {
     "data": {
      "text/plain": [
       "3-element Vector{Vector{Int64}}:\n",
       " [1, 2, 3]\n",
       " [4, 5, 6]\n",
       " [7, 8, 9]"
      ]
     },
     "execution_count": 3,
     "metadata": {},
     "output_type": "execute_result"
    }
   ],
   "source": [
    "a = [[1,2,3], [4,5,6],[7,8,9]]"
   ]
  },
  {
   "cell_type": "code",
   "execution_count": 21,
   "id": "gorgeous-stick",
   "metadata": {},
   "outputs": [
    {
     "data": {
      "text/plain": [
       "3-element Vector{Int64}:\n",
       " 3\n",
       " 3\n",
       " 2"
      ]
     },
     "execution_count": 21,
     "metadata": {},
     "output_type": "execute_result"
    }
   ],
   "source": [
    "p1 = [2,3,3]\n",
    "p2 = [3,2,3]\n",
    "p3 = [3,3,2]"
   ]
  },
  {
   "cell_type": "markdown",
   "id": "american-cannon",
   "metadata": {},
   "source": [
    "Use Julia to calculate the equation of the plane through the points $(2,3,3)$, $(3,2,3)$, $(3,3,2)\\in \\mathbb{R}^3$"
   ]
  },
  {
   "cell_type": "code",
   "execution_count": 40,
   "id": "multiple-rider",
   "metadata": {},
   "outputs": [
    {
     "data": {
      "text/plain": [
       "get_plane (generic function with 1 method)"
      ]
     },
     "execution_count": 40,
     "metadata": {},
     "output_type": "execute_result"
    }
   ],
   "source": [
    "function get_plane(p1, p2, p3)\n",
    "    p1p3 = p3 - p1\n",
    "    p1p2 = p2 - p1\n",
    "    plane_normal = cross(p1p3, p1p2)\n",
    "    independent_term = dot(plane_normal, p1)\n",
    "    return append!(plane_normal, -independent_term)\n",
    "end"
   ]
  },
  {
   "cell_type": "code",
   "execution_count": 51,
   "id": "competitive-carol",
   "metadata": {},
   "outputs": [
    {
     "data": {
      "text/plain": [
       "evaluate_point_in_plane (generic function with 1 method)"
      ]
     },
     "execution_count": 51,
     "metadata": {},
     "output_type": "execute_result"
    }
   ],
   "source": [
    "function evaluate_point_in_plane(plane_coordinates, point_coordinates)\n",
    "    return dot(plane_coordinates[1:3], point_coordinates) + plane_coordinates[4]\n",
    "end"
   ]
  },
  {
   "cell_type": "code",
   "execution_count": 52,
   "id": "geographic-support",
   "metadata": {},
   "outputs": [
    {
     "data": {
      "text/plain": [
       "4-element Vector{Int64}:\n",
       " -1\n",
       " -1\n",
       " -1\n",
       "  8"
      ]
     },
     "execution_count": 52,
     "metadata": {},
     "output_type": "execute_result"
    }
   ],
   "source": [
    "plane_created = get_plane(p1, p2, p3)"
   ]
  },
  {
   "cell_type": "code",
   "execution_count": 57,
   "id": "incomplete-outreach",
   "metadata": {},
   "outputs": [
    {
     "name": "stdout",
     "output_type": "stream",
     "text": [
      "Point [2, 3, 3] gives value in plane function: 0\n",
      "Point [3, 2, 3] gives value in plane function: 0\n",
      "Point [3, 3, 2] gives value in plane function: 0\n"
     ]
    }
   ],
   "source": [
    "for p in [p1,p2,p3]\n",
    "    println(\"Point \", p, \" gives value in plane function: \", evaluate_point_in_plane(plane_created, p))\n",
    "end"
   ]
  }
 ],
 "metadata": {
  "kernelspec": {
   "display_name": "Julia 1.6.2",
   "language": "julia",
   "name": "julia-1.6"
  },
  "language_info": {
   "file_extension": ".jl",
   "mimetype": "application/julia",
   "name": "julia",
   "version": "1.6.2"
  }
 },
 "nbformat": 4,
 "nbformat_minor": 5
}
