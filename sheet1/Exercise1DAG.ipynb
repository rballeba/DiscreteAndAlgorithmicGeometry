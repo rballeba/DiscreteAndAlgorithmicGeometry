{
 "cells": [
  {
   "cell_type": "code",
   "execution_count": 1,
   "source": [
    "using LinearAlgebra"
   ],
   "outputs": [],
   "metadata": {}
  },
  {
   "cell_type": "code",
   "execution_count": 2,
   "source": [
    "a = [[1,2,3], [4,5,6],[7,8,9]]"
   ],
   "outputs": [
    {
     "output_type": "execute_result",
     "data": {
      "text/plain": [
       "3-element Array{Array{Int64,1},1}:\n",
       " [1, 2, 3]\n",
       " [4, 5, 6]\n",
       " [7, 8, 9]"
      ]
     },
     "metadata": {},
     "execution_count": 2
    }
   ],
   "metadata": {
    "scrolled": true
   }
  },
  {
   "cell_type": "code",
   "execution_count": 3,
   "source": [
    "p1 = [2,3,3]\n",
    "p2 = [3,2,3]\n",
    "p3 = [3,3,2]"
   ],
   "outputs": [
    {
     "output_type": "execute_result",
     "data": {
      "text/plain": [
       "3-element Array{Int64,1}:\n",
       " 3\n",
       " 3\n",
       " 2"
      ]
     },
     "metadata": {},
     "execution_count": 3
    }
   ],
   "metadata": {}
  },
  {
   "cell_type": "markdown",
   "source": [
    "Use Julia to calculate the equation of the plane through the points $(2,3,3)$, $(3,2,3)$, $(3,3,2)\\in \\mathbb{R}^3$"
   ],
   "metadata": {}
  },
  {
   "cell_type": "code",
   "execution_count": 7,
   "source": [
    "function get_plane(p1, p2, p3)\n",
    "    p1p3 = p3 - p1\n",
    "    p1p2 = p2 - p1\n",
    "    plane_normal = cross(p1p3, p1p2)\n",
    "    independent_term = dot(plane_normal, p1)\n",
    "    return append!(plane_normal, -independent_term)\n",
    "end"
   ],
   "outputs": [
    {
     "output_type": "execute_result",
     "data": {
      "text/plain": [
       "get_plane (generic function with 1 method)"
      ]
     },
     "metadata": {},
     "execution_count": 7
    }
   ],
   "metadata": {}
  },
  {
   "cell_type": "code",
   "execution_count": 8,
   "source": [
    "function evaluate_point_in_plane(plane_coordinates, point_coordinates)\n",
    "    return dot(plane_coordinates[1:3], point_coordinates) + plane_coordinates[4]\n",
    "end"
   ],
   "outputs": [
    {
     "output_type": "execute_result",
     "data": {
      "text/plain": [
       "evaluate_point_in_plane (generic function with 1 method)"
      ]
     },
     "metadata": {},
     "execution_count": 8
    }
   ],
   "metadata": {}
  },
  {
   "cell_type": "code",
   "execution_count": 9,
   "source": [
    "plane_created = get_plane(p1, p2, p3)"
   ],
   "outputs": [
    {
     "output_type": "execute_result",
     "data": {
      "text/plain": [
       "4-element Array{Int64,1}:\n",
       " -1\n",
       " -1\n",
       " -1\n",
       "  8"
      ]
     },
     "metadata": {},
     "execution_count": 9
    }
   ],
   "metadata": {}
  },
  {
   "cell_type": "code",
   "execution_count": 10,
   "source": [
    "for p in [p1,p2,p3]\n",
    "    println(\"Point \", p, \" gives value in plane function: \", evaluate_point_in_plane(plane_created, p))\n",
    "end"
   ],
   "outputs": [
    {
     "output_type": "stream",
     "name": "stdout",
     "text": [
      "Point [2, 3, 3] gives value in plane function: 0\n",
      "Point [3, 2, 3] gives value in plane function: 0\n",
      "Point [3, 3, 2] gives value in plane function: 0\n"
     ]
    }
   ],
   "metadata": {}
  }
 ],
 "metadata": {
  "kernelspec": {
   "display_name": "Julia 1.4.1",
   "language": "julia",
   "name": "julia-1.4"
  },
  "language_info": {
   "file_extension": ".jl",
   "name": "julia",
   "mimetype": "application/julia",
   "version": "1.4.1"
  }
 },
 "nbformat": 4,
 "nbformat_minor": 5
}