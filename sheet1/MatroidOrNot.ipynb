{
 "cells": [
  {
   "cell_type": "code",
   "execution_count": 29,
   "metadata": {},
   "outputs": [
    {
     "name": "stderr",
     "output_type": "stream",
     "text": [
      "\u001b[32m\u001b[1m   Updating\u001b[22m\u001b[39m registry at `~/.julia/registries/General`\n"
     ]
    },
    {
     "name": "stdout",
     "output_type": "stream",
     "text": [
      "\u001b[?25l\u001b[2K"
     ]
    },
    {
     "name": "stderr",
     "output_type": "stream",
     "text": [
      "\u001b[32m\u001b[1m   Updating\u001b[22m\u001b[39m git-repo `https://github.com/JuliaRegistries/General.git`\n"
     ]
    },
    {
     "name": "stdout",
     "output_type": "stream",
     "text": [
      "\u001b[?25h"
     ]
    },
    {
     "name": "stderr",
     "output_type": "stream",
     "text": [
      "\u001b[32m\u001b[1m  Resolving\u001b[22m\u001b[39m package versions...\n",
      "\u001b[32m\u001b[1m   Updating\u001b[22m\u001b[39m `~/.julia/environments/v1.4/Project.toml`\n",
      "\u001b[90m [no changes]\u001b[39m\n",
      "\u001b[32m\u001b[1m   Updating\u001b[22m\u001b[39m `~/.julia/environments/v1.4/Manifest.toml`\n",
      "\u001b[90m [no changes]\u001b[39m\n",
      "\u001b[32m\u001b[1m  Resolving\u001b[22m\u001b[39m package versions...\n",
      "\u001b[32m\u001b[1m   Updating\u001b[22m\u001b[39m `~/.julia/environments/v1.4/Project.toml`\n",
      "\u001b[90m [no changes]\u001b[39m\n",
      "\u001b[32m\u001b[1m   Updating\u001b[22m\u001b[39m `~/.julia/environments/v1.4/Manifest.toml`\n",
      "\u001b[90m [no changes]\u001b[39m\n",
      "\u001b[32m\u001b[1m  Resolving\u001b[22m\u001b[39m package versions...\n",
      "\u001b[32m\u001b[1m   Updating\u001b[22m\u001b[39m `~/.julia/environments/v1.4/Project.toml`\n",
      "\u001b[90m [no changes]\u001b[39m\n",
      "\u001b[32m\u001b[1m   Updating\u001b[22m\u001b[39m `~/.julia/environments/v1.4/Manifest.toml`\n",
      "\u001b[90m [no changes]\u001b[39m\n",
      "\u001b[32m\u001b[1m  Resolving\u001b[22m\u001b[39m package versions...\n",
      "\u001b[32m\u001b[1m  Installed\u001b[22m\u001b[39m Combinatorics ─ v1.0.2\n",
      "\u001b[32m\u001b[1m   Updating\u001b[22m\u001b[39m `~/.julia/environments/v1.4/Project.toml`\n",
      " \u001b[90m [861a8166]\u001b[39m\u001b[92m + Combinatorics v1.0.2\u001b[39m\n",
      "\u001b[32m\u001b[1m   Updating\u001b[22m\u001b[39m `~/.julia/environments/v1.4/Manifest.toml`\n",
      " \u001b[90m [861a8166]\u001b[39m\u001b[92m + Combinatorics v1.0.2\u001b[39m\n"
     ]
    }
   ],
   "source": [
    "import Pkg;\n",
    "Pkg.add(\"CSV\");\n",
    "Pkg.add(\"uCSV\");\n",
    "Pkg.add(\"DataFrames\")\n",
    "Pkg.add(\"Combinatorics\")"
   ]
  },
  {
   "cell_type": "code",
   "execution_count": 30,
   "metadata": {},
   "outputs": [
    {
     "name": "stderr",
     "output_type": "stream",
     "text": [
      "┌ Info: Precompiling Combinatorics [861a8166-3701-5b0c-9a16-15d98fcdc6aa]\n",
      "└ @ Base loading.jl:1260\n"
     ]
    }
   ],
   "source": [
    "using CSV, DataFrames;\n",
    "using Combinatorics;"
   ]
  },
  {
   "cell_type": "code",
   "execution_count": 10,
   "metadata": {},
   "outputs": [
    {
     "data": {
      "text/plain": [
       "build_possible_bases_from_file (generic function with 1 method)"
      ]
     },
     "execution_count": 10,
     "metadata": {},
     "output_type": "execute_result"
    }
   ],
   "source": [
    "# The CSV files must not have comments. This is due to limitations of the CSV readers in the Julia language.\n",
    "\n",
    "function build_possible_bases_from_file(filepath::AbstractString)\n",
    "    raw_bases = CSV.read(filepath, DataFrame; delim=' ', header=0)\n",
    "    raw_bases_cols = ncol(raw_bases)\n",
    "    if first(raw_bases[:,raw_bases_cols]) === missing\n",
    "        # Bad column\n",
    "        return Matrix(raw_bases[:,1:raw_bases_cols - 1])\n",
    "    end\n",
    "    return Matrix(raw_bases)\n",
    "end"
   ]
  },
  {
   "cell_type": "code",
   "execution_count": 11,
   "metadata": {},
   "outputs": [
    {
     "data": {
      "text/plain": [
       "get_all_bases (generic function with 1 method)"
      ]
     },
     "execution_count": 11,
     "metadata": {},
     "output_type": "execute_result"
    }
   ],
   "source": [
    "function get_all_bases(folder_path::AbstractString)\n",
    "    all_bases_filenames = readdir(folder_path)\n",
    "    complete_bases_filepaths = map(filepath-> folder_path * '/' * filepath, all_bases_filenames)\n",
    "    possibly_matroid_bases = map(build_possible_bases_from_file, complete_bases_filepaths)\n",
    "    return Dict(zip(all_bases_filenames, possibly_matroid_bases))\n",
    "end"
   ]
  },
  {
   "cell_type": "code",
   "execution_count": 47,
   "metadata": {},
   "outputs": [
    {
     "data": {
      "text/plain": [
       "Dict{String,Array{Int64,2}} with 12 entries:\n",
       "  \"417.bases\"            => [14 4 … 8 10; 14 3 … 9 10; … ; 14 4 … 9 10; 14 4 … …\n",
       "  \"not-bases-1.txt\"      => [1 2; 3 4]\n",
       "  \"462.bases\"            => [1 2 … 9 10; 2 4 … 8 11; … ; 2 3 … 9 10; 3 5 … 8 9]\n",
       "  \"6435.bases\"           => [3 5 … 13 15; 1 2 … 10 13; … ; 1 2 … 10 13; 1 2 … 1…\n",
       "  \"4639.bases\"           => [16 5 12 7; 18 15 5 6; … ; 12 16 1 9; 15 1 18 8]\n",
       "  \"924.bases\"            => [1 2 … 9 12; 1 3 … 8 9; … ; 2 4 … 9 12; 1 3 … 8 10]\n",
       "  \"3432.bases\"           => [1 7 … 11 14; 1 2 … 10 11; … ; 1 3 … 9 10; 1 2 … 12…\n",
       "  \"252.bases\"            => [1 5 … 7 8; 1 2 … 8 10; … ; 1 4 … 8 10; 2 5 … 7 9]\n",
       "  \"1716.bases\"           => [5 7 … 11 13; 2 3 … 8 9; … ; 5 6 … 11 13; 2 3 … 12 …\n",
       "  \"definitely-bases.txt\" => [1 2 4; 1 2 5; … ; 2 3 5; 2 4 5]\n",
       "  \"4092.bases\"           => [14 11 … 5 8; 15 11 … 5 8; … ; 15 12 … 3 6; 15 12 ……\n",
       "  \"not-bases-2.txt\"      => [1 2 4; 2 4 5; 2 3 5]"
      ]
     },
     "execution_count": 47,
     "metadata": {},
     "output_type": "execute_result"
    }
   ],
   "source": [
    "all_bases = get_all_bases(\"./matroid-or-not\")"
   ]
  },
  {
   "cell_type": "code",
   "execution_count": 37,
   "metadata": {},
   "outputs": [
    {
     "data": {
      "text/plain": [
       "417"
      ]
     },
     "execution_count": 37,
     "metadata": {},
     "output_type": "execute_result"
    }
   ],
   "source": [
    "size(all_bases[\"417.bases\"])[1]"
   ]
  },
  {
   "cell_type": "code",
   "execution_count": 107,
   "metadata": {},
   "outputs": [
    {
     "data": {
      "text/plain": [
       "check_base_condition (generic function with 1 method)"
      ]
     },
     "execution_count": 107,
     "metadata": {},
     "output_type": "execute_result"
    }
   ],
   "source": [
    "function is_matroid(possible_base:: AbstractMatrix)::Bool\n",
    "    found_counterexample = false\n",
    "    B = get_B_from_possible_base_matrix(possible_base)\n",
    "    possible_B1_B2 = collect(combinations(collect(B), 2))\n",
    "    for (B1, B2) in possible_B1_B2\n",
    "        B1_minus_B2 = setdiff(B1, B2)\n",
    "        B2_minus_B1 = setdiff(B2, B1)\n",
    "        if check_base_condition(B1, B1_minus_B2, B2_minus_B1) == false || \n",
    "            check_base_condition(B2, B2_minus_B1, B1_minus_B2) == false\n",
    "            return false\n",
    "        end\n",
    "    end\n",
    "    return true\n",
    "end\n",
    "    \n",
    "function get_B_from_possible_base_matrix(possible_base::AbstractMatrix)\n",
    "    return Set(map(row_idx -> Set(possible_base[row_idx,:]), 1:size(possible_base)[1]))\n",
    "end\n",
    "    \n",
    "function check_base_condition(B1, B1_minus_B2, B2_minus_B1)::Bool\n",
    "    found_y = false\n",
    "    for x in B1_minus_B2, y in B2_minus_B1\n",
    "        B1_minus_x_y = setdiff(B1, Set([x, y]))\n",
    "        if B1_minus_x_y in B\n",
    "            found = true\n",
    "            break\n",
    "        end\n",
    "    end\n",
    "    if !found_y\n",
    "        println(\"Hey, something working badly\")\n",
    "        println(B1, B1_minus_B2, B2_minus_B1)\n",
    "    end\n",
    "    return found_y\n",
    "end  "
   ]
  },
  {
   "cell_type": "code",
   "execution_count": 108,
   "metadata": {},
   "outputs": [
    {
     "name": "stdout",
     "output_type": "stream",
     "text": [
      "Hey, something working badly\n",
      "Set([4, 2, 5])Set([4, 2])Set([3, 1])\n"
     ]
    },
    {
     "data": {
      "text/plain": [
       "false"
      ]
     },
     "execution_count": 108,
     "metadata": {},
     "output_type": "execute_result"
    }
   ],
   "source": [
    "is_matroid(all_bases[\"definitely-bases.txt\"])"
   ]
  },
  {
   "cell_type": "code",
   "execution_count": 101,
   "metadata": {},
   "outputs": [
    {
     "data": {
      "text/plain": [
       "check_bases (generic function with 1 method)"
      ]
     },
     "execution_count": 101,
     "metadata": {},
     "output_type": "execute_result"
    }
   ],
   "source": [
    "function check_bases(all_bases)\n",
    "    for (key, value) in all_bases\n",
    "        matroid_check = is_matroid(value)\n",
    "        println(\"File \"*key*\" is matroid:\"*string(matroid_check))\n",
    "    end\n",
    "end"
   ]
  },
  {
   "cell_type": "code",
   "execution_count": 102,
   "metadata": {},
   "outputs": [
    {
     "name": "stdout",
     "output_type": "stream",
     "text": [
      "File 417.bases is matroid:false\n",
      "File not-bases-1.txt is matroid:false\n",
      "File 462.bases is matroid:false\n",
      "File 6435.bases is matroid:false\n",
      "File 4639.bases is matroid:false\n",
      "File 924.bases is matroid:false\n",
      "File 3432.bases is matroid:false\n",
      "File 252.bases is matroid:false\n",
      "File 1716.bases is matroid:false\n",
      "File definitely-bases.txt is matroid:false\n",
      "File 4092.bases is matroid:false\n",
      "File not-bases-2.txt is matroid:false\n"
     ]
    }
   ],
   "source": [
    "check_bases(all_bases)"
   ]
  }
 ],
 "metadata": {
  "kernelspec": {
   "display_name": "Julia 1.4.1",
   "language": "julia",
   "name": "julia-1.4"
  },
  "language_info": {
   "file_extension": ".jl",
   "mimetype": "application/julia",
   "name": "julia",
   "version": "1.4.1"
  }
 },
 "nbformat": 4,
 "nbformat_minor": 4
}
