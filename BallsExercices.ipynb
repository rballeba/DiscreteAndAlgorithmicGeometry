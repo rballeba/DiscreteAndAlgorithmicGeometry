{
 "cells": [
  {
   "cell_type": "code",
   "execution_count": 1,
   "source": [
    "import numpy as np"
   ],
   "outputs": [],
   "metadata": {}
  },
  {
   "cell_type": "code",
   "execution_count": 2,
   "source": [
    "for d in range(1, 11):\r\n",
    "    r_c = (np.sqrt(d)/2.0)\r\n",
    "    r_0 = r_c - 0.5\r\n",
    "    print(f'Dimension {d}: r_0: {r_0} | r_c = {r_c}')"
   ],
   "outputs": [
    {
     "output_type": "stream",
     "name": "stdout",
     "text": [
      "Dimension 1: r_0: 0.0 | r_c = 0.5\n",
      "Dimension 2: r_0: 0.20710678118654757 | r_c = 0.7071067811865476\n",
      "Dimension 3: r_0: 0.3660254037844386 | r_c = 0.8660254037844386\n",
      "Dimension 4: r_0: 0.5 | r_c = 1.0\n",
      "Dimension 5: r_0: 0.6180339887498949 | r_c = 1.118033988749895\n",
      "Dimension 6: r_0: 0.7247448713915889 | r_c = 1.224744871391589\n",
      "Dimension 7: r_0: 0.8228756555322954 | r_c = 1.3228756555322954\n",
      "Dimension 8: r_0: 0.9142135623730951 | r_c = 1.4142135623730951\n",
      "Dimension 9: r_0: 1.0 | r_c = 1.5\n",
      "Dimension 10: r_0: 1.0811388300841898 | r_c = 1.5811388300841898\n"
     ]
    }
   ],
   "metadata": {}
  },
  {
   "cell_type": "code",
   "execution_count": 9,
   "source": [
    "dimensions = [10, 10**5, 10**50]"
   ],
   "outputs": [],
   "metadata": {}
  },
  {
   "cell_type": "code",
   "execution_count": 11,
   "source": [
    "for d in dimensions:\r\n",
    "    r_0 = (d/2.0) - 0.5\r\n",
    "    print(f'The radius of the center ball for dimension {d} is {r_0}')"
   ],
   "outputs": [
    {
     "output_type": "stream",
     "name": "stdout",
     "text": [
      "The radius of the center ball for dimension 10 is 4.5\n",
      "The radius of the center ball for dimension 100000 is 49999.5\n",
      "The radius of the center ball for dimension 100000000000000000000000000000000000000000000000000 is 5e+49\n"
     ]
    }
   ],
   "metadata": {}
  },
  {
   "cell_type": "code",
   "execution_count": null,
   "source": [],
   "outputs": [],
   "metadata": {}
  },
  {
   "cell_type": "code",
   "execution_count": null,
   "source": [],
   "outputs": [],
   "metadata": {}
  }
 ],
 "metadata": {
  "kernelspec": {
   "name": "python3",
   "display_name": "Python 3.8.6rc1 64-bit (system)"
  },
  "language_info": {
   "name": "python",
   "version": "3.8.6",
   "mimetype": "text/x-python",
   "codemirror_mode": {
    "name": "ipython",
    "version": 3
   },
   "pygments_lexer": "ipython3",
   "nbconvert_exporter": "python",
   "file_extension": ".py"
  },
  "interpreter": {
   "hash": "92638515a9391cb58a1112a0ea4d82d18b056cf97e86bb99dae683245c94dbde"
  }
 },
 "nbformat": 4,
 "nbformat_minor": 5
}